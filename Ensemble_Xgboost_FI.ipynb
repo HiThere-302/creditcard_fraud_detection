{
 "cells": [
  {
   "cell_type": "code",
   "execution_count": 45,
   "metadata": {},
   "outputs": [],
   "source": [
    "import pandas as pd\n",
    "import numpy as np\n",
    "from sklearn.preprocessing import MaxAbsScaler\n",
    "\n",
    "from sklearn.neighbors import KNeighborsClassifier\n",
    "import xgboost \n",
    "from sklearn.model_selection import StratifiedShuffleSplit, cross_val_score\n",
    "from sklearn.metrics import f1_score, confusion_matrix, ConfusionMatrixDisplay\n",
    "\n",
    "import optuna\n"
   ]
  },
  {
   "cell_type": "code",
   "execution_count": 4,
   "metadata": {},
   "outputs": [],
   "source": [
    "train = pd.read_csv('data/train.csv')\n",
    "val = pd.read_csv('data/val.csv')\n",
    "test = pd.read_csv('data/test.csv')"
   ]
  },
  {
   "cell_type": "code",
   "execution_count": 5,
   "metadata": {},
   "outputs": [],
   "source": [
    "# Class와 feature의 상관관계를 바탕으로 선별된 15개의 feature\n",
    "USE_FEATURES = ['V1', 'V2', 'V3', 'V4', 'V5', 'V6', 'V7', 'V9', 'V10', 'V11', 'V12', 'V14', 'V16', 'V17', 'V18']"
   ]
  },
  {
   "cell_type": "code",
   "execution_count": 6,
   "metadata": {},
   "outputs": [],
   "source": [
    "# MaxAbsScaler 적용\n",
    "SCALER = MaxAbsScaler()\n",
    "SCALER.fit(train[USE_FEATURES])\n",
    "train[USE_FEATURES] = SCALER.transform(train[USE_FEATURES])\n",
    "val[USE_FEATURES] = SCALER.transform(val[USE_FEATURES])"
   ]
  },
  {
   "cell_type": "code",
   "execution_count": 7,
   "metadata": {},
   "outputs": [],
   "source": [
    "train_df = train[USE_FEATURES]\n",
    "val_df = val[USE_FEATURES]\n",
    "val_label = val['Class']"
   ]
  },
  {
   "attachments": {},
   "cell_type": "markdown",
   "metadata": {},
   "source": [
    "KNN을 validation 데이터셋에 적합시키고 train 데이터셋의 정상/사기 여부를 예측한다."
   ]
  },
  {
   "cell_type": "code",
   "execution_count": 8,
   "metadata": {},
   "outputs": [
    {
     "data": {
      "text/html": [
       "<style>#sk-container-id-1 {color: black;background-color: white;}#sk-container-id-1 pre{padding: 0;}#sk-container-id-1 div.sk-toggleable {background-color: white;}#sk-container-id-1 label.sk-toggleable__label {cursor: pointer;display: block;width: 100%;margin-bottom: 0;padding: 0.3em;box-sizing: border-box;text-align: center;}#sk-container-id-1 label.sk-toggleable__label-arrow:before {content: \"▸\";float: left;margin-right: 0.25em;color: #696969;}#sk-container-id-1 label.sk-toggleable__label-arrow:hover:before {color: black;}#sk-container-id-1 div.sk-estimator:hover label.sk-toggleable__label-arrow:before {color: black;}#sk-container-id-1 div.sk-toggleable__content {max-height: 0;max-width: 0;overflow: hidden;text-align: left;background-color: #f0f8ff;}#sk-container-id-1 div.sk-toggleable__content pre {margin: 0.2em;color: black;border-radius: 0.25em;background-color: #f0f8ff;}#sk-container-id-1 input.sk-toggleable__control:checked~div.sk-toggleable__content {max-height: 200px;max-width: 100%;overflow: auto;}#sk-container-id-1 input.sk-toggleable__control:checked~label.sk-toggleable__label-arrow:before {content: \"▾\";}#sk-container-id-1 div.sk-estimator input.sk-toggleable__control:checked~label.sk-toggleable__label {background-color: #d4ebff;}#sk-container-id-1 div.sk-label input.sk-toggleable__control:checked~label.sk-toggleable__label {background-color: #d4ebff;}#sk-container-id-1 input.sk-hidden--visually {border: 0;clip: rect(1px 1px 1px 1px);clip: rect(1px, 1px, 1px, 1px);height: 1px;margin: -1px;overflow: hidden;padding: 0;position: absolute;width: 1px;}#sk-container-id-1 div.sk-estimator {font-family: monospace;background-color: #f0f8ff;border: 1px dotted black;border-radius: 0.25em;box-sizing: border-box;margin-bottom: 0.5em;}#sk-container-id-1 div.sk-estimator:hover {background-color: #d4ebff;}#sk-container-id-1 div.sk-parallel-item::after {content: \"\";width: 100%;border-bottom: 1px solid gray;flex-grow: 1;}#sk-container-id-1 div.sk-label:hover label.sk-toggleable__label {background-color: #d4ebff;}#sk-container-id-1 div.sk-serial::before {content: \"\";position: absolute;border-left: 1px solid gray;box-sizing: border-box;top: 0;bottom: 0;left: 50%;z-index: 0;}#sk-container-id-1 div.sk-serial {display: flex;flex-direction: column;align-items: center;background-color: white;padding-right: 0.2em;padding-left: 0.2em;position: relative;}#sk-container-id-1 div.sk-item {position: relative;z-index: 1;}#sk-container-id-1 div.sk-parallel {display: flex;align-items: stretch;justify-content: center;background-color: white;position: relative;}#sk-container-id-1 div.sk-item::before, #sk-container-id-1 div.sk-parallel-item::before {content: \"\";position: absolute;border-left: 1px solid gray;box-sizing: border-box;top: 0;bottom: 0;left: 50%;z-index: -1;}#sk-container-id-1 div.sk-parallel-item {display: flex;flex-direction: column;z-index: 1;position: relative;background-color: white;}#sk-container-id-1 div.sk-parallel-item:first-child::after {align-self: flex-end;width: 50%;}#sk-container-id-1 div.sk-parallel-item:last-child::after {align-self: flex-start;width: 50%;}#sk-container-id-1 div.sk-parallel-item:only-child::after {width: 0;}#sk-container-id-1 div.sk-dashed-wrapped {border: 1px dashed gray;margin: 0 0.4em 0.5em 0.4em;box-sizing: border-box;padding-bottom: 0.4em;background-color: white;}#sk-container-id-1 div.sk-label label {font-family: monospace;font-weight: bold;display: inline-block;line-height: 1.2em;}#sk-container-id-1 div.sk-label-container {text-align: center;}#sk-container-id-1 div.sk-container {/* jupyter's `normalize.less` sets `[hidden] { display: none; }` but bootstrap.min.css set `[hidden] { display: none !important; }` so we also need the `!important` here to be able to override the default hidden behavior on the sphinx rendered scikit-learn.org. See: https://github.com/scikit-learn/scikit-learn/issues/21755 */display: inline-block !important;position: relative;}#sk-container-id-1 div.sk-text-repr-fallback {display: none;}</style><div id=\"sk-container-id-1\" class=\"sk-top-container\"><div class=\"sk-text-repr-fallback\"><pre>KNeighborsClassifier(algorithm=&#x27;brute&#x27;, n_jobs=-1, n_neighbors=1,\n",
       "                     weights=&#x27;distance&#x27;)</pre><b>In a Jupyter environment, please rerun this cell to show the HTML representation or trust the notebook. <br />On GitHub, the HTML representation is unable to render, please try loading this page with nbviewer.org.</b></div><div class=\"sk-container\" hidden><div class=\"sk-item\"><div class=\"sk-estimator sk-toggleable\"><input class=\"sk-toggleable__control sk-hidden--visually\" id=\"sk-estimator-id-1\" type=\"checkbox\" checked><label for=\"sk-estimator-id-1\" class=\"sk-toggleable__label sk-toggleable__label-arrow\">KNeighborsClassifier</label><div class=\"sk-toggleable__content\"><pre>KNeighborsClassifier(algorithm=&#x27;brute&#x27;, n_jobs=-1, n_neighbors=1,\n",
       "                     weights=&#x27;distance&#x27;)</pre></div></div></div></div></div>"
      ],
      "text/plain": [
       "KNeighborsClassifier(algorithm='brute', n_jobs=-1, n_neighbors=1,\n",
       "                     weights='distance')"
      ]
     },
     "execution_count": 8,
     "metadata": {},
     "output_type": "execute_result"
    }
   ],
   "source": [
    "knn = KNeighborsClassifier(n_neighbors=1, weights='distance', algorithm='brute', n_jobs=-1)\n",
    "knn.fit(val_df.values, val_label.values)"
   ]
  },
  {
   "cell_type": "code",
   "execution_count": 9,
   "metadata": {},
   "outputs": [],
   "source": [
    "probs = knn.predict_proba(train_df.values)"
   ]
  },
  {
   "cell_type": "code",
   "execution_count": 10,
   "metadata": {},
   "outputs": [
    {
     "name": "stderr",
     "output_type": "stream",
     "text": [
      "c:\\Users\\pc\\anaconda3\\envs\\myenv\\lib\\site-packages\\sklearn\\base.py:432: UserWarning: X has feature names, but KNeighborsClassifier was fitted without feature names\n",
      "  warnings.warn(\n"
     ]
    }
   ],
   "source": [
    "train_label = knn.predict(train_df)"
   ]
  },
  {
   "cell_type": "code",
   "execution_count": 11,
   "metadata": {},
   "outputs": [
    {
     "name": "stderr",
     "output_type": "stream",
     "text": [
      "C:\\Users\\pc\\AppData\\Local\\Temp\\ipykernel_14344\\2737084557.py:1: SettingWithCopyWarning: \n",
      "A value is trying to be set on a copy of a slice from a DataFrame.\n",
      "Try using .loc[row_indexer,col_indexer] = value instead\n",
      "\n",
      "See the caveats in the documentation: https://pandas.pydata.org/pandas-docs/stable/user_guide/indexing.html#returning-a-view-versus-a-copy\n",
      "  train_df['Class'] = train_label\n"
     ]
    },
    {
     "data": {
      "text/plain": [
       "0    113721\n",
       "1       121\n",
       "Name: Class, dtype: int64"
      ]
     },
     "execution_count": 11,
     "metadata": {},
     "output_type": "execute_result"
    }
   ],
   "source": [
    "train_df['Class'] = train_label\n",
    "train_df['Class'].value_counts()"
   ]
  },
  {
   "attachments": {},
   "cell_type": "markdown",
   "metadata": {},
   "source": [
    "train 데이터셋에 총 121개의 사기 데이터가 존재하는 것으로 예측하였다."
   ]
  },
  {
   "cell_type": "code",
   "execution_count": 12,
   "metadata": {},
   "outputs": [
    {
     "data": {
      "text/html": [
       "<div>\n",
       "<style scoped>\n",
       "    .dataframe tbody tr th:only-of-type {\n",
       "        vertical-align: middle;\n",
       "    }\n",
       "\n",
       "    .dataframe tbody tr th {\n",
       "        vertical-align: top;\n",
       "    }\n",
       "\n",
       "    .dataframe thead th {\n",
       "        text-align: right;\n",
       "    }\n",
       "</style>\n",
       "<table border=\"1\" class=\"dataframe\">\n",
       "  <thead>\n",
       "    <tr style=\"text-align: right;\">\n",
       "      <th></th>\n",
       "      <th>V1</th>\n",
       "      <th>V2</th>\n",
       "      <th>V3</th>\n",
       "      <th>V4</th>\n",
       "      <th>V5</th>\n",
       "      <th>V6</th>\n",
       "      <th>V7</th>\n",
       "      <th>V9</th>\n",
       "      <th>V10</th>\n",
       "      <th>V11</th>\n",
       "      <th>V12</th>\n",
       "      <th>V14</th>\n",
       "      <th>V16</th>\n",
       "      <th>V17</th>\n",
       "      <th>V18</th>\n",
       "      <th>Class</th>\n",
       "    </tr>\n",
       "  </thead>\n",
       "  <tbody>\n",
       "    <tr>\n",
       "      <th>0</th>\n",
       "      <td>-0.024081</td>\n",
       "      <td>-0.018430</td>\n",
       "      <td>0.054637</td>\n",
       "      <td>0.023029</td>\n",
       "      <td>-0.011939</td>\n",
       "      <td>0.068825</td>\n",
       "      <td>0.017966</td>\n",
       "      <td>-0.112747</td>\n",
       "      <td>0.008509</td>\n",
       "      <td>0.059779</td>\n",
       "      <td>0.003562</td>\n",
       "      <td>-0.010622</td>\n",
       "      <td>-0.217236</td>\n",
       "      <td>0.052116</td>\n",
       "      <td>-0.014000</td>\n",
       "      <td>0</td>\n",
       "    </tr>\n",
       "    <tr>\n",
       "      <th>1</th>\n",
       "      <td>-0.017130</td>\n",
       "      <td>-0.002547</td>\n",
       "      <td>0.055247</td>\n",
       "      <td>-0.052349</td>\n",
       "      <td>-0.000245</td>\n",
       "      <td>0.047675</td>\n",
       "      <td>0.005394</td>\n",
       "      <td>-0.103247</td>\n",
       "      <td>-0.002252</td>\n",
       "      <td>-0.021680</td>\n",
       "      <td>0.009606</td>\n",
       "      <td>-0.018429</td>\n",
       "      <td>-0.079649</td>\n",
       "      <td>-0.032120</td>\n",
       "      <td>0.226764</td>\n",
       "      <td>0</td>\n",
       "    </tr>\n",
       "    <tr>\n",
       "      <th>2</th>\n",
       "      <td>-0.007552</td>\n",
       "      <td>0.013209</td>\n",
       "      <td>0.035161</td>\n",
       "      <td>-0.010203</td>\n",
       "      <td>0.009988</td>\n",
       "      <td>-0.001136</td>\n",
       "      <td>0.010809</td>\n",
       "      <td>-0.042331</td>\n",
       "      <td>-0.015220</td>\n",
       "      <td>0.128389</td>\n",
       "      <td>0.019397</td>\n",
       "      <td>-0.008778</td>\n",
       "      <td>0.030196</td>\n",
       "      <td>-0.002730</td>\n",
       "      <td>0.007920</td>\n",
       "      <td>0</td>\n",
       "    </tr>\n",
       "    <tr>\n",
       "      <th>3</th>\n",
       "      <td>-0.011422</td>\n",
       "      <td>0.019500</td>\n",
       "      <td>0.033105</td>\n",
       "      <td>-0.029846</td>\n",
       "      <td>0.022514</td>\n",
       "      <td>0.016365</td>\n",
       "      <td>0.025437</td>\n",
       "      <td>0.045807</td>\n",
       "      <td>0.051197</td>\n",
       "      <td>-0.059297</td>\n",
       "      <td>0.015710</td>\n",
       "      <td>-0.084737</td>\n",
       "      <td>-0.005722</td>\n",
       "      <td>-0.057383</td>\n",
       "      <td>-0.041323</td>\n",
       "      <td>0</td>\n",
       "    </tr>\n",
       "    <tr>\n",
       "      <th>4</th>\n",
       "      <td>-0.015854</td>\n",
       "      <td>0.003935</td>\n",
       "      <td>-0.003488</td>\n",
       "      <td>-0.016465</td>\n",
       "      <td>0.063339</td>\n",
       "      <td>0.142269</td>\n",
       "      <td>0.008402</td>\n",
       "      <td>-0.029183</td>\n",
       "      <td>-0.016819</td>\n",
       "      <td>-0.067496</td>\n",
       "      <td>-0.005953</td>\n",
       "      <td>0.004759</td>\n",
       "      <td>-0.015791</td>\n",
       "      <td>-0.023466</td>\n",
       "      <td>0.013700</td>\n",
       "      <td>0</td>\n",
       "    </tr>\n",
       "  </tbody>\n",
       "</table>\n",
       "</div>"
      ],
      "text/plain": [
       "         V1        V2        V3        V4        V5        V6        V7  \\\n",
       "0 -0.024081 -0.018430  0.054637  0.023029 -0.011939  0.068825  0.017966   \n",
       "1 -0.017130 -0.002547  0.055247 -0.052349 -0.000245  0.047675  0.005394   \n",
       "2 -0.007552  0.013209  0.035161 -0.010203  0.009988 -0.001136  0.010809   \n",
       "3 -0.011422  0.019500  0.033105 -0.029846  0.022514  0.016365  0.025437   \n",
       "4 -0.015854  0.003935 -0.003488 -0.016465  0.063339  0.142269  0.008402   \n",
       "\n",
       "         V9       V10       V11       V12       V14       V16       V17  \\\n",
       "0 -0.112747  0.008509  0.059779  0.003562 -0.010622 -0.217236  0.052116   \n",
       "1 -0.103247 -0.002252 -0.021680  0.009606 -0.018429 -0.079649 -0.032120   \n",
       "2 -0.042331 -0.015220  0.128389  0.019397 -0.008778  0.030196 -0.002730   \n",
       "3  0.045807  0.051197 -0.059297  0.015710 -0.084737 -0.005722 -0.057383   \n",
       "4 -0.029183 -0.016819 -0.067496 -0.005953  0.004759 -0.015791 -0.023466   \n",
       "\n",
       "        V18  Class  \n",
       "0 -0.014000      0  \n",
       "1  0.226764      0  \n",
       "2  0.007920      0  \n",
       "3 -0.041323      0  \n",
       "4  0.013700      0  "
      ]
     },
     "execution_count": 12,
     "metadata": {},
     "output_type": "execute_result"
    }
   ],
   "source": [
    "train_df.head()"
   ]
  },
  {
   "attachments": {},
   "cell_type": "markdown",
   "metadata": {},
   "source": [
    "### XGBoost Classifier\n",
    "- 이전 데이터의 실제값과 예측값의 차이 (오차) 를 훈련 데이터에 투입하고 gradient를 이용하여 오류를 보완한다.\n",
    "- 여러개의 decision tree를 병렬적으로 학습한다.\n",
    "- 정규화 과정을 포함한다.\n",
    "\n",
    "### XGBClassifier Hyperparameters\n",
    "- booster: booster 종류 (gbtree(트리기반), gblinear(선형기반), dart)\n",
    "- n_estimators: 나무의 개수\n",
    "- eta(learning_rate): 학습 단계별 가중치 반영의 정도 (기울기)\n",
    "- gamma: 트리에서 추가적으로 가지를 나눌지를 결정할 최소 손실 감소 값, 값이 클수록 과적합 감소 효과\n",
    "- max_depth: 최대 깊이\n",
    "- min_child_weight: child에서 필요한 모든 가중치의 합의 최소값\n",
    "- subsample: 각 트리마다 샘플링 비율\n",
    "- colsample_bytree/_bylevel/_bynode: 트리 생성시/각 level에서/각 node에서의 subsample 비율\n",
    "- reg_lambda: L2 가중치\n",
    "- reg_alpha: L1 가중치\n",
    "- scale_pos_weight: 양/음의 가중치 균형 조절"
   ]
  },
  {
   "cell_type": "code",
   "execution_count": 33,
   "metadata": {},
   "outputs": [
    {
     "data": {
      "text/plain": [
       "2.78698713950336"
      ]
     },
     "execution_count": 33,
     "metadata": {},
     "output_type": "execute_result"
    }
   ],
   "source": [
    "X = train_df[USE_FEATURES]\n",
    "Y = train_df['Class']\n",
    "\n",
    "scale_pos_weight = np.sqrt(Y.value_counts()[0])/Y.value_counts()[1]\n",
    "scale_pos_weight"
   ]
  },
  {
   "attachments": {},
   "cell_type": "markdown",
   "metadata": {},
   "source": [
    "### hyperparameter tuning\n",
    "- 높은 학습률로 tree에 관한 hyperparameter를 먼저 탐색한다. \n",
    "- 이후 regularization parameter를 수정한다.\n",
    "- 학습률을 낮춰서 반복한다. "
   ]
  },
  {
   "cell_type": "code",
   "execution_count": 38,
   "metadata": {},
   "outputs": [],
   "source": [
    "def optimization(trial: optuna.trial.Trial):\n",
    "    params = {\n",
    "        'objective': 'binary:logistic',\n",
    "        'eval_metric': 'auc', # better in imbalanced dataset\n",
    "        'booster': 'gbtree',\n",
    "        'learning_rate': 0.1, \n",
    "        'n_estimators': trial.suggest_int('n_estimators', 100, 1000, step=10),\n",
    "        'max_depth': trial.suggest_int('max_depth', 3, 5),\n",
    "        'gamma': trial.suggest_float('gamma', 0.1, 1.0, log=True),\n",
    "        'min_child_weight': trial.suggest_int('min_child_weight', 1, 3),\n",
    "        'subsample': trial.suggest_float('subsample', 0.5, 1.0),\n",
    "        'colsample_bytree': trial.suggest_float('colsample_bytree', 0.5, 1.0),\n",
    "        'colsample_bylevel': trial.suggest_float('colsample_bylevel', 0.5, 1.0),\n",
    "        'colsample_bynode': trial.suggest_float('colsample_bynode', 0.5, 1.0),\n",
    "        'reg_lambda': trial.suggest_float('reg_lambda', 1e-2, 1),\n",
    "        'reg_alpha': trial.suggest_float('reg_alpha', 1e-2, 1),\n",
    "        'scale_pos_weight': trial.suggest_int('scale_pos_weight', 1, 5),\n",
    "        'tree_method': 'gpu_hist', 'gpu_id': 0 # GPU\n",
    "        }\n",
    "\n",
    "    model = xgboost.XGBClassifier(**params, random_state=302, n_jobs=-1)\n",
    "    \n",
    "    cv = StratifiedShuffleSplit(n_splits=5, test_size=0.3, random_state=302) # StratifiedKFold + ShuffleSplit\n",
    "    score = cross_val_score(model, X, Y, cv=cv, scoring='f1', n_jobs=-1)\n",
    "    f1_mean = score.mean()\n",
    "\n",
    "    return f1_mean"
   ]
  },
  {
   "cell_type": "code",
   "execution_count": null,
   "metadata": {},
   "outputs": [],
   "source": [
    "optim = optuna.create_study(direction='maximize', pruner=optuna.pruners.MedianPruner(n_warmup_steps=5))\n",
    "optim.optimize(optimization, n_trials=300)"
   ]
  },
  {
   "cell_type": "code",
   "execution_count": null,
   "metadata": {},
   "outputs": [],
   "source": [
    "optuna.visualization.plot_optimization_history(optim)"
   ]
  },
  {
   "cell_type": "code",
   "execution_count": 42,
   "metadata": {},
   "outputs": [
    {
     "name": "stdout",
     "output_type": "stream",
     "text": [
      "{'n_estimators': 120, 'max_depth': 5, 'gamma': 0.9523289299800372, 'min_child_weight': 2, 'subsample': 0.7815734938368877, 'colsample_bytree': 0.9477798809598857, 'colsample_bylevel': 0.5919074048770124, 'colsample_bynode': 0.7268575923401924, 'reg_lambda': 0.9076017687189581, 'reg_alpha': 0.2981540758534452, 'scale_pos_weight': 5}\n"
     ]
    }
   ],
   "source": [
    "print(optim.best_params)"
   ]
  },
  {
   "cell_type": "code",
   "execution_count": 44,
   "metadata": {},
   "outputs": [
    {
     "data": {
      "text/html": [
       "<style>#sk-container-id-4 {color: black;background-color: white;}#sk-container-id-4 pre{padding: 0;}#sk-container-id-4 div.sk-toggleable {background-color: white;}#sk-container-id-4 label.sk-toggleable__label {cursor: pointer;display: block;width: 100%;margin-bottom: 0;padding: 0.3em;box-sizing: border-box;text-align: center;}#sk-container-id-4 label.sk-toggleable__label-arrow:before {content: \"▸\";float: left;margin-right: 0.25em;color: #696969;}#sk-container-id-4 label.sk-toggleable__label-arrow:hover:before {color: black;}#sk-container-id-4 div.sk-estimator:hover label.sk-toggleable__label-arrow:before {color: black;}#sk-container-id-4 div.sk-toggleable__content {max-height: 0;max-width: 0;overflow: hidden;text-align: left;background-color: #f0f8ff;}#sk-container-id-4 div.sk-toggleable__content pre {margin: 0.2em;color: black;border-radius: 0.25em;background-color: #f0f8ff;}#sk-container-id-4 input.sk-toggleable__control:checked~div.sk-toggleable__content {max-height: 200px;max-width: 100%;overflow: auto;}#sk-container-id-4 input.sk-toggleable__control:checked~label.sk-toggleable__label-arrow:before {content: \"▾\";}#sk-container-id-4 div.sk-estimator input.sk-toggleable__control:checked~label.sk-toggleable__label {background-color: #d4ebff;}#sk-container-id-4 div.sk-label input.sk-toggleable__control:checked~label.sk-toggleable__label {background-color: #d4ebff;}#sk-container-id-4 input.sk-hidden--visually {border: 0;clip: rect(1px 1px 1px 1px);clip: rect(1px, 1px, 1px, 1px);height: 1px;margin: -1px;overflow: hidden;padding: 0;position: absolute;width: 1px;}#sk-container-id-4 div.sk-estimator {font-family: monospace;background-color: #f0f8ff;border: 1px dotted black;border-radius: 0.25em;box-sizing: border-box;margin-bottom: 0.5em;}#sk-container-id-4 div.sk-estimator:hover {background-color: #d4ebff;}#sk-container-id-4 div.sk-parallel-item::after {content: \"\";width: 100%;border-bottom: 1px solid gray;flex-grow: 1;}#sk-container-id-4 div.sk-label:hover label.sk-toggleable__label {background-color: #d4ebff;}#sk-container-id-4 div.sk-serial::before {content: \"\";position: absolute;border-left: 1px solid gray;box-sizing: border-box;top: 0;bottom: 0;left: 50%;z-index: 0;}#sk-container-id-4 div.sk-serial {display: flex;flex-direction: column;align-items: center;background-color: white;padding-right: 0.2em;padding-left: 0.2em;position: relative;}#sk-container-id-4 div.sk-item {position: relative;z-index: 1;}#sk-container-id-4 div.sk-parallel {display: flex;align-items: stretch;justify-content: center;background-color: white;position: relative;}#sk-container-id-4 div.sk-item::before, #sk-container-id-4 div.sk-parallel-item::before {content: \"\";position: absolute;border-left: 1px solid gray;box-sizing: border-box;top: 0;bottom: 0;left: 50%;z-index: -1;}#sk-container-id-4 div.sk-parallel-item {display: flex;flex-direction: column;z-index: 1;position: relative;background-color: white;}#sk-container-id-4 div.sk-parallel-item:first-child::after {align-self: flex-end;width: 50%;}#sk-container-id-4 div.sk-parallel-item:last-child::after {align-self: flex-start;width: 50%;}#sk-container-id-4 div.sk-parallel-item:only-child::after {width: 0;}#sk-container-id-4 div.sk-dashed-wrapped {border: 1px dashed gray;margin: 0 0.4em 0.5em 0.4em;box-sizing: border-box;padding-bottom: 0.4em;background-color: white;}#sk-container-id-4 div.sk-label label {font-family: monospace;font-weight: bold;display: inline-block;line-height: 1.2em;}#sk-container-id-4 div.sk-label-container {text-align: center;}#sk-container-id-4 div.sk-container {/* jupyter's `normalize.less` sets `[hidden] { display: none; }` but bootstrap.min.css set `[hidden] { display: none !important; }` so we also need the `!important` here to be able to override the default hidden behavior on the sphinx rendered scikit-learn.org. See: https://github.com/scikit-learn/scikit-learn/issues/21755 */display: inline-block !important;position: relative;}#sk-container-id-4 div.sk-text-repr-fallback {display: none;}</style><div id=\"sk-container-id-4\" class=\"sk-top-container\"><div class=\"sk-text-repr-fallback\"><pre>XGBClassifier(base_score=None, booster=&#x27;gbtree&#x27;, callbacks=None,\n",
       "              colsample_bylevel=0.5919074048770124,\n",
       "              colsample_bynode=0.7268575923401924,\n",
       "              colsample_bytree=0.9477798809598857, early_stopping_rounds=None,\n",
       "              enable_categorical=False, eval_metric=&#x27;auc&#x27;, feature_types=None,\n",
       "              gamma=0.9523289299800372, gpu_id=None, grow_policy=None,\n",
       "              importance_type=None, interaction_constraints=None,\n",
       "              learning_rate=None, max_bin=None, max_cat_threshold=None,\n",
       "              max_cat_to_onehot=None, max_delta_step=None, max_depth=5,\n",
       "              max_leaves=None, min_child_weight=2, missing=nan,\n",
       "              monotone_constraints=None, n_estimators=120, n_jobs=None,\n",
       "              num_parallel_tree=None, predictor=None, random_state=302, ...)</pre><b>In a Jupyter environment, please rerun this cell to show the HTML representation or trust the notebook. <br />On GitHub, the HTML representation is unable to render, please try loading this page with nbviewer.org.</b></div><div class=\"sk-container\" hidden><div class=\"sk-item\"><div class=\"sk-estimator sk-toggleable\"><input class=\"sk-toggleable__control sk-hidden--visually\" id=\"sk-estimator-id-4\" type=\"checkbox\" checked><label for=\"sk-estimator-id-4\" class=\"sk-toggleable__label sk-toggleable__label-arrow\">XGBClassifier</label><div class=\"sk-toggleable__content\"><pre>XGBClassifier(base_score=None, booster=&#x27;gbtree&#x27;, callbacks=None,\n",
       "              colsample_bylevel=0.5919074048770124,\n",
       "              colsample_bynode=0.7268575923401924,\n",
       "              colsample_bytree=0.9477798809598857, early_stopping_rounds=None,\n",
       "              enable_categorical=False, eval_metric=&#x27;auc&#x27;, feature_types=None,\n",
       "              gamma=0.9523289299800372, gpu_id=None, grow_policy=None,\n",
       "              importance_type=None, interaction_constraints=None,\n",
       "              learning_rate=None, max_bin=None, max_cat_threshold=None,\n",
       "              max_cat_to_onehot=None, max_delta_step=None, max_depth=5,\n",
       "              max_leaves=None, min_child_weight=2, missing=nan,\n",
       "              monotone_constraints=None, n_estimators=120, n_jobs=None,\n",
       "              num_parallel_tree=None, predictor=None, random_state=302, ...)</pre></div></div></div></div></div>"
      ],
      "text/plain": [
       "XGBClassifier(base_score=None, booster='gbtree', callbacks=None,\n",
       "              colsample_bylevel=0.5919074048770124,\n",
       "              colsample_bynode=0.7268575923401924,\n",
       "              colsample_bytree=0.9477798809598857, early_stopping_rounds=None,\n",
       "              enable_categorical=False, eval_metric='auc', feature_types=None,\n",
       "              gamma=0.9523289299800372, gpu_id=None, grow_policy=None,\n",
       "              importance_type=None, interaction_constraints=None,\n",
       "              learning_rate=None, max_bin=None, max_cat_threshold=None,\n",
       "              max_cat_to_onehot=None, max_delta_step=None, max_depth=5,\n",
       "              max_leaves=None, min_child_weight=2, missing=nan,\n",
       "              monotone_constraints=None, n_estimators=120, n_jobs=None,\n",
       "              num_parallel_tree=None, predictor=None, random_state=302, ...)"
      ]
     },
     "execution_count": 44,
     "metadata": {},
     "output_type": "execute_result"
    }
   ],
   "source": [
    "params = optim.best_params\n",
    "model = xgboost.XGBClassifier(**params, objective='binary:logistic', eval_metric='auc', \n",
    "                              booster='gbtree', random_state=302)\n",
    "model.fit(X, Y)"
   ]
  },
  {
   "cell_type": "code",
   "execution_count": 46,
   "metadata": {},
   "outputs": [],
   "source": [
    "val_pred = model.predict(val_df)"
   ]
  },
  {
   "cell_type": "code",
   "execution_count": 50,
   "metadata": {},
   "outputs": [
    {
     "data": {
      "text/plain": [
       "<sklearn.metrics._plot.confusion_matrix.ConfusionMatrixDisplay at 0x2723559a6d0>"
      ]
     },
     "execution_count": 50,
     "metadata": {},
     "output_type": "execute_result"
    },
    {
     "data": {
      "image/png": "[encoded data removed]",
      "text/plain": [
       "<Figure size 640x480 with 2 Axes>"
      ]
     },
     "metadata": {},
     "output_type": "display_data"
    }
   ],
   "source": [
    "cm = confusion_matrix(val['Class'], val_pred)\n",
    "disp = ConfusionMatrixDisplay(cm, display_labels=['Nomral', 'Fraud'])\n",
    "disp.plot()"
   ]
  },
  {
   "cell_type": "code",
   "execution_count": 51,
   "metadata": {},
   "outputs": [],
   "source": [
    "SCALER = MaxAbsScaler()\n",
    "SCALER.fit(train[USE_FEATURES])\n",
    "train[USE_FEATURES] = SCALER.transform(train[USE_FEATURES])\n",
    "val[USE_FEATURES] = SCALER.transform(val[USE_FEATURES])\n",
    "\n",
    "test[USE_FEATURES] = SCALER.transform(test[USE_FEATURES])\n",
    "test_df = test[USE_FEATURES]"
   ]
  },
  {
   "cell_type": "code",
   "execution_count": 52,
   "metadata": {},
   "outputs": [],
   "source": [
    "xgb_pred = model.predict(test_df)"
   ]
  },
  {
   "cell_type": "code",
   "execution_count": 53,
   "metadata": {},
   "outputs": [
    {
     "name": "stdout",
     "output_type": "stream",
     "text": [
      "Test Dataset Contamination Count: 8629\n",
      "Test Dataset Contamination Rate: 6.06%\n"
     ]
    }
   ],
   "source": [
    "print(f'Test Dataset Contamination Count: {xgb_pred[xgb_pred==1].sum()}')\n",
    "print(f'Test Dataset Contamination Rate: {np.round(xgb_pred[xgb_pred==1].sum()/len(xgb_pred)*100, 2)}%')"
   ]
  },
  {
   "cell_type": "code",
   "execution_count": 24,
   "metadata": {},
   "outputs": [],
   "source": [
    "submit = pd.read_csv('data/sample_submission.csv')\n",
    "submit['Class'] = xgb_pred\n",
    "submit.to_csv('submit/submit_Ensemble_KNN_XGboost_FI.csv', index=False)"
   ]
  },
  {
   "cell_type": "code",
   "execution_count": 25,
   "metadata": {},
   "outputs": [
    {
     "data": {
      "text/plain": [
       "0    141877\n",
       "1       626\n",
       "Name: Class, dtype: int64"
      ]
     },
     "execution_count": 25,
     "metadata": {},
     "output_type": "execute_result"
    }
   ],
   "source": [
    "submit['Class'].value_counts()"
   ]
  }
 ],
 "metadata": {
  "kernelspec": {
   "display_name": "myenv",
   "language": "python",
   "name": "python3"
  },
  "language_info": {
   "codemirror_mode": {
    "name": "ipython",
    "version": 3
   },
   "file_extension": ".py",
   "mimetype": "text/x-python",
   "name": "python",
   "nbconvert_exporter": "python",
   "pygments_lexer": "ipython3",
   "version": "3.9.16"
  },
  "orig_nbformat": 4
 },
 "nbformat": 4,
 "nbformat_minor": 2
}
