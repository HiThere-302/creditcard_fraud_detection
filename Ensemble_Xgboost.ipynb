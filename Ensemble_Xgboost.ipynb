{
 "cells": [
  {
   "cell_type": "code",
   "execution_count": 1,
   "metadata": {},
   "outputs": [
    {
     "name": "stderr",
     "output_type": "stream",
     "text": [
      "c:\\Users\\kimhy\\anaconda3\\envs\\ts\\lib\\site-packages\\tqdm\\auto.py:22: TqdmWarning: IProgress not found. Please update jupyter and ipywidgets. See https://ipywidgets.readthedocs.io/en/stable/user_install.html\n",
      "  from .autonotebook import tqdm as notebook_tqdm\n"
     ]
    }
   ],
   "source": [
    "import pandas as pd\n",
    "import numpy as np\n",
    "from sklearn.preprocessing import MaxAbsScaler\n",
    "\n",
    "from sklearn.neighbors import KNeighborsClassifier\n",
    "import xgboost \n",
    "from sklearn.model_selection import StratifiedShuffleSplit, cross_val_score\n",
    "from sklearn.metrics import f1_score, confusion_matrix, ConfusionMatrixDisplay\n",
    "\n",
    "import optuna\n"
   ]
  },
  {
   "cell_type": "code",
   "execution_count": 2,
   "metadata": {},
   "outputs": [],
   "source": [
    "train = pd.read_csv('data/train.csv')\n",
    "val = pd.read_csv('data/val.csv')\n",
    "test = pd.read_csv('data/test.csv')"
   ]
  },
  {
   "cell_type": "code",
   "execution_count": 3,
   "metadata": {},
   "outputs": [],
   "source": [
    "# Class와 feature의 상관관계를 바탕으로 선별된 15개의 feature\n",
    "USE_FEATURES = ['V1', 'V2', 'V3', 'V4', 'V5', 'V6', 'V7', 'V9', 'V10', 'V11', 'V12', 'V13', 'V14', 'V15', 'V16', 'V17', 'V18', 'V19', 'V20', 'V21', 'V22', 'V23', 'V24', 'V25', 'V26', 'V27', 'V28', 'V29', 'V30']"
   ]
  },
  {
   "cell_type": "code",
   "execution_count": 4,
   "metadata": {},
   "outputs": [],
   "source": [
    "# MaxAbsScaler 적용\n",
    "SCALER = MaxAbsScaler()\n",
    "SCALER.fit(train[USE_FEATURES])\n",
    "train[USE_FEATURES] = SCALER.transform(train[USE_FEATURES])\n",
    "val[USE_FEATURES] = SCALER.transform(val[USE_FEATURES])"
   ]
  },
  {
   "cell_type": "code",
   "execution_count": 5,
   "metadata": {},
   "outputs": [],
   "source": [
    "train_df = train[USE_FEATURES]\n",
    "val_df = val[USE_FEATURES]\n",
    "val_label = val['Class']"
   ]
  },
  {
   "attachments": {},
   "cell_type": "markdown",
   "metadata": {},
   "source": [
    "KNN을 validation 데이터셋에 적합시키고 train 데이터셋의 정상/사기 여부를 예측한다."
   ]
  },
  {
   "cell_type": "code",
   "execution_count": 6,
   "metadata": {},
   "outputs": [
    {
     "data": {
      "text/html": [
       "<style>#sk-container-id-1 {color: black;background-color: white;}#sk-container-id-1 pre{padding: 0;}#sk-container-id-1 div.sk-toggleable {background-color: white;}#sk-container-id-1 label.sk-toggleable__label {cursor: pointer;display: block;width: 100%;margin-bottom: 0;padding: 0.3em;box-sizing: border-box;text-align: center;}#sk-container-id-1 label.sk-toggleable__label-arrow:before {content: \"▸\";float: left;margin-right: 0.25em;color: #696969;}#sk-container-id-1 label.sk-toggleable__label-arrow:hover:before {color: black;}#sk-container-id-1 div.sk-estimator:hover label.sk-toggleable__label-arrow:before {color: black;}#sk-container-id-1 div.sk-toggleable__content {max-height: 0;max-width: 0;overflow: hidden;text-align: left;background-color: #f0f8ff;}#sk-container-id-1 div.sk-toggleable__content pre {margin: 0.2em;color: black;border-radius: 0.25em;background-color: #f0f8ff;}#sk-container-id-1 input.sk-toggleable__control:checked~div.sk-toggleable__content {max-height: 200px;max-width: 100%;overflow: auto;}#sk-container-id-1 input.sk-toggleable__control:checked~label.sk-toggleable__label-arrow:before {content: \"▾\";}#sk-container-id-1 div.sk-estimator input.sk-toggleable__control:checked~label.sk-toggleable__label {background-color: #d4ebff;}#sk-container-id-1 div.sk-label input.sk-toggleable__control:checked~label.sk-toggleable__label {background-color: #d4ebff;}#sk-container-id-1 input.sk-hidden--visually {border: 0;clip: rect(1px 1px 1px 1px);clip: rect(1px, 1px, 1px, 1px);height: 1px;margin: -1px;overflow: hidden;padding: 0;position: absolute;width: 1px;}#sk-container-id-1 div.sk-estimator {font-family: monospace;background-color: #f0f8ff;border: 1px dotted black;border-radius: 0.25em;box-sizing: border-box;margin-bottom: 0.5em;}#sk-container-id-1 div.sk-estimator:hover {background-color: #d4ebff;}#sk-container-id-1 div.sk-parallel-item::after {content: \"\";width: 100%;border-bottom: 1px solid gray;flex-grow: 1;}#sk-container-id-1 div.sk-label:hover label.sk-toggleable__label {background-color: #d4ebff;}#sk-container-id-1 div.sk-serial::before {content: \"\";position: absolute;border-left: 1px solid gray;box-sizing: border-box;top: 0;bottom: 0;left: 50%;z-index: 0;}#sk-container-id-1 div.sk-serial {display: flex;flex-direction: column;align-items: center;background-color: white;padding-right: 0.2em;padding-left: 0.2em;position: relative;}#sk-container-id-1 div.sk-item {position: relative;z-index: 1;}#sk-container-id-1 div.sk-parallel {display: flex;align-items: stretch;justify-content: center;background-color: white;position: relative;}#sk-container-id-1 div.sk-item::before, #sk-container-id-1 div.sk-parallel-item::before {content: \"\";position: absolute;border-left: 1px solid gray;box-sizing: border-box;top: 0;bottom: 0;left: 50%;z-index: -1;}#sk-container-id-1 div.sk-parallel-item {display: flex;flex-direction: column;z-index: 1;position: relative;background-color: white;}#sk-container-id-1 div.sk-parallel-item:first-child::after {align-self: flex-end;width: 50%;}#sk-container-id-1 div.sk-parallel-item:last-child::after {align-self: flex-start;width: 50%;}#sk-container-id-1 div.sk-parallel-item:only-child::after {width: 0;}#sk-container-id-1 div.sk-dashed-wrapped {border: 1px dashed gray;margin: 0 0.4em 0.5em 0.4em;box-sizing: border-box;padding-bottom: 0.4em;background-color: white;}#sk-container-id-1 div.sk-label label {font-family: monospace;font-weight: bold;display: inline-block;line-height: 1.2em;}#sk-container-id-1 div.sk-label-container {text-align: center;}#sk-container-id-1 div.sk-container {/* jupyter's `normalize.less` sets `[hidden] { display: none; }` but bootstrap.min.css set `[hidden] { display: none !important; }` so we also need the `!important` here to be able to override the default hidden behavior on the sphinx rendered scikit-learn.org. See: https://github.com/scikit-learn/scikit-learn/issues/21755 */display: inline-block !important;position: relative;}#sk-container-id-1 div.sk-text-repr-fallback {display: none;}</style><div id=\"sk-container-id-1\" class=\"sk-top-container\"><div class=\"sk-text-repr-fallback\"><pre>KNeighborsClassifier(algorithm=&#x27;brute&#x27;, n_jobs=-1, n_neighbors=1,\n",
       "                     weights=&#x27;distance&#x27;)</pre><b>In a Jupyter environment, please rerun this cell to show the HTML representation or trust the notebook. <br />On GitHub, the HTML representation is unable to render, please try loading this page with nbviewer.org.</b></div><div class=\"sk-container\" hidden><div class=\"sk-item\"><div class=\"sk-estimator sk-toggleable\"><input class=\"sk-toggleable__control sk-hidden--visually\" id=\"sk-estimator-id-1\" type=\"checkbox\" checked><label for=\"sk-estimator-id-1\" class=\"sk-toggleable__label sk-toggleable__label-arrow\">KNeighborsClassifier</label><div class=\"sk-toggleable__content\"><pre>KNeighborsClassifier(algorithm=&#x27;brute&#x27;, n_jobs=-1, n_neighbors=1,\n",
       "                     weights=&#x27;distance&#x27;)</pre></div></div></div></div></div>"
      ],
      "text/plain": [
       "KNeighborsClassifier(algorithm='brute', n_jobs=-1, n_neighbors=1,\n",
       "                     weights='distance')"
      ]
     },
     "execution_count": 6,
     "metadata": {},
     "output_type": "execute_result"
    }
   ],
   "source": [
    "knn = KNeighborsClassifier(n_neighbors=1, weights='distance', algorithm='brute', n_jobs=-1)\n",
    "knn.fit(val_df.values, val_label.values)"
   ]
  },
  {
   "cell_type": "code",
   "execution_count": 7,
   "metadata": {},
   "outputs": [],
   "source": [
    "probs = knn.predict_proba(train_df.values)"
   ]
  },
  {
   "cell_type": "code",
   "execution_count": 8,
   "metadata": {},
   "outputs": [
    {
     "name": "stderr",
     "output_type": "stream",
     "text": [
      "c:\\Users\\kimhy\\anaconda3\\envs\\ts\\lib\\site-packages\\sklearn\\base.py:413: UserWarning: X has feature names, but KNeighborsClassifier was fitted without feature names\n",
      "  warnings.warn(\n"
     ]
    }
   ],
   "source": [
    "train_label = knn.predict(train_df)"
   ]
  },
  {
   "cell_type": "code",
   "execution_count": 9,
   "metadata": {},
   "outputs": [
    {
     "name": "stderr",
     "output_type": "stream",
     "text": [
      "C:\\Users\\kimhy\\AppData\\Local\\Temp\\ipykernel_27244\\2737084557.py:1: SettingWithCopyWarning: \n",
      "A value is trying to be set on a copy of a slice from a DataFrame.\n",
      "Try using .loc[row_indexer,col_indexer] = value instead\n",
      "\n",
      "See the caveats in the documentation: https://pandas.pydata.org/pandas-docs/stable/user_guide/indexing.html#returning-a-view-versus-a-copy\n",
      "  train_df['Class'] = train_label\n"
     ]
    },
    {
     "data": {
      "text/plain": [
       "0    113751\n",
       "1        91\n",
       "Name: Class, dtype: int64"
      ]
     },
     "execution_count": 9,
     "metadata": {},
     "output_type": "execute_result"
    }
   ],
   "source": [
    "train_df['Class'] = train_label\n",
    "train_df['Class'].value_counts()"
   ]
  },
  {
   "attachments": {},
   "cell_type": "markdown",
   "metadata": {},
   "source": [
    "train 데이터셋에 총 121개의 사기 데이터가 존재하는 것으로 예측하였다."
   ]
  },
  {
   "cell_type": "code",
   "execution_count": 10,
   "metadata": {},
   "outputs": [
    {
     "data": {
      "text/html": [
       "<div>\n",
       "<style scoped>\n",
       "    .dataframe tbody tr th:only-of-type {\n",
       "        vertical-align: middle;\n",
       "    }\n",
       "\n",
       "    .dataframe tbody tr th {\n",
       "        vertical-align: top;\n",
       "    }\n",
       "\n",
       "    .dataframe thead th {\n",
       "        text-align: right;\n",
       "    }\n",
       "</style>\n",
       "<table border=\"1\" class=\"dataframe\">\n",
       "  <thead>\n",
       "    <tr style=\"text-align: right;\">\n",
       "      <th></th>\n",
       "      <th>V1</th>\n",
       "      <th>V2</th>\n",
       "      <th>V3</th>\n",
       "      <th>V4</th>\n",
       "      <th>V5</th>\n",
       "      <th>V6</th>\n",
       "      <th>V7</th>\n",
       "      <th>V9</th>\n",
       "      <th>V10</th>\n",
       "      <th>V11</th>\n",
       "      <th>...</th>\n",
       "      <th>V22</th>\n",
       "      <th>V23</th>\n",
       "      <th>V24</th>\n",
       "      <th>V25</th>\n",
       "      <th>V26</th>\n",
       "      <th>V27</th>\n",
       "      <th>V28</th>\n",
       "      <th>V29</th>\n",
       "      <th>V30</th>\n",
       "      <th>Class</th>\n",
       "    </tr>\n",
       "  </thead>\n",
       "  <tbody>\n",
       "    <tr>\n",
       "      <th>0</th>\n",
       "      <td>-0.024081</td>\n",
       "      <td>-0.018430</td>\n",
       "      <td>0.054637</td>\n",
       "      <td>0.023029</td>\n",
       "      <td>-0.011939</td>\n",
       "      <td>0.068825</td>\n",
       "      <td>0.017966</td>\n",
       "      <td>-0.112747</td>\n",
       "      <td>0.008509</td>\n",
       "      <td>0.059779</td>\n",
       "      <td>...</td>\n",
       "      <td>0.086832</td>\n",
       "      <td>0.020296</td>\n",
       "      <td>-0.171341</td>\n",
       "      <td>-0.031824</td>\n",
       "      <td>-0.044592</td>\n",
       "      <td>-0.004971</td>\n",
       "      <td>-0.001765</td>\n",
       "      <td>0.027672</td>\n",
       "      <td>-0.961371</td>\n",
       "      <td>0</td>\n",
       "    </tr>\n",
       "    <tr>\n",
       "      <th>1</th>\n",
       "      <td>-0.017130</td>\n",
       "      <td>-0.002547</td>\n",
       "      <td>0.055247</td>\n",
       "      <td>-0.052349</td>\n",
       "      <td>-0.000245</td>\n",
       "      <td>0.047675</td>\n",
       "      <td>0.005394</td>\n",
       "      <td>-0.103247</td>\n",
       "      <td>-0.002252</td>\n",
       "      <td>-0.021680</td>\n",
       "      <td>...</td>\n",
       "      <td>0.000593</td>\n",
       "      <td>-0.004247</td>\n",
       "      <td>-0.292223</td>\n",
       "      <td>0.062880</td>\n",
       "      <td>-0.071147</td>\n",
       "      <td>0.005633</td>\n",
       "      <td>0.001816</td>\n",
       "      <td>0.007875</td>\n",
       "      <td>-0.961371</td>\n",
       "      <td>0</td>\n",
       "    </tr>\n",
       "    <tr>\n",
       "      <th>2</th>\n",
       "      <td>-0.007552</td>\n",
       "      <td>0.013209</td>\n",
       "      <td>0.035161</td>\n",
       "      <td>-0.010203</td>\n",
       "      <td>0.009988</td>\n",
       "      <td>-0.001136</td>\n",
       "      <td>0.010809</td>\n",
       "      <td>-0.042331</td>\n",
       "      <td>-0.015220</td>\n",
       "      <td>0.128389</td>\n",
       "      <td>...</td>\n",
       "      <td>-0.062994</td>\n",
       "      <td>-0.000589</td>\n",
       "      <td>-0.092329</td>\n",
       "      <td>-0.022611</td>\n",
       "      <td>0.033955</td>\n",
       "      <td>0.022795</td>\n",
       "      <td>0.002395</td>\n",
       "      <td>-0.001422</td>\n",
       "      <td>-0.961359</td>\n",
       "      <td>0</td>\n",
       "    </tr>\n",
       "    <tr>\n",
       "      <th>3</th>\n",
       "      <td>-0.011422</td>\n",
       "      <td>0.019500</td>\n",
       "      <td>0.033105</td>\n",
       "      <td>-0.029846</td>\n",
       "      <td>0.022514</td>\n",
       "      <td>0.016365</td>\n",
       "      <td>0.025437</td>\n",
       "      <td>0.045807</td>\n",
       "      <td>0.051197</td>\n",
       "      <td>-0.059297</td>\n",
       "      <td>...</td>\n",
       "      <td>-0.114263</td>\n",
       "      <td>0.001283</td>\n",
       "      <td>-0.161504</td>\n",
       "      <td>-0.040335</td>\n",
       "      <td>-0.016553</td>\n",
       "      <td>-0.108383</td>\n",
       "      <td>-0.032065</td>\n",
       "      <td>0.001459</td>\n",
       "      <td>-0.961303</td>\n",
       "      <td>0</td>\n",
       "    </tr>\n",
       "    <tr>\n",
       "      <th>4</th>\n",
       "      <td>-0.015854</td>\n",
       "      <td>0.003935</td>\n",
       "      <td>-0.003488</td>\n",
       "      <td>-0.016465</td>\n",
       "      <td>0.063339</td>\n",
       "      <td>0.142269</td>\n",
       "      <td>0.008402</td>\n",
       "      <td>-0.029183</td>\n",
       "      <td>-0.016819</td>\n",
       "      <td>-0.067496</td>\n",
       "      <td>...</td>\n",
       "      <td>-0.030167</td>\n",
       "      <td>-0.004558</td>\n",
       "      <td>0.251460</td>\n",
       "      <td>0.036250</td>\n",
       "      <td>-0.123155</td>\n",
       "      <td>0.001055</td>\n",
       "      <td>0.004207</td>\n",
       "      <td>0.005524</td>\n",
       "      <td>-0.961303</td>\n",
       "      <td>0</td>\n",
       "    </tr>\n",
       "  </tbody>\n",
       "</table>\n",
       "<p>5 rows × 30 columns</p>\n",
       "</div>"
      ],
      "text/plain": [
       "         V1        V2        V3        V4        V5        V6        V7  \\\n",
       "0 -0.024081 -0.018430  0.054637  0.023029 -0.011939  0.068825  0.017966   \n",
       "1 -0.017130 -0.002547  0.055247 -0.052349 -0.000245  0.047675  0.005394   \n",
       "2 -0.007552  0.013209  0.035161 -0.010203  0.009988 -0.001136  0.010809   \n",
       "3 -0.011422  0.019500  0.033105 -0.029846  0.022514  0.016365  0.025437   \n",
       "4 -0.015854  0.003935 -0.003488 -0.016465  0.063339  0.142269  0.008402   \n",
       "\n",
       "         V9       V10       V11  ...       V22       V23       V24       V25  \\\n",
       "0 -0.112747  0.008509  0.059779  ...  0.086832  0.020296 -0.171341 -0.031824   \n",
       "1 -0.103247 -0.002252 -0.021680  ...  0.000593 -0.004247 -0.292223  0.062880   \n",
       "2 -0.042331 -0.015220  0.128389  ... -0.062994 -0.000589 -0.092329 -0.022611   \n",
       "3  0.045807  0.051197 -0.059297  ... -0.114263  0.001283 -0.161504 -0.040335   \n",
       "4 -0.029183 -0.016819 -0.067496  ... -0.030167 -0.004558  0.251460  0.036250   \n",
       "\n",
       "        V26       V27       V28       V29       V30  Class  \n",
       "0 -0.044592 -0.004971 -0.001765  0.027672 -0.961371      0  \n",
       "1 -0.071147  0.005633  0.001816  0.007875 -0.961371      0  \n",
       "2  0.033955  0.022795  0.002395 -0.001422 -0.961359      0  \n",
       "3 -0.016553 -0.108383 -0.032065  0.001459 -0.961303      0  \n",
       "4 -0.123155  0.001055  0.004207  0.005524 -0.961303      0  \n",
       "\n",
       "[5 rows x 30 columns]"
      ]
     },
     "execution_count": 10,
     "metadata": {},
     "output_type": "execute_result"
    }
   ],
   "source": [
    "train_df.head()"
   ]
  },
  {
   "attachments": {},
   "cell_type": "markdown",
   "metadata": {},
   "source": [
    "### XGBoost Classifier\n",
    "- 이전 데이터의 실제값과 예측값의 차이 (오차) 를 훈련 데이터에 투입하고 gradient를 이용하여 오류를 보완한다.\n",
    "- 여러개의 decision tree를 병렬적으로 학습한다.\n",
    "- 정규화 과정을 포함한다.\n",
    "\n",
    "### XGBClassifier Hyperparameters\n",
    "- booster: booster 종류 (gbtree(트리기반), gblinear(선형기반), dart)\n",
    "- n_estimators: 나무의 개수\n",
    "- eta(learning_rate): 학습 단계별 가중치 반영의 정도 (기울기)\n",
    "- gamma: 트리에서 추가적으로 가지를 나눌지를 결정할 최소 손실 감소 값, 값이 클수록 과적합 감소 효과\n",
    "- max_depth: 최대 깊이\n",
    "- min_child_weight: child에서 필요한 모든 가중치의 합의 최소값\n",
    "- subsample: 각 트리마다 샘플링 비율\n",
    "- colsample_bytree/_bylevel/_bynode: 트리 생성시/각 level에서/각 node에서의 subsample 비율\n",
    "- reg_lambda: L2 가중치\n",
    "- reg_alpha: L1 가중치\n",
    "- scale_pos_weight: 양/음의 가중치 균형 조절"
   ]
  },
  {
   "cell_type": "code",
   "execution_count": 11,
   "metadata": {},
   "outputs": [
    {
     "data": {
      "text/plain": [
       "3.7062628744634742"
      ]
     },
     "execution_count": 11,
     "metadata": {},
     "output_type": "execute_result"
    }
   ],
   "source": [
    "X = train_df[USE_FEATURES]\n",
    "Y = train_df['Class']\n",
    "\n",
    "scale_pos_weight = np.sqrt(Y.value_counts()[0])/Y.value_counts()[1]\n",
    "scale_pos_weight"
   ]
  },
  {
   "attachments": {},
   "cell_type": "markdown",
   "metadata": {},
   "source": [
    "### hyperparameter tuning\n",
    "- 높은 학습률로 tree에 관한 hyperparameter를 먼저 탐색한다. \n",
    "- 이후 regularization parameter를 수정한다.\n",
    "- 학습률을 낮춰서 반복한다. "
   ]
  },
  {
   "cell_type": "code",
   "execution_count": 12,
   "metadata": {},
   "outputs": [],
   "source": [
    "def optimization(trial: optuna.trial.Trial):\n",
    "    params = {\n",
    "        'objective': 'binary:logistic',\n",
    "        'eval_metric': 'auc', # better in imbalanced dataset\n",
    "        'booster': 'gbtree',\n",
    "        'learning_rate': 0.1, \n",
    "        'n_estimators': trial.suggest_int('n_estimators', 100, 1000, step=10),\n",
    "        'max_depth': trial.suggest_int('max_depth', 3, 5),\n",
    "        'gamma': trial.suggest_float('gamma', 0.1, 1.0, log=True),\n",
    "        'min_child_weight': trial.suggest_int('min_child_weight', 1, 3),\n",
    "        'subsample': trial.suggest_float('subsample', 0.5, 1.0),\n",
    "        'colsample_bytree': trial.suggest_float('colsample_bytree', 0.5, 1.0),\n",
    "        'colsample_bylevel': trial.suggest_float('colsample_bylevel', 0.5, 1.0),\n",
    "        'colsample_bynode': trial.suggest_float('colsample_bynode', 0.5, 1.0),\n",
    "        'reg_lambda': trial.suggest_float('reg_lambda', 1e-2, 1),\n",
    "        'reg_alpha': trial.suggest_float('reg_alpha', 1e-2, 1),\n",
    "        'scale_pos_weight': trial.suggest_int('scale_pos_weight', 1, 5),\n",
    "        }\n",
    "\n",
    "    model = xgboost.XGBClassifier(**params, random_state=302, n_jobs=-1)\n",
    "    \n",
    "    cv = StratifiedShuffleSplit(n_splits=5, test_size=0.3, random_state=302) # StratifiedKFold + ShuffleSplit\n",
    "    score = cross_val_score(model, X, Y, cv=cv, scoring='f1', n_jobs=-1)\n",
    "    f1_mean = score.mean()\n",
    "\n",
    "    return f1_mean"
   ]
  },
  {
   "cell_type": "code",
   "execution_count": 13,
   "metadata": {},
   "outputs": [
    {
     "name": "stderr",
     "output_type": "stream",
     "text": [
      "[I 2023-06-07 14:32:27,819] A new study created in memory with name: no-name-35245832-8e9e-47f4-a7bc-58a7cdf14a49\n",
      "[I 2023-06-07 14:33:01,208] Trial 0 finished with value: 0.849456877003675 and parameters: {'n_estimators': 310, 'max_depth': 4, 'gamma': 0.9589746328872002, 'min_child_weight': 1, 'subsample': 0.6890887353353221, 'colsample_bytree': 0.5309100893250782, 'colsample_bylevel': 0.861821833422322, 'colsample_bynode': 0.9873419590026662, 'reg_lambda': 0.5363122465510599, 'reg_alpha': 0.7980444131386251, 'scale_pos_weight': 2}. Best is trial 0 with value: 0.849456877003675.\n",
      "[I 2023-06-07 14:33:35,276] Trial 1 finished with value: 0.8363295130373855 and parameters: {'n_estimators': 360, 'max_depth': 5, 'gamma': 0.7357317558800326, 'min_child_weight': 3, 'subsample': 0.6716882330089902, 'colsample_bytree': 0.8605915310187872, 'colsample_bylevel': 0.9776874724421876, 'colsample_bynode': 0.9981057357739611, 'reg_lambda': 0.736397647366158, 'reg_alpha': 0.6382475355246984, 'scale_pos_weight': 1}. Best is trial 0 with value: 0.849456877003675.\n",
      "[I 2023-06-07 14:33:57,356] Trial 2 finished with value: 0.8512397614757001 and parameters: {'n_estimators': 180, 'max_depth': 4, 'gamma': 0.2493569580699462, 'min_child_weight': 2, 'subsample': 0.7621300691697281, 'colsample_bytree': 0.9042127763897434, 'colsample_bylevel': 0.8121953380480136, 'colsample_bynode': 0.8514519898246204, 'reg_lambda': 0.09502863216003886, 'reg_alpha': 0.684405275087446, 'scale_pos_weight': 5}. Best is trial 2 with value: 0.8512397614757001.\n",
      "[I 2023-06-07 14:34:13,591] Trial 3 finished with value: 0.8489415925521403 and parameters: {'n_estimators': 300, 'max_depth': 3, 'gamma': 0.4480597731270386, 'min_child_weight': 3, 'subsample': 0.7306062401587412, 'colsample_bytree': 0.5180984902272008, 'colsample_bylevel': 0.8184670877107705, 'colsample_bynode': 0.7678647202905695, 'reg_lambda': 0.9715687088385976, 'reg_alpha': 0.021068337353270256, 'scale_pos_weight': 4}. Best is trial 2 with value: 0.8512397614757001.\n",
      "[I 2023-06-07 14:34:30,791] Trial 4 finished with value: 0.8384270109235352 and parameters: {'n_estimators': 200, 'max_depth': 4, 'gamma': 0.11572464831657446, 'min_child_weight': 2, 'subsample': 0.698615668217088, 'colsample_bytree': 0.6057095944723483, 'colsample_bylevel': 0.7646387774508754, 'colsample_bynode': 0.9526311896258577, 'reg_lambda': 0.9009219796740655, 'reg_alpha': 0.8636976390678133, 'scale_pos_weight': 2}. Best is trial 2 with value: 0.8512397614757001.\n",
      "[I 2023-06-07 14:35:40,851] Trial 5 finished with value: 0.8718993191450695 and parameters: {'n_estimators': 910, 'max_depth': 3, 'gamma': 0.39255351816279666, 'min_child_weight': 2, 'subsample': 0.7757298417612299, 'colsample_bytree': 0.9597274250102559, 'colsample_bylevel': 0.9474001963203285, 'colsample_bynode': 0.808967847024358, 'reg_lambda': 0.650091606887094, 'reg_alpha': 0.30273838035396533, 'scale_pos_weight': 2}. Best is trial 5 with value: 0.8718993191450695.\n",
      "[I 2023-06-07 14:36:28,317] Trial 6 finished with value: 0.8417985473778096 and parameters: {'n_estimators': 400, 'max_depth': 5, 'gamma': 0.29453387770457584, 'min_child_weight': 2, 'subsample': 0.9637943264738416, 'colsample_bytree': 0.9182141662227319, 'colsample_bylevel': 0.8365001398996369, 'colsample_bynode': 0.9925772978098356, 'reg_lambda': 0.8254375093120846, 'reg_alpha': 0.49447997491578155, 'scale_pos_weight': 2}. Best is trial 5 with value: 0.8718993191450695.\n",
      "[I 2023-06-07 14:36:44,163] Trial 7 finished with value: 0.8579153899908617 and parameters: {'n_estimators': 260, 'max_depth': 4, 'gamma': 0.1814471978028092, 'min_child_weight': 3, 'subsample': 0.9910917788589528, 'colsample_bytree': 0.7472801485464585, 'colsample_bylevel': 0.5181559261479494, 'colsample_bynode': 0.7986876579469264, 'reg_lambda': 0.07563832397547494, 'reg_alpha': 0.759341036926677, 'scale_pos_weight': 4}. Best is trial 5 with value: 0.8718993191450695.\n",
      "[I 2023-06-07 14:37:05,603] Trial 8 finished with value: 0.8630337709713117 and parameters: {'n_estimators': 230, 'max_depth': 3, 'gamma': 0.21330796294884025, 'min_child_weight': 1, 'subsample': 0.955320214044442, 'colsample_bytree': 0.8144065783451153, 'colsample_bylevel': 0.917630573816173, 'colsample_bynode': 0.6074839591554331, 'reg_lambda': 0.7093960876403806, 'reg_alpha': 0.050822751994755604, 'scale_pos_weight': 5}. Best is trial 5 with value: 0.8718993191450695.\n",
      "[I 2023-06-07 14:37:53,120] Trial 9 finished with value: 0.8576066925461164 and parameters: {'n_estimators': 860, 'max_depth': 3, 'gamma': 0.3229659465872301, 'min_child_weight': 3, 'subsample': 0.8455600836114123, 'colsample_bytree': 0.7190331506460896, 'colsample_bylevel': 0.9573587446273024, 'colsample_bynode': 0.8008365482497797, 'reg_lambda': 0.9128688144137594, 'reg_alpha': 0.2504898388928999, 'scale_pos_weight': 3}. Best is trial 5 with value: 0.8718993191450695.\n",
      "[I 2023-06-07 14:38:58,001] Trial 10 finished with value: 0.8546190936945652 and parameters: {'n_estimators': 970, 'max_depth': 3, 'gamma': 0.3952465865929565, 'min_child_weight': 1, 'subsample': 0.5429221344788078, 'colsample_bytree': 0.9598431823939307, 'colsample_bylevel': 0.997413694332715, 'colsample_bynode': 0.6699341974951564, 'reg_lambda': 0.40338296172975396, 'reg_alpha': 0.4202531203527247, 'scale_pos_weight': 1}. Best is trial 5 with value: 0.8718993191450695.\n",
      "[I 2023-06-07 14:39:44,474] Trial 11 finished with value: 0.8548945755326613 and parameters: {'n_estimators': 720, 'max_depth': 3, 'gamma': 0.18846348757858628, 'min_child_weight': 1, 'subsample': 0.8911189791574868, 'colsample_bytree': 0.9826857080704242, 'colsample_bylevel': 0.9135720055541301, 'colsample_bynode': 0.5081437446597937, 'reg_lambda': 0.6786431877467133, 'reg_alpha': 0.06901941701118602, 'scale_pos_weight': 5}. Best is trial 5 with value: 0.8718993191450695.\n",
      "[I 2023-06-07 14:40:32,982] Trial 12 finished with value: 0.8610072457723726 and parameters: {'n_estimators': 570, 'max_depth': 3, 'gamma': 0.5064125466432905, 'min_child_weight': 1, 'subsample': 0.8630217894790309, 'colsample_bytree': 0.8264032505591148, 'colsample_bylevel': 0.9213226804170319, 'colsample_bynode': 0.6759888220274396, 'reg_lambda': 0.6039530272628231, 'reg_alpha': 0.2305942106554933, 'scale_pos_weight': 3}. Best is trial 5 with value: 0.8718993191450695.\n",
      "[I 2023-06-07 14:41:12,555] Trial 13 finished with value: 0.8552842520656061 and parameters: {'n_estimators': 570, 'max_depth': 3, 'gamma': 0.5628629285353228, 'min_child_weight': 2, 'subsample': 0.8067476899545856, 'colsample_bytree': 0.9918942728882459, 'colsample_bylevel': 0.8903511224527375, 'colsample_bynode': 0.6657092724455683, 'reg_lambda': 0.4390487024749476, 'reg_alpha': 0.21832140378668224, 'scale_pos_weight': 4}. Best is trial 5 with value: 0.8718993191450695.\n",
      "[I 2023-06-07 14:42:15,075] Trial 14 finished with value: 0.8683327556775773 and parameters: {'n_estimators': 730, 'max_depth': 3, 'gamma': 0.21876066881626952, 'min_child_weight': 1, 'subsample': 0.9326943444829123, 'colsample_bytree': 0.812284000731459, 'colsample_bylevel': 0.999423632772736, 'colsample_bynode': 0.5669133785498458, 'reg_lambda': 0.7728028277198422, 'reg_alpha': 0.9783815988067899, 'scale_pos_weight': 2}. Best is trial 5 with value: 0.8718993191450695.\n",
      "[I 2023-06-07 14:43:31,095] Trial 15 finished with value: 0.8621468469119739 and parameters: {'n_estimators': 760, 'max_depth': 4, 'gamma': 0.3873753185812144, 'min_child_weight': 2, 'subsample': 0.9106706005247344, 'colsample_bytree': 0.899459861273799, 'colsample_bylevel': 0.9984928535726114, 'colsample_bynode': 0.8768375167381172, 'reg_lambda': 0.7748363524507683, 'reg_alpha': 0.8700411788633386, 'scale_pos_weight': 2}. Best is trial 5 with value: 0.8718993191450695.\n",
      "[I 2023-06-07 14:44:18,522] Trial 16 finished with value: 0.8539616858237549 and parameters: {'n_estimators': 990, 'max_depth': 3, 'gamma': 0.14816866952781543, 'min_child_weight': 1, 'subsample': 0.7980606752670918, 'colsample_bytree': 0.8100324439348018, 'colsample_bylevel': 0.7067556109940418, 'colsample_bynode': 0.5067670962191814, 'reg_lambda': 0.6042642812360345, 'reg_alpha': 0.9978886577401882, 'scale_pos_weight': 1}. Best is trial 5 with value: 0.8718993191450695.\n",
      "[I 2023-06-07 14:45:12,631] Trial 17 finished with value: 0.8703263053928041 and parameters: {'n_estimators': 730, 'max_depth': 5, 'gamma': 0.26686785198829344, 'min_child_weight': 2, 'subsample': 0.8999069670029032, 'colsample_bytree': 0.7023470771031377, 'colsample_bylevel': 0.9326484710502089, 'colsample_bynode': 0.7491153713793315, 'reg_lambda': 0.8356041186719139, 'reg_alpha': 0.5728790267300579, 'scale_pos_weight': 3}. Best is trial 5 with value: 0.8718993191450695.\n",
      "[I 2023-06-07 14:46:10,881] Trial 18 finished with value: 0.8675213675213677 and parameters: {'n_estimators': 860, 'max_depth': 5, 'gamma': 0.2912324636355635, 'min_child_weight': 2, 'subsample': 0.8589614865015458, 'colsample_bytree': 0.7012377835385295, 'colsample_bylevel': 0.9356699195825385, 'colsample_bynode': 0.7250550823085187, 'reg_lambda': 0.8640189824111624, 'reg_alpha': 0.5663347056527077, 'scale_pos_weight': 3}. Best is trial 5 with value: 0.8718993191450695.\n",
      "[I 2023-06-07 14:46:59,173] Trial 19 finished with value: 0.8596054829503045 and parameters: {'n_estimators': 640, 'max_depth': 5, 'gamma': 0.3649701092326803, 'min_child_weight': 2, 'subsample': 0.9943367901722578, 'colsample_bytree': 0.6697182903059883, 'colsample_bylevel': 0.8640459813824342, 'colsample_bynode': 0.8565243189216495, 'reg_lambda': 0.9616280987611974, 'reg_alpha': 0.4319348139244993, 'scale_pos_weight': 3}. Best is trial 5 with value: 0.8718993191450695.\n",
      "[I 2023-06-07 14:47:30,780] Trial 20 finished with value: 0.8621082621082621 and parameters: {'n_estimators': 470, 'max_depth': 5, 'gamma': 0.266667609827072, 'min_child_weight': 3, 'subsample': 0.9063231660362954, 'colsample_bytree': 0.7747594434695046, 'colsample_bylevel': 0.9390913333600678, 'colsample_bynode': 0.7299217669915605, 'reg_lambda': 0.8713668209905627, 'reg_alpha': 0.35621094891696187, 'scale_pos_weight': 4}. Best is trial 5 with value: 0.8718993191450695.\n",
      "[I 2023-06-07 14:48:18,960] Trial 21 finished with value: 0.8641771870411393 and parameters: {'n_estimators': 800, 'max_depth': 4, 'gamma': 0.2288181253351855, 'min_child_weight': 2, 'subsample': 0.9263776743578251, 'colsample_bytree': 0.7663632800098132, 'colsample_bylevel': 0.9979542479803424, 'colsample_bynode': 0.584202304128361, 'reg_lambda': 0.7725696628845794, 'reg_alpha': 0.5988299713189382, 'scale_pos_weight': 2}. Best is trial 5 with value: 0.8718993191450695.\n",
      "[I 2023-06-07 14:49:13,073] Trial 22 finished with value: 0.8663144134846922 and parameters: {'n_estimators': 680, 'max_depth': 3, 'gamma': 0.30855602995768944, 'min_child_weight': 1, 'subsample': 0.9400096650909466, 'colsample_bytree': 0.8531418369422664, 'colsample_bylevel': 0.9648471890415525, 'colsample_bynode': 0.5836414931563549, 'reg_lambda': 0.7988364410307656, 'reg_alpha': 0.5055475302216602, 'scale_pos_weight': 2}. Best is trial 5 with value: 0.8718993191450695.\n",
      "[I 2023-06-07 14:50:22,515] Trial 23 finished with value: 0.867111770102797 and parameters: {'n_estimators': 890, 'max_depth': 4, 'gamma': 0.23072124272365196, 'min_child_weight': 2, 'subsample': 0.830343964114514, 'colsample_bytree': 0.946750102371138, 'colsample_bylevel': 0.8891032777209619, 'colsample_bynode': 0.714864865182488, 'reg_lambda': 0.6773974360077836, 'reg_alpha': 0.9586474140630619, 'scale_pos_weight': 3}. Best is trial 5 with value: 0.8718993191450695.\n",
      "[I 2023-06-07 14:51:41,410] Trial 24 finished with value: 0.8692461873638344 and parameters: {'n_estimators': 790, 'max_depth': 5, 'gamma': 0.1623126666531247, 'min_child_weight': 1, 'subsample': 0.8852260317336014, 'colsample_bytree': 0.8692300003301636, 'colsample_bylevel': 0.9614403419410456, 'colsample_bynode': 0.7657581285281228, 'reg_lambda': 0.9903741126642677, 'reg_alpha': 0.7008430401135899, 'scale_pos_weight': 1}. Best is trial 5 with value: 0.8718993191450695.\n",
      "[I 2023-06-07 14:52:38,868] Trial 25 finished with value: 0.8578656898656899 and parameters: {'n_estimators': 900, 'max_depth': 5, 'gamma': 0.11441084097324011, 'min_child_weight': 2, 'subsample': 0.8875861498161846, 'colsample_bytree': 0.8770830730552818, 'colsample_bylevel': 0.9402171395186163, 'colsample_bynode': 0.7785386474567958, 'reg_lambda': 0.9786906606502381, 'reg_alpha': 0.6939453145896227, 'scale_pos_weight': 1}. Best is trial 5 with value: 0.8718993191450695.\n",
      "[I 2023-06-07 14:53:26,725] Trial 26 finished with value: 0.8512662696029837 and parameters: {'n_estimators': 810, 'max_depth': 5, 'gamma': 0.15015560173823436, 'min_child_weight': 3, 'subsample': 0.8002314958556499, 'colsample_bytree': 0.9372229058515639, 'colsample_bylevel': 0.9529438710338112, 'colsample_bynode': 0.810752779409027, 'reg_lambda': 0.9898822340594131, 'reg_alpha': 0.5648107263942108, 'scale_pos_weight': 1}. Best is trial 5 with value: 0.8718993191450695.\n",
      "[I 2023-06-07 14:54:12,506] Trial 27 finished with value: 0.8547932659275611 and parameters: {'n_estimators': 620, 'max_depth': 5, 'gamma': 0.3351716816987617, 'min_child_weight': 2, 'subsample': 0.8715268837230535, 'colsample_bytree': 0.9946810513008613, 'colsample_bylevel': 0.8877332287757641, 'colsample_bynode': 0.829757670731978, 'reg_lambda': 0.8508062148097568, 'reg_alpha': 0.7039190824587854, 'scale_pos_weight': 1}. Best is trial 5 with value: 0.8718993191450695.\n",
      "[I 2023-06-07 14:55:04,268] Trial 28 finished with value: 0.8591309087661798 and parameters: {'n_estimators': 500, 'max_depth': 5, 'gamma': 0.27642126363646097, 'min_child_weight': 1, 'subsample': 0.8381296740441806, 'colsample_bytree': 0.8880349235517188, 'colsample_bylevel': 0.9692473365599605, 'colsample_bynode': 0.7606211932103774, 'reg_lambda': 0.9100615457985785, 'reg_alpha': 0.6292145952253262, 'scale_pos_weight': 3}. Best is trial 5 with value: 0.8718993191450695.\n",
      "[I 2023-06-07 14:55:21,145] Trial 29 finished with value: 0.8582301159736401 and parameters: {'n_estimators': 110, 'max_depth': 4, 'gamma': 0.939771312229503, 'min_child_weight': 2, 'subsample': 0.8951234110868176, 'colsample_bytree': 0.9301429668990873, 'colsample_bylevel': 0.8716623590867625, 'colsample_bynode': 0.8936668914095708, 'reg_lambda': 0.8300266687924045, 'reg_alpha': 0.7633465487191587, 'scale_pos_weight': 2}. Best is trial 5 with value: 0.8718993191450695.\n",
      "[I 2023-06-07 14:56:18,017] Trial 30 finished with value: 0.8396700861885563 and parameters: {'n_estimators': 930, 'max_depth': 5, 'gamma': 0.4441014527076381, 'min_child_weight': 1, 'subsample': 0.77861766281849, 'colsample_bytree': 0.6402464766369377, 'colsample_bylevel': 0.8473109288148949, 'colsample_bynode': 0.7471018098618236, 'reg_lambda': 0.9964254284098398, 'reg_alpha': 0.5251471084159138, 'scale_pos_weight': 1}. Best is trial 5 with value: 0.8718993191450695.\n",
      "[I 2023-06-07 14:57:27,643] Trial 31 finished with value: 0.8627377127875633 and parameters: {'n_estimators': 780, 'max_depth': 3, 'gamma': 0.19153303460960325, 'min_child_weight': 1, 'subsample': 0.9395803662616479, 'colsample_bytree': 0.8421273477746805, 'colsample_bylevel': 0.9989251236214448, 'colsample_bynode': 0.781923480917353, 'reg_lambda': 0.7741133245348333, 'reg_alpha': 0.837269971328206, 'scale_pos_weight': 2}. Best is trial 5 with value: 0.8718993191450695.\n",
      "[I 2023-06-07 14:58:51,845] Trial 32 finished with value: 0.8455821556794744 and parameters: {'n_estimators': 720, 'max_depth': 4, 'gamma': 0.22402322194984586, 'min_child_weight': 1, 'subsample': 0.967203221256046, 'colsample_bytree': 0.8697778412939455, 'colsample_bylevel': 0.9656716338739461, 'colsample_bynode': 0.8266293563094296, 'reg_lambda': 0.9109293807845895, 'reg_alpha': 0.9439139609546024, 'scale_pos_weight': 2}. Best is trial 5 with value: 0.8718993191450695.\n",
      "[I 2023-06-07 15:00:30,605] Trial 33 finished with value: 0.8511113008338314 and parameters: {'n_estimators': 830, 'max_depth': 5, 'gamma': 0.2493525229779799, 'min_child_weight': 1, 'subsample': 0.9120736667820811, 'colsample_bytree': 0.9097080545356342, 'colsample_bylevel': 0.9245536490813255, 'colsample_bynode': 0.9296331727868893, 'reg_lambda': 0.7219429819900398, 'reg_alpha': 0.6578284950616621, 'scale_pos_weight': 2}. Best is trial 5 with value: 0.8718993191450695.\n",
      "[I 2023-06-07 15:01:36,088] Trial 34 finished with value: 0.8736024567367519 and parameters: {'n_estimators': 740, 'max_depth': 3, 'gamma': 0.1536014908421728, 'min_child_weight': 1, 'subsample': 0.9290668145570486, 'colsample_bytree': 0.7992788899668049, 'colsample_bylevel': 0.9689119033309274, 'colsample_bynode': 0.8323864043187383, 'reg_lambda': 0.8156527155537512, 'reg_alpha': 0.7758717979784668, 'scale_pos_weight': 1}. Best is trial 34 with value: 0.8736024567367519.\n",
      "[I 2023-06-07 15:02:13,638] Trial 35 finished with value: 0.8622992693580928 and parameters: {'n_estimators': 640, 'max_depth': 4, 'gamma': 0.1030778687620449, 'min_child_weight': 2, 'subsample': 0.7517186992974507, 'colsample_bytree': 0.7830294671043043, 'colsample_bylevel': 0.9616256688839564, 'colsample_bynode': 0.8423282593908674, 'reg_lambda': 0.853459840794706, 'reg_alpha': 0.7195212845523882, 'scale_pos_weight': 1}. Best is trial 34 with value: 0.8736024567367519.\n",
      "[I 2023-06-07 15:03:28,634] Trial 36 finished with value: 0.8429451140794093 and parameters: {'n_estimators': 950, 'max_depth': 5, 'gamma': 0.1529094181179798, 'min_child_weight': 1, 'subsample': 0.8279683555610222, 'colsample_bytree': 0.8664903058595477, 'colsample_bylevel': 0.9120645022321053, 'colsample_bynode': 0.7986834277617123, 'reg_lambda': 0.9364867657712296, 'reg_alpha': 0.6406327810137487, 'scale_pos_weight': 1}. Best is trial 34 with value: 0.8736024567367519.\n",
      "[I 2023-06-07 15:03:57,923] Trial 37 finished with value: 0.8426340391341938 and parameters: {'n_estimators': 680, 'max_depth': 3, 'gamma': 0.1354076327774674, 'min_child_weight': 3, 'subsample': 0.8738795428008203, 'colsample_bytree': 0.7332547295251021, 'colsample_bylevel': 0.8031911406385602, 'colsample_bynode': 0.7540679261800406, 'reg_lambda': 0.933930111768942, 'reg_alpha': 0.783669989177523, 'scale_pos_weight': 1}. Best is trial 34 with value: 0.8736024567367519.\n",
      "[I 2023-06-07 15:04:33,219] Trial 38 finished with value: 0.8459484134067929 and parameters: {'n_estimators': 850, 'max_depth': 4, 'gamma': 0.16714691073003177, 'min_child_weight': 2, 'subsample': 0.7365694847658042, 'colsample_bytree': 0.5637442405900022, 'colsample_bylevel': 0.8909263665163382, 'colsample_bynode': 0.8501415835217011, 'reg_lambda': 0.838257371723428, 'reg_alpha': 0.7374274765711356, 'scale_pos_weight': 1}. Best is trial 34 with value: 0.8736024567367519.\n",
      "[I 2023-06-07 15:05:52,255] Trial 39 finished with value: 0.8603321090858478 and parameters: {'n_estimators': 760, 'max_depth': 4, 'gamma': 0.12858039579026506, 'min_child_weight': 1, 'subsample': 0.9592820680385516, 'colsample_bytree': 0.9144909220072833, 'colsample_bylevel': 0.9769548378146032, 'colsample_bynode': 0.8181822497584235, 'reg_lambda': 0.885902247145554, 'reg_alpha': 0.8029698764371763, 'scale_pos_weight': 4}. Best is trial 34 with value: 0.8736024567367519.\n",
      "[I 2023-06-07 15:07:04,388] Trial 40 finished with value: 0.854599677100653 and parameters: {'n_estimators': 910, 'max_depth': 4, 'gamma': 0.16980718747526763, 'min_child_weight': 2, 'subsample': 0.9776080630297753, 'colsample_bytree': 0.9663458121296448, 'colsample_bylevel': 0.8335146973533438, 'colsample_bynode': 0.7904573153032137, 'reg_lambda': 0.7216674749700678, 'reg_alpha': 0.6621794454805027, 'scale_pos_weight': 2}. Best is trial 34 with value: 0.8736024567367519.\n",
      "[I 2023-06-07 15:08:12,680] Trial 41 finished with value: 0.8493169491408995 and parameters: {'n_estimators': 730, 'max_depth': 3, 'gamma': 0.2035136345509129, 'min_child_weight': 1, 'subsample': 0.9238415897628239, 'colsample_bytree': 0.8001272558972169, 'colsample_bylevel': 0.9455648567821994, 'colsample_bynode': 0.8806758220447539, 'reg_lambda': 0.7417909343698532, 'reg_alpha': 0.901791804829768, 'scale_pos_weight': 2}. Best is trial 34 with value: 0.8736024567367519.\n",
      "[I 2023-06-07 15:09:17,826] Trial 42 finished with value: 0.8582798612708882 and parameters: {'n_estimators': 710, 'max_depth': 3, 'gamma': 0.2083022028169934, 'min_child_weight': 1, 'subsample': 0.9413031536798473, 'colsample_bytree': 0.8416084883641908, 'colsample_bylevel': 0.9815813402343339, 'colsample_bynode': 0.7750379717996465, 'reg_lambda': 0.8037499336227981, 'reg_alpha': 0.8037801533799196, 'scale_pos_weight': 3}. Best is trial 34 with value: 0.8736024567367519.\n",
      "[I 2023-06-07 15:10:17,301] Trial 43 finished with value: 0.8659341120095837 and parameters: {'n_estimators': 780, 'max_depth': 3, 'gamma': 0.2505824057505331, 'min_child_weight': 1, 'subsample': 0.8919503893423487, 'colsample_bytree': 0.7493885869596499, 'colsample_bylevel': 0.9775624267706371, 'colsample_bynode': 0.7012793072530544, 'reg_lambda': 0.6638315615112501, 'reg_alpha': 0.8311124785030068, 'scale_pos_weight': 2}. Best is trial 34 with value: 0.8736024567367519.\n",
      "[I 2023-06-07 15:11:06,711] Trial 44 finished with value: 0.8354844897855255 and parameters: {'n_estimators': 590, 'max_depth': 3, 'gamma': 0.17686188718866563, 'min_child_weight': 1, 'subsample': 0.9716752145452214, 'colsample_bytree': 0.8184419221570145, 'colsample_bylevel': 0.9450641908780645, 'colsample_bynode': 0.744685079774791, 'reg_lambda': 0.941734106123482, 'reg_alpha': 0.8986706505793403, 'scale_pos_weight': 1}. Best is trial 34 with value: 0.8736024567367519.\n",
      "[I 2023-06-07 15:11:37,242] Trial 45 finished with value: 0.8539162387052679 and parameters: {'n_estimators': 360, 'max_depth': 3, 'gamma': 0.18952491235927624, 'min_child_weight': 1, 'subsample': 0.8564929861227354, 'colsample_bytree': 0.7877019391885332, 'colsample_bylevel': 0.9223003091035589, 'colsample_bynode': 0.7960855409599072, 'reg_lambda': 0.7966862167321468, 'reg_alpha': 0.750517011131703, 'scale_pos_weight': 2}. Best is trial 34 with value: 0.8736024567367519.\n",
      "[I 2023-06-07 15:12:23,861] Trial 46 finished with value: 0.8401684621599003 and parameters: {'n_estimators': 680, 'max_depth': 3, 'gamma': 0.33444375830647705, 'min_child_weight': 1, 'subsample': 0.9234741070814604, 'colsample_bytree': 0.8247501570096547, 'colsample_bylevel': 0.9084276199933512, 'colsample_bynode': 0.646835992002239, 'reg_lambda': 0.8860415212286411, 'reg_alpha': 0.6905766295507236, 'scale_pos_weight': 1}. Best is trial 34 with value: 0.8736024567367519.\n",
      "[I 2023-06-07 15:13:26,228] Trial 47 finished with value: 0.8572230252307003 and parameters: {'n_estimators': 820, 'max_depth': 3, 'gamma': 0.20513645260649946, 'min_child_weight': 2, 'subsample': 0.9996569348072897, 'colsample_bytree': 0.8973726886315196, 'colsample_bylevel': 0.9768713151892102, 'colsample_bynode': 0.6965412837003749, 'reg_lambda': 0.7465521261720148, 'reg_alpha': 0.6099619492070536, 'scale_pos_weight': 4}. Best is trial 34 with value: 0.8736024567367519.\n",
      "[I 2023-06-07 15:14:09,564] Trial 48 finished with value: 0.838479296227775 and parameters: {'n_estimators': 870, 'max_depth': 3, 'gamma': 0.16185059967510157, 'min_child_weight': 3, 'subsample': 0.693798460080526, 'colsample_bytree': 0.7627749240879231, 'colsample_bylevel': 0.9471366087815033, 'colsample_bynode': 0.8127391755846235, 'reg_lambda': 0.635895498229449, 'reg_alpha': 0.8478796406972674, 'scale_pos_weight': 3}. Best is trial 34 with value: 0.8736024567367519.\n",
      "[I 2023-06-07 15:15:03,054] Trial 49 finished with value: 0.856083424091099 and parameters: {'n_estimators': 520, 'max_depth': 5, 'gamma': 0.29138215980356325, 'min_child_weight': 1, 'subsample': 0.8789827385460496, 'colsample_bytree': 0.8432011114029808, 'colsample_bylevel': 0.9852182468616308, 'colsample_bynode': 0.7627502978523559, 'reg_lambda': 0.5547633169563524, 'reg_alpha': 0.7340582260068867, 'scale_pos_weight': 5}. Best is trial 34 with value: 0.8736024567367519.\n",
      "[I 2023-06-07 15:15:55,255] Trial 50 finished with value: 0.8473183940242764 and parameters: {'n_estimators': 980, 'max_depth': 3, 'gamma': 0.18220626852673988, 'min_child_weight': 2, 'subsample': 0.9492100474423195, 'colsample_bytree': 0.7245287413778395, 'colsample_bylevel': 0.9280214807527087, 'colsample_bynode': 0.7261934544716242, 'reg_lambda': 0.6921921996888729, 'reg_alpha': 0.790662131164636, 'scale_pos_weight': 1}. Best is trial 34 with value: 0.8736024567367519.\n",
      "[I 2023-06-07 15:16:40,964] Trial 51 finished with value: 0.8610072457723726 and parameters: {'n_estimators': 840, 'max_depth': 5, 'gamma': 0.29419645798888466, 'min_child_weight': 2, 'subsample': 0.852245018051748, 'colsample_bytree': 0.6823984550238448, 'colsample_bylevel': 0.9335194755814873, 'colsample_bynode': 0.738500029464808, 'reg_lambda': 0.8676171691595834, 'reg_alpha': 0.6046502642130244, 'scale_pos_weight': 3}. Best is trial 34 with value: 0.8736024567367519.\n",
      "[I 2023-06-07 15:17:29,829] Trial 52 finished with value: 0.8613273459459687 and parameters: {'n_estimators': 760, 'max_depth': 5, 'gamma': 0.25604790858745413, 'min_child_weight': 2, 'subsample': 0.9139202007230911, 'colsample_bytree': 0.7067388588049495, 'colsample_bylevel': 0.9589220115669196, 'colsample_bynode': 0.775531725120454, 'reg_lambda': 0.8098250824229614, 'reg_alpha': 0.5593284745003945, 'scale_pos_weight': 3}. Best is trial 34 with value: 0.8736024567367519.\n",
      "[I 2023-06-07 15:18:16,290] Trial 53 finished with value: 0.8703263053928041 and parameters: {'n_estimators': 870, 'max_depth': 5, 'gamma': 0.2340221697850969, 'min_child_weight': 2, 'subsample': 0.8620368890924527, 'colsample_bytree': 0.7921419334995599, 'colsample_bylevel': 0.904404524263908, 'colsample_bynode': 0.7299838274920726, 'reg_lambda': 0.9555383815304789, 'reg_alpha': 0.47486117419894036, 'scale_pos_weight': 3}. Best is trial 34 with value: 0.8736024567367519.\n",
      "[I 2023-06-07 15:18:56,929] Trial 54 finished with value: 0.8627791355814832 and parameters: {'n_estimators': 880, 'max_depth': 5, 'gamma': 0.2366552291388708, 'min_child_weight': 2, 'subsample': 0.8944356439999677, 'colsample_bytree': 0.8004174786867403, 'colsample_bylevel': 0.9047534400643953, 'colsample_bynode': 0.5270051023208859, 'reg_lambda': 0.943415661018368, 'reg_alpha': 0.4298539884942487, 'scale_pos_weight': 3}. Best is trial 34 with value: 0.8736024567367519.\n",
      "[I 2023-06-07 15:19:44,692] Trial 55 finished with value: 0.8608175138701455 and parameters: {'n_estimators': 940, 'max_depth': 5, 'gamma': 0.2161027419846648, 'min_child_weight': 2, 'subsample': 0.8192878260401273, 'colsample_bytree': 0.7603062320366987, 'colsample_bylevel': 0.996250937418589, 'colsample_bynode': 0.7063351558621356, 'reg_lambda': 0.9978358637488857, 'reg_alpha': 0.46724855551561106, 'scale_pos_weight': 2}. Best is trial 34 with value: 0.8736024567367519.\n",
      "[I 2023-06-07 15:20:42,199] Trial 56 finished with value: 0.8625268847545413 and parameters: {'n_estimators': 800, 'max_depth': 5, 'gamma': 0.24052045257594407, 'min_child_weight': 1, 'subsample': 0.8587992992914002, 'colsample_bytree': 0.7856466897892359, 'colsample_bylevel': 0.9522417811249294, 'colsample_bynode': 0.6873212059939173, 'reg_lambda': 0.8957570632479488, 'reg_alpha': 0.362986882763437, 'scale_pos_weight': 4}. Best is trial 34 with value: 0.8736024567367519.\n",
      "[I 2023-06-07 15:21:17,984] Trial 57 finished with value: 0.8544808048929907 and parameters: {'n_estimators': 740, 'max_depth': 5, 'gamma': 0.25992221647926717, 'min_child_weight': 3, 'subsample': 0.7835594942482922, 'colsample_bytree': 0.7402307145097431, 'colsample_bylevel': 0.9047960270033765, 'colsample_bynode': 0.7255998559578963, 'reg_lambda': 0.9530865169418131, 'reg_alpha': 0.6763140519009101, 'scale_pos_weight': 4}. Best is trial 34 with value: 0.8736024567367519.\n",
      "[I 2023-06-07 15:22:08,001] Trial 58 finished with value: 0.8634635432874938 and parameters: {'n_estimators': 1000, 'max_depth': 3, 'gamma': 0.2793895350437452, 'min_child_weight': 2, 'subsample': 0.8432925799874691, 'colsample_bytree': 0.8285558728528417, 'colsample_bylevel': 0.8714049626561895, 'colsample_bynode': 0.6383744674028663, 'reg_lambda': 0.8303080312269423, 'reg_alpha': 0.5284171596515704, 'scale_pos_weight': 3}. Best is trial 34 with value: 0.8736024567367519.\n",
      "[I 2023-06-07 15:23:01,166] Trial 59 finished with value: 0.8582462424048609 and parameters: {'n_estimators': 690, 'max_depth': 5, 'gamma': 0.19317832039998417, 'min_child_weight': 2, 'subsample': 0.8768923614988546, 'colsample_bytree': 0.8826676950461243, 'colsample_bylevel': 0.931644238565815, 'colsample_bynode': 0.7659951424950306, 'reg_lambda': 0.9048529860502076, 'reg_alpha': 0.9911912040036247, 'scale_pos_weight': 3}. Best is trial 34 with value: 0.8736024567367519.\n",
      "[I 2023-06-07 15:24:26,895] Trial 60 finished with value: 0.8505549778997995 and parameters: {'n_estimators': 920, 'max_depth': 4, 'gamma': 0.31241352365261743, 'min_child_weight': 1, 'subsample': 0.9058396723744789, 'colsample_bytree': 0.8033526940746936, 'colsample_bylevel': 0.9619974313100778, 'colsample_bynode': 0.83536523551429, 'reg_lambda': 0.7632256977917788, 'reg_alpha': 0.46053831317893856, 'scale_pos_weight': 2}. Best is trial 34 with value: 0.8736024567367519.\n",
      "[I 2023-06-07 15:25:15,241] Trial 61 finished with value: 0.8549558245910956 and parameters: {'n_estimators': 860, 'max_depth': 5, 'gamma': 0.3679566379346064, 'min_child_weight': 2, 'subsample': 0.816271361753011, 'colsample_bytree': 0.7092682372789623, 'colsample_bylevel': 0.937393315319283, 'colsample_bynode': 0.7313073577356536, 'reg_lambda': 0.8600813854531679, 'reg_alpha': 0.5662078501451964, 'scale_pos_weight': 3}. Best is trial 34 with value: 0.8736024567367519.\n",
      "[I 2023-06-07 15:25:59,071] Trial 62 finished with value: 0.8566161055617215 and parameters: {'n_estimators': 640, 'max_depth': 5, 'gamma': 0.32168744168862246, 'min_child_weight': 2, 'subsample': 0.8651032663312801, 'colsample_bytree': 0.7651782428159034, 'colsample_bylevel': 0.9831753973184981, 'colsample_bynode': 0.7494391308236042, 'reg_lambda': 0.8168972249676054, 'reg_alpha': 0.6395701999482737, 'scale_pos_weight': 3}. Best is trial 34 with value: 0.8736024567367519.\n",
      "[I 2023-06-07 15:26:58,854] Trial 63 finished with value: 0.8569180887420391 and parameters: {'n_estimators': 790, 'max_depth': 5, 'gamma': 0.2705350186565005, 'min_child_weight': 2, 'subsample': 0.9319382999397918, 'colsample_bytree': 0.8659500989356373, 'colsample_bylevel': 0.9620680937916885, 'colsample_bynode': 0.7200270940859097, 'reg_lambda': 0.7775234947214968, 'reg_alpha': 0.5782378341997455, 'scale_pos_weight': 3}. Best is trial 34 with value: 0.8736024567367519.\n",
      "[I 2023-06-07 15:27:45,404] Trial 64 finished with value: 0.8516221033868092 and parameters: {'n_estimators': 900, 'max_depth': 5, 'gamma': 0.22861136799688173, 'min_child_weight': 2, 'subsample': 0.8399099042031494, 'colsample_bytree': 0.7469050379673384, 'colsample_bylevel': 0.9300755763996666, 'colsample_bynode': 0.8039230762889076, 'reg_lambda': 0.8759173462884744, 'reg_alpha': 0.5384840902659145, 'scale_pos_weight': 1}. Best is trial 34 with value: 0.8736024567367519.\n",
      "[I 2023-06-07 15:28:51,866] Trial 65 finished with value: 0.8715190176699611 and parameters: {'n_estimators': 830, 'max_depth': 5, 'gamma': 0.22024435419027455, 'min_child_weight': 2, 'subsample': 0.9517075080672052, 'colsample_bytree': 0.9222350311390679, 'colsample_bylevel': 0.9881900141161979, 'colsample_bynode': 0.7833870439543643, 'reg_lambda': 0.9636899726795892, 'reg_alpha': 0.6149593159320536, 'scale_pos_weight': 2}. Best is trial 34 with value: 0.8736024567367519.\n",
      "[I 2023-06-07 15:30:08,520] Trial 66 finished with value: 0.8611523836533597 and parameters: {'n_estimators': 960, 'max_depth': 5, 'gamma': 0.21857440239411433, 'min_child_weight': 2, 'subsample': 0.9581130044240477, 'colsample_bytree': 0.9293023331211602, 'colsample_bylevel': 0.9942304417886604, 'colsample_bynode': 0.7866246069255333, 'reg_lambda': 0.9711540205361069, 'reg_alpha': 0.6866310251660518, 'scale_pos_weight': 2}. Best is trial 34 with value: 0.8736024567367519.\n",
      "[I 2023-06-07 15:31:24,941] Trial 67 finished with value: 0.8486551069546285 and parameters: {'n_estimators': 750, 'max_depth': 3, 'gamma': 0.1586059854940515, 'min_child_weight': 1, 'subsample': 0.9309061746807026, 'colsample_bytree': 0.955221359317759, 'colsample_bylevel': 0.974389116531441, 'colsample_bynode': 0.8230375744054015, 'reg_lambda': 0.9195556912066745, 'reg_alpha': 0.6086162068435972, 'scale_pos_weight': 2}. Best is trial 34 with value: 0.8736024567367519.\n",
      "[I 2023-06-07 15:32:32,018] Trial 68 finished with value: 0.8451838331160365 and parameters: {'n_estimators': 710, 'max_depth': 5, 'gamma': 0.1748116780556153, 'min_child_weight': 2, 'subsample': 0.986677532214116, 'colsample_bytree': 0.8890291151508913, 'colsample_bylevel': 0.9993819126337958, 'colsample_bynode': 0.8620813257276749, 'reg_lambda': 0.9504420329680687, 'reg_alpha': 0.7292688849724949, 'scale_pos_weight': 2}. Best is trial 34 with value: 0.8736024567367519.\n",
      "[I 2023-06-07 15:33:29,353] Trial 69 finished with value: 0.8537591975993752 and parameters: {'n_estimators': 830, 'max_depth': 5, 'gamma': 0.1984732975129797, 'min_child_weight': 2, 'subsample': 0.9012703739799258, 'colsample_bytree': 0.978262506385338, 'colsample_bylevel': 0.9480123943302603, 'colsample_bynode': 0.7657541806624244, 'reg_lambda': 0.9752223254768599, 'reg_alpha': 0.7676190752243702, 'scale_pos_weight': 1}. Best is trial 34 with value: 0.8736024567367519.\n",
      "[I 2023-06-07 15:34:53,055] Trial 70 finished with value: 0.8624831681379022 and parameters: {'n_estimators': 810, 'max_depth': 3, 'gamma': 0.1807718391646657, 'min_child_weight': 1, 'subsample': 0.9477244806897898, 'colsample_bytree': 0.9096589930569894, 'colsample_bylevel': 0.9664891424648954, 'colsample_bynode': 0.8050601686484976, 'reg_lambda': 0.8445145898914035, 'reg_alpha': 0.707499746511181, 'scale_pos_weight': 2}. Best is trial 34 with value: 0.8736024567367519.\n",
      "[I 2023-06-07 15:35:54,709] Trial 71 finished with value: 0.8566360264473472 and parameters: {'n_estimators': 880, 'max_depth': 5, 'gamma': 0.23729900433123088, 'min_child_weight': 2, 'subsample': 0.8868278157412504, 'colsample_bytree': 0.9456408752757601, 'colsample_bylevel': 0.9173556126163366, 'colsample_bynode': 0.7127532806858204, 'reg_lambda': 0.9222785624958628, 'reg_alpha': 0.6372744948197723, 'scale_pos_weight': 3}. Best is trial 34 with value: 0.8736024567367519.\n",
      "[I 2023-06-07 15:36:52,627] Trial 72 finished with value: 0.867153192896717 and parameters: {'n_estimators': 780, 'max_depth': 5, 'gamma': 0.142057960683262, 'min_child_weight': 2, 'subsample': 0.9193508382271374, 'colsample_bytree': 0.8534217597973882, 'colsample_bylevel': 0.9840681103526553, 'colsample_bynode': 0.7854196566921878, 'reg_lambda': 0.8908302659329121, 'reg_alpha': 0.5863373369541823, 'scale_pos_weight': 3}. Best is trial 34 with value: 0.8736024567367519.\n",
      "[I 2023-06-07 15:37:32,737] Trial 73 finished with value: 0.8446719586633968 and parameters: {'n_estimators': 660, 'max_depth': 5, 'gamma': 0.2727202908091023, 'min_child_weight': 2, 'subsample': 0.9089379914951177, 'colsample_bytree': 0.8120524648720183, 'colsample_bylevel': 0.948673465497652, 'colsample_bynode': 0.7449039586167906, 'reg_lambda': 0.9702225721794646, 'reg_alpha': 0.5058972718570158, 'scale_pos_weight': 1}. Best is trial 34 with value: 0.8736024567367519.\n",
      "[I 2023-06-07 15:38:26,972] Trial 74 finished with value: 0.8610072457723726 and parameters: {'n_estimators': 850, 'max_depth': 5, 'gamma': 0.21234987229662838, 'min_child_weight': 2, 'subsample': 0.8734828521189023, 'colsample_bytree': 0.9275286051324577, 'colsample_bylevel': 0.8940563704447301, 'colsample_bynode': 0.6845675423721874, 'reg_lambda': 0.8612384893643258, 'reg_alpha': 0.6698018623304269, 'scale_pos_weight': 3}. Best is trial 34 with value: 0.8736024567367519.\n",
      "[I 2023-06-07 15:39:27,037] Trial 75 finished with value: 0.866695866519817 and parameters: {'n_estimators': 920, 'max_depth': 5, 'gamma': 0.24497059398709028, 'min_child_weight': 2, 'subsample': 0.9425278387157592, 'colsample_bytree': 0.7861155502995391, 'colsample_bylevel': 0.9683723541659832, 'colsample_bynode': 0.7373877342941523, 'reg_lambda': 0.7110823428405293, 'reg_alpha': 0.6247834546015174, 'scale_pos_weight': 2}. Best is trial 34 with value: 0.8736024567367519.\n",
      "[I 2023-06-07 15:40:19,522] Trial 76 finished with value: 0.8531516561426831 and parameters: {'n_estimators': 770, 'max_depth': 4, 'gamma': 0.22524504674448298, 'min_child_weight': 3, 'subsample': 0.9651154686136859, 'colsample_bytree': 0.8997146409106995, 'colsample_bylevel': 0.9204860855944899, 'colsample_bynode': 0.7606205244645917, 'reg_lambda': 0.9140000211405258, 'reg_alpha': 0.5548950453528707, 'scale_pos_weight': 4}. Best is trial 34 with value: 0.8736024567367519.\n",
      "[I 2023-06-07 15:41:03,365] Trial 77 finished with value: 0.8495379695456446 and parameters: {'n_estimators': 440, 'max_depth': 5, 'gamma': 0.30011089099207444, 'min_child_weight': 1, 'subsample': 0.8905337008130342, 'colsample_bytree': 0.7762634795539014, 'colsample_bylevel': 0.9377164699271698, 'colsample_bynode': 0.83961472358377, 'reg_lambda': 0.9988564925241723, 'reg_alpha': 0.5839090462357189, 'scale_pos_weight': 2}. Best is trial 34 with value: 0.8736024567367519.\n",
      "[I 2023-06-07 15:41:46,932] Trial 78 finished with value: 0.8407427518015753 and parameters: {'n_estimators': 600, 'max_depth': 3, 'gamma': 0.16517167511813047, 'min_child_weight': 2, 'subsample': 0.9816263275711914, 'colsample_bytree': 0.8767721539934088, 'colsample_bylevel': 0.9564150386164969, 'colsample_bynode': 0.8116723043931026, 'reg_lambda': 0.8370372669220894, 'reg_alpha': 0.713724049715981, 'scale_pos_weight': 1}. Best is trial 34 with value: 0.8736024567367519.\n",
      "[I 2023-06-07 15:43:03,471] Trial 79 finished with value: 0.8564716553287981 and parameters: {'n_estimators': 820, 'max_depth': 5, 'gamma': 0.34372602345915665, 'min_child_weight': 1, 'subsample': 0.8619629941444868, 'colsample_bytree': 0.8309215172876361, 'colsample_bylevel': 0.9750114442806503, 'colsample_bynode': 0.7926463088722889, 'reg_lambda': 0.7933797418579356, 'reg_alpha': 0.6549228251686002, 'scale_pos_weight': 1}. Best is trial 34 with value: 0.8736024567367519.\n",
      "[I 2023-06-07 15:44:04,092] Trial 80 finished with value: 0.8651716502997535 and parameters: {'n_estimators': 890, 'max_depth': 3, 'gamma': 0.2016942918412241, 'min_child_weight': 2, 'subsample': 0.921414843207353, 'colsample_bytree': 0.9178683791322267, 'colsample_bylevel': 0.8805967190110462, 'colsample_bynode': 0.7750757909225051, 'reg_lambda': 0.7487239363084446, 'reg_alpha': 0.5412392645156991, 'scale_pos_weight': 3}. Best is trial 34 with value: 0.8736024567367519.\n",
      "[I 2023-06-07 15:44:59,469] Trial 81 finished with value: 0.8710699238350508 and parameters: {'n_estimators': 790, 'max_depth': 5, 'gamma': 0.1394009209098357, 'min_child_weight': 2, 'subsample': 0.9156273768734646, 'colsample_bytree': 0.8565348399443461, 'colsample_bylevel': 0.987994206570352, 'colsample_bynode': 0.7803581645735289, 'reg_lambda': 0.8842531281425159, 'reg_alpha': 0.5775232310597964, 'scale_pos_weight': 3}. Best is trial 34 with value: 0.8736024567367519.\n",
      "[I 2023-06-07 15:45:50,063] Trial 82 finished with value: 0.8651716502997535 and parameters: {'n_estimators': 710, 'max_depth': 5, 'gamma': 0.14592587121349396, 'min_child_weight': 2, 'subsample': 0.9066323441522444, 'colsample_bytree': 0.8503523224355982, 'colsample_bylevel': 0.98468007028924, 'colsample_bynode': 0.7489504093790471, 'reg_lambda': 0.9321271717428607, 'reg_alpha': 0.506176100831017, 'scale_pos_weight': 3}. Best is trial 34 with value: 0.8736024567367519.\n",
      "[I 2023-06-07 15:46:52,222] Trial 83 finished with value: 0.8589323116219669 and parameters: {'n_estimators': 840, 'max_depth': 5, 'gamma': 0.13012732587486517, 'min_child_weight': 2, 'subsample': 0.9295943304419698, 'colsample_bytree': 0.8395823537227376, 'colsample_bylevel': 0.9534590086696023, 'colsample_bynode': 0.8285301055771225, 'reg_lambda': 0.87525502333359, 'reg_alpha': 0.6171385794912155, 'scale_pos_weight': 3}. Best is trial 34 with value: 0.8736024567367519.\n",
      "[I 2023-06-07 15:47:45,818] Trial 84 finished with value: 0.8654850181746733 and parameters: {'n_estimators': 730, 'max_depth': 5, 'gamma': 0.2552258389365684, 'min_child_weight': 2, 'subsample': 0.8823972002348491, 'colsample_bytree': 0.8602929539585421, 'colsample_bylevel': 0.9902671632912803, 'colsample_bynode': 0.7789993742844254, 'reg_lambda': 0.9608145226665938, 'reg_alpha': 0.5758537321730987, 'scale_pos_weight': 3}. Best is trial 34 with value: 0.8736024567367519.\n",
      "[I 2023-06-07 15:48:37,624] Trial 85 finished with value: 0.8627031260479476 and parameters: {'n_estimators': 790, 'max_depth': 5, 'gamma': 0.1531910814803312, 'min_child_weight': 2, 'subsample': 0.9520622139885038, 'colsample_bytree': 0.8216524042626677, 'colsample_bylevel': 0.9414444905428918, 'colsample_bynode': 0.7579047980587273, 'reg_lambda': 0.8133339629783553, 'reg_alpha': 0.5995858112804844, 'scale_pos_weight': 2}. Best is trial 34 with value: 0.8736024567367519.\n",
      "[I 2023-06-07 15:49:43,828] Trial 86 finished with value: 0.8542144091353017 and parameters: {'n_estimators': 870, 'max_depth': 4, 'gamma': 0.12219049874566332, 'min_child_weight': 1, 'subsample': 0.8523048357817693, 'colsample_bytree': 0.8115963299918212, 'colsample_bylevel': 0.9009729009381614, 'colsample_bynode': 0.7953669491279928, 'reg_lambda': 0.8984164648371621, 'reg_alpha': 0.6486027366199482, 'scale_pos_weight': 3}. Best is trial 34 with value: 0.8736024567367519.\n",
      "[I 2023-06-07 15:50:46,087] Trial 87 finished with value: 0.8408439465874707 and parameters: {'n_estimators': 940, 'max_depth': 3, 'gamma': 0.1407321267666576, 'min_child_weight': 2, 'subsample': 0.8958553233933338, 'colsample_bytree': 0.8910952808814968, 'colsample_bylevel': 0.9195794751733473, 'colsample_bynode': 0.8173247985765536, 'reg_lambda': 0.844044901610967, 'reg_alpha': 0.6918973778379789, 'scale_pos_weight': 4}. Best is trial 34 with value: 0.8736024567367519.\n",
      "[I 2023-06-07 15:51:35,518] Trial 88 finished with value: 0.8678892940824129 and parameters: {'n_estimators': 750, 'max_depth': 5, 'gamma': 0.2870584735731655, 'min_child_weight': 2, 'subsample': 0.8319483093449427, 'colsample_bytree': 0.7909487149986683, 'colsample_bylevel': 0.9676500601771211, 'colsample_bynode': 0.7196031084999571, 'reg_lambda': 0.9290065119570984, 'reg_alpha': 0.8797562121702618, 'scale_pos_weight': 2}. Best is trial 34 with value: 0.8736024567367519.\n",
      "[I 2023-06-07 15:52:24,038] Trial 89 finished with value: 0.8651716502997535 and parameters: {'n_estimators': 660, 'max_depth': 5, 'gamma': 0.17115911729155414, 'min_child_weight': 2, 'subsample': 0.9166501889342125, 'colsample_bytree': 0.8022032291083604, 'colsample_bylevel': 0.9698808951711368, 'colsample_bynode': 0.7357469178508238, 'reg_lambda': 0.9384109217732785, 'reg_alpha': 0.88562582530684, 'scale_pos_weight': 2}. Best is trial 34 with value: 0.8736024567367519.\n",
      "[I 2023-06-07 15:53:26,222] Trial 90 finished with value: 0.8732485730725233 and parameters: {'n_estimators': 750, 'max_depth': 5, 'gamma': 0.18226036125438633, 'min_child_weight': 1, 'subsample': 0.8344532235219309, 'colsample_bytree': 0.7962615878016075, 'colsample_bylevel': 0.9950848596496665, 'colsample_bynode': 0.7115063321818464, 'reg_lambda': 0.9574646485669319, 'reg_alpha': 0.8162583606281011, 'scale_pos_weight': 2}. Best is trial 34 with value: 0.8736024567367519.\n",
      "[I 2023-06-07 15:54:26,678] Trial 91 finished with value: 0.8581634750336192 and parameters: {'n_estimators': 750, 'max_depth': 5, 'gamma': 0.18998448355484807, 'min_child_weight': 1, 'subsample': 0.8244124814072419, 'colsample_bytree': 0.7926218557339474, 'colsample_bylevel': 0.9991358745870333, 'colsample_bynode': 0.7191322652298615, 'reg_lambda': 0.9706372189615826, 'reg_alpha': 0.8271244417260717, 'scale_pos_weight': 2}. Best is trial 34 with value: 0.8736024567367519.\n",
      "[I 2023-06-07 15:55:19,816] Trial 92 finished with value: 0.847999712705595 and parameters: {'n_estimators': 700, 'max_depth': 5, 'gamma': 0.21301619024261115, 'min_child_weight': 1, 'subsample': 0.7977067641327193, 'colsample_bytree': 0.7711828246033806, 'colsample_bylevel': 0.9838872913472798, 'colsample_bynode': 0.6960275633720108, 'reg_lambda': 0.9142072042660044, 'reg_alpha': 0.9238311297053539, 'scale_pos_weight': 2}. Best is trial 34 with value: 0.8736024567367519.\n",
      "[I 2023-06-07 15:56:21,728] Trial 93 finished with value: 0.8599713597198383 and parameters: {'n_estimators': 740, 'max_depth': 5, 'gamma': 0.18174281178153007, 'min_child_weight': 1, 'subsample': 0.8453612553950351, 'colsample_bytree': 0.7567060685156631, 'colsample_bylevel': 0.9889235213869454, 'colsample_bynode': 0.7532154564277076, 'reg_lambda': 0.9828430058841306, 'reg_alpha': 0.8546511920074504, 'scale_pos_weight': 2}. Best is trial 34 with value: 0.8736024567367519.\n",
      "[I 2023-06-07 15:57:27,739] Trial 94 finished with value: 0.866695866519817 and parameters: {'n_estimators': 800, 'max_depth': 5, 'gamma': 0.1621114877527455, 'min_child_weight': 1, 'subsample': 0.8358373665043074, 'colsample_bytree': 0.7771038114302287, 'colsample_bylevel': 0.9719526305798025, 'colsample_bynode': 0.770816080172017, 'reg_lambda': 0.8877445732247636, 'reg_alpha': 0.8708961827371631, 'scale_pos_weight': 2}. Best is trial 34 with value: 0.8736024567367519.\n",
      "[I 2023-06-07 15:58:33,094] Trial 95 finished with value: 0.8712274653451123 and parameters: {'n_estimators': 770, 'max_depth': 5, 'gamma': 0.15125954189155758, 'min_child_weight': 1, 'subsample': 0.8689727905136123, 'colsample_bytree': 0.7953717689329332, 'colsample_bylevel': 0.9570484876524904, 'colsample_bynode': 0.7319556169430941, 'reg_lambda': 0.9542893792725653, 'reg_alpha': 0.8188403746331759, 'scale_pos_weight': 2}. Best is trial 34 with value: 0.8736024567367519.\n",
      "[I 2023-06-07 15:59:37,505] Trial 96 finished with value: 0.8736383442265796 and parameters: {'n_estimators': 810, 'max_depth': 5, 'gamma': 0.15458375736554458, 'min_child_weight': 1, 'subsample': 0.8749419643445745, 'colsample_bytree': 0.813744615692383, 'colsample_bylevel': 0.9575677015088447, 'colsample_bynode': 0.7063939001779276, 'reg_lambda': 0.9572419397324832, 'reg_alpha': 0.8232842582570395, 'scale_pos_weight': 1}. Best is trial 96 with value: 0.8736383442265796.\n",
      "[I 2023-06-07 16:00:41,755] Trial 97 finished with value: 0.8572897603485838 and parameters: {'n_estimators': 830, 'max_depth': 5, 'gamma': 0.15691539995386328, 'min_child_weight': 1, 'subsample': 0.8687761885943304, 'colsample_bytree': 0.8308818456461011, 'colsample_bylevel': 0.9523694057560059, 'colsample_bynode': 0.7107268645583507, 'reg_lambda': 0.9564830298870082, 'reg_alpha': 0.8104107243718697, 'scale_pos_weight': 1}. Best is trial 96 with value: 0.8736383442265796.\n",
      "[I 2023-06-07 16:01:46,151] Trial 98 finished with value: 0.849187562744396 and parameters: {'n_estimators': 810, 'max_depth': 5, 'gamma': 0.15244562080836693, 'min_child_weight': 1, 'subsample': 0.8835592805431893, 'colsample_bytree': 0.8122057550978243, 'colsample_bylevel': 0.9317179111642125, 'colsample_bynode': 0.7340536273758802, 'reg_lambda': 0.9961183422808092, 'reg_alpha': 0.7728050773722582, 'scale_pos_weight': 1}. Best is trial 96 with value: 0.8736383442265796.\n",
      "[I 2023-06-07 16:02:56,327] Trial 99 finished with value: 0.8688722519310753 and parameters: {'n_estimators': 780, 'max_depth': 5, 'gamma': 0.1376104114244722, 'min_child_weight': 1, 'subsample': 0.8991433174327792, 'colsample_bytree': 0.8739386860505833, 'colsample_bylevel': 0.9570583360159993, 'colsample_bynode': 0.7861051846784989, 'reg_lambda': 0.9564370296308162, 'reg_alpha': 0.796740207735041, 'scale_pos_weight': 1}. Best is trial 96 with value: 0.8736383442265796.\n",
      "[I 2023-06-07 16:04:03,475] Trial 100 finished with value: 0.84571935944189 and parameters: {'n_estimators': 860, 'max_depth': 5, 'gamma': 0.1462998942993151, 'min_child_weight': 1, 'subsample': 0.8750153376321195, 'colsample_bytree': 0.82303408711386, 'colsample_bylevel': 0.9396883099457172, 'colsample_bynode': 0.7422516780437844, 'reg_lambda': 0.982516987389347, 'reg_alpha': 0.7602081080525495, 'scale_pos_weight': 1}. Best is trial 96 with value: 0.8736383442265796.\n",
      "[I 2023-06-07 16:05:15,625] Trial 101 finished with value: 0.8612283994215181 and parameters: {'n_estimators': 770, 'max_depth': 5, 'gamma': 0.16845650378682303, 'min_child_weight': 1, 'subsample': 0.8956563125702389, 'colsample_bytree': 0.8797179439816843, 'colsample_bylevel': 0.9620766035152418, 'colsample_bynode': 0.7857153890372534, 'reg_lambda': 0.9503466116380561, 'reg_alpha': 0.7448922111555475, 'scale_pos_weight': 1}. Best is trial 96 with value: 0.8736383442265796.\n",
      "[I 2023-06-07 16:06:26,691] Trial 102 finished with value: 0.8621619650191079 and parameters: {'n_estimators': 780, 'max_depth': 5, 'gamma': 0.13914960861001935, 'min_child_weight': 1, 'subsample': 0.9064845338864391, 'colsample_bytree': 0.8975903703141087, 'colsample_bylevel': 0.9571083122673227, 'colsample_bynode': 0.7677452426330348, 'reg_lambda': 0.9361950728502494, 'reg_alpha': 0.7840784377397062, 'scale_pos_weight': 1}. Best is trial 96 with value: 0.8736383442265796.\n",
      "[I 2023-06-07 16:07:41,283] Trial 103 finished with value: 0.8539755930344166 and parameters: {'n_estimators': 820, 'max_depth': 5, 'gamma': 0.13575030706071575, 'min_child_weight': 1, 'subsample': 0.8679948875132475, 'colsample_bytree': 0.8732064210408602, 'colsample_bylevel': 0.9797591465580167, 'colsample_bynode': 0.8020544673728246, 'reg_lambda': 0.9064614412973607, 'reg_alpha': 0.8176035072408436, 'scale_pos_weight': 1}. Best is trial 96 with value: 0.8736383442265796.\n",
      "[I 2023-06-07 16:08:41,044] Trial 104 finished with value: 0.8712274653451123 and parameters: {'n_estimators': 730, 'max_depth': 5, 'gamma': 0.14837463947072618, 'min_child_weight': 1, 'subsample': 0.8498995935222946, 'colsample_bytree': 0.8351892284058181, 'colsample_bylevel': 0.9898043483954392, 'colsample_bynode': 0.7308756939711166, 'reg_lambda': 0.9612606227304328, 'reg_alpha': 0.8439763117559848, 'scale_pos_weight': 1}. Best is trial 96 with value: 0.8736383442265796.\n",
      "[I 2023-06-07 16:09:34,918] Trial 105 finished with value: 0.8701294261294261 and parameters: {'n_estimators': 660, 'max_depth': 5, 'gamma': 0.17142454023475476, 'min_child_weight': 1, 'subsample': 0.8421667594737291, 'colsample_bytree': 0.7996111759730626, 'colsample_bylevel': 0.9887922542377052, 'colsample_bynode': 0.7062899080079382, 'reg_lambda': 0.9793893067077544, 'reg_alpha': 0.8489924799424291, 'scale_pos_weight': 1}. Best is trial 96 with value: 0.8736383442265796.\n",
      "[I 2023-06-07 16:10:26,909] Trial 106 finished with value: 0.8701692642869112 and parameters: {'n_estimators': 660, 'max_depth': 5, 'gamma': 0.1495101311152624, 'min_child_weight': 1, 'subsample': 0.8466570381321792, 'colsample_bytree': 0.8010063275300681, 'colsample_bylevel': 0.9897470411167186, 'colsample_bynode': 0.7124097747733182, 'reg_lambda': 0.8781432140534778, 'reg_alpha': 0.8456482768482911, 'scale_pos_weight': 1}. Best is trial 96 with value: 0.8736383442265796.\n",
      "[I 2023-06-07 16:11:23,657] Trial 107 finished with value: 0.8743443484619956 and parameters: {'n_estimators': 720, 'max_depth': 5, 'gamma': 0.1494053312441047, 'min_child_weight': 1, 'subsample': 0.8515389527024615, 'colsample_bytree': 0.8176551907347501, 'colsample_bylevel': 0.9904348106283072, 'colsample_bynode': 0.6907049132305723, 'reg_lambda': 0.8797786096965255, 'reg_alpha': 0.8354155631196858, 'scale_pos_weight': 1}. Best is trial 107 with value: 0.8743443484619956.\n",
      "[I 2023-06-07 16:12:24,377] Trial 108 finished with value: 0.857973581973582 and parameters: {'n_estimators': 720, 'max_depth': 5, 'gamma': 0.1569060217913624, 'min_child_weight': 1, 'subsample': 0.8564800411927957, 'colsample_bytree': 0.8145156234368182, 'colsample_bylevel': 0.9750015646743925, 'colsample_bynode': 0.7278463137087338, 'reg_lambda': 0.9123082041291012, 'reg_alpha': 0.8144456626803608, 'scale_pos_weight': 1}. Best is trial 107 with value: 0.8743443484619956.\n",
      "[I 2023-06-07 16:13:15,801] Trial 109 finished with value: 0.8655781342840166 and parameters: {'n_estimators': 680, 'max_depth': 5, 'gamma': 0.14611084884066647, 'min_child_weight': 1, 'subsample': 0.8207259371121045, 'colsample_bytree': 0.8360624795365472, 'colsample_bylevel': 0.9979039529729117, 'colsample_bynode': 0.6776476254714721, 'reg_lambda': 0.8652645389772913, 'reg_alpha': 0.8250534558066327, 'scale_pos_weight': 1}. Best is trial 107 with value: 0.8743443484619956.\n",
      "[I 2023-06-07 16:13:40,349] Trial 110 finished with value: 0.859954276824421 and parameters: {'n_estimators': 250, 'max_depth': 5, 'gamma': 0.13132961438484225, 'min_child_weight': 1, 'subsample': 0.8607485426162208, 'colsample_bytree': 0.7766766134699954, 'colsample_bylevel': 0.9443025450654331, 'colsample_bynode': 0.6989293150186134, 'reg_lambda': 0.8913043541120247, 'reg_alpha': 0.8658097402090335, 'scale_pos_weight': 5}. Best is trial 107 with value: 0.8743443484619956.\n",
      "[I 2023-06-07 16:14:37,995] Trial 111 finished with value: 0.8616414087002322 and parameters: {'n_estimators': 730, 'max_depth': 5, 'gamma': 0.15365104509867247, 'min_child_weight': 1, 'subsample': 0.8498356129983022, 'colsample_bytree': 0.8169100939591944, 'colsample_bylevel': 0.9882549012948944, 'colsample_bynode': 0.7116673177807412, 'reg_lambda': 0.8780029942263436, 'reg_alpha': 0.8584736774860267, 'scale_pos_weight': 1}. Best is trial 107 with value: 0.8743443484619956.\n",
      "[I 2023-06-07 16:15:31,373] Trial 112 finished with value: 0.8610291146761735 and parameters: {'n_estimators': 760, 'max_depth': 5, 'gamma': 0.16394516561042674, 'min_child_weight': 1, 'subsample': 0.807772684906884, 'colsample_bytree': 0.7925645034907957, 'colsample_bylevel': 0.978459719035875, 'colsample_bynode': 0.6925681335515141, 'reg_lambda': 0.9291429101386264, 'reg_alpha': 0.788943895482685, 'scale_pos_weight': 1}. Best is trial 107 with value: 0.8743443484619956.\n",
      "[I 2023-06-07 16:16:25,326] Trial 113 finished with value: 0.86821994654812 and parameters: {'n_estimators': 700, 'max_depth': 5, 'gamma': 0.12162063307088977, 'min_child_weight': 1, 'subsample': 0.8801889778482479, 'colsample_bytree': 0.8045171721219555, 'colsample_bylevel': 0.9679655056176588, 'colsample_bynode': 0.7266517594548251, 'reg_lambda': 0.8522061946236129, 'reg_alpha': 0.89375991393844, 'scale_pos_weight': 1}. Best is trial 107 with value: 0.8743443484619956.\n",
      "[I 2023-06-07 16:17:08,130] Trial 114 finished with value: 0.8602169072757307 and parameters: {'n_estimators': 530, 'max_depth': 5, 'gamma': 0.14364490727340287, 'min_child_weight': 1, 'subsample': 0.8310332533859285, 'colsample_bytree': 0.8480455537857756, 'colsample_bylevel': 0.9996984787271866, 'colsample_bynode': 0.6728742434960073, 'reg_lambda': 0.8351350553938707, 'reg_alpha': 0.8314209990810529, 'scale_pos_weight': 1}. Best is trial 107 with value: 0.8743443484619956.\n",
      "[I 2023-06-07 16:17:59,318] Trial 115 finished with value: 0.8497553688141922 and parameters: {'n_estimators': 610, 'max_depth': 5, 'gamma': 0.15124896138500526, 'min_child_weight': 1, 'subsample': 0.8474157025926099, 'colsample_bytree': 0.8310812092604235, 'colsample_bylevel': 0.9891629142741962, 'colsample_bynode': 0.7062019429821378, 'reg_lambda': 0.9620469842719259, 'reg_alpha': 0.7512871031783902, 'scale_pos_weight': 1}. Best is trial 107 with value: 0.8743443484619956.\n",
      "[I 2023-06-07 16:18:49,309] Trial 116 finished with value: 0.8699104018098239 and parameters: {'n_estimators': 580, 'max_depth': 5, 'gamma': 0.17570147770676856, 'min_child_weight': 1, 'subsample': 0.8350267212002703, 'colsample_bytree': 0.8591286254930931, 'colsample_bylevel': 0.9286863962263572, 'colsample_bynode': 0.6834446720544357, 'reg_lambda': 0.9022838493503599, 'reg_alpha': 0.9205876186099854, 'scale_pos_weight': 2}. Best is trial 107 with value: 0.8743443484619956.\n",
      "[I 2023-06-07 16:19:54,968] Trial 117 finished with value: 0.866740590489069 and parameters: {'n_estimators': 800, 'max_depth': 5, 'gamma': 0.18368415594114285, 'min_child_weight': 1, 'subsample': 0.8600939458686605, 'colsample_bytree': 0.8424937150675711, 'colsample_bylevel': 0.9782049501669072, 'colsample_bynode': 0.6642496268745384, 'reg_lambda': 0.9401288227875949, 'reg_alpha': 0.7923553287174483, 'scale_pos_weight': 2}. Best is trial 107 with value: 0.8743443484619956.\n",
      "[I 2023-06-07 16:20:49,230] Trial 118 finished with value: 0.8484716553287981 and parameters: {'n_estimators': 670, 'max_depth': 5, 'gamma': 0.1598842926665721, 'min_child_weight': 1, 'subsample': 0.8693268337604424, 'colsample_bytree': 0.8238477280838274, 'colsample_bylevel': 0.9510495859105182, 'colsample_bynode': 0.7542949732592594, 'reg_lambda': 0.8158847890670015, 'reg_alpha': 0.8513294048858392, 'scale_pos_weight': 1}. Best is trial 107 with value: 0.8743443484619956.\n",
      "[I 2023-06-07 16:21:39,596] Trial 119 finished with value: 0.8654054358176216 and parameters: {'n_estimators': 640, 'max_depth': 5, 'gamma': 0.19512735207907123, 'min_child_weight': 1, 'subsample': 0.8096537982380411, 'colsample_bytree': 0.784993514108796, 'colsample_bylevel': 0.9120940309316703, 'colsample_bynode': 0.7148616720602885, 'reg_lambda': 0.8725658101268214, 'reg_alpha': 0.8343947739991828, 'scale_pos_weight': 3}. Best is trial 107 with value: 0.8743443484619956.\n",
      "[I 2023-06-07 16:22:26,590] Trial 120 finished with value: 0.8519540310883263 and parameters: {'n_estimators': 740, 'max_depth': 5, 'gamma': 0.14785834053456226, 'min_child_weight': 2, 'subsample': 0.9370991688325332, 'colsample_bytree': 0.7978241825099404, 'colsample_bylevel': 0.9633368941818512, 'colsample_bynode': 0.7387807008271876, 'reg_lambda': 0.9240509400931397, 'reg_alpha': 0.727205125002491, 'scale_pos_weight': 1}. Best is trial 107 with value: 0.8743443484619956.\n",
      "[I 2023-06-07 16:23:22,970] Trial 121 finished with value: 0.8657553688141923 and parameters: {'n_estimators': 700, 'max_depth': 5, 'gamma': 0.1717502816969887, 'min_child_weight': 1, 'subsample': 0.8439743596413342, 'colsample_bytree': 0.8033016076482408, 'colsample_bylevel': 0.9908808441470318, 'colsample_bynode': 0.7037213893768653, 'reg_lambda': 0.9751620753577893, 'reg_alpha': 0.8469994314374523, 'scale_pos_weight': 1}. Best is trial 107 with value: 0.8743443484619956.\n",
      "[I 2023-06-07 16:24:14,303] Trial 122 finished with value: 0.8545226015814251 and parameters: {'n_estimators': 660, 'max_depth': 5, 'gamma': 0.16745361644213616, 'min_child_weight': 1, 'subsample': 0.8357756636070918, 'colsample_bytree': 0.7686710019412907, 'colsample_bylevel': 0.9846706495379262, 'colsample_bynode': 0.7188816102779224, 'reg_lambda': 0.9872306591559489, 'reg_alpha': 0.8070092256132607, 'scale_pos_weight': 1}. Best is trial 107 with value: 0.8743443484619956.\n",
      "[I 2023-06-07 16:24:59,643] Trial 123 finished with value: 0.857973581973582 and parameters: {'n_estimators': 560, 'max_depth': 5, 'gamma': 0.13569976648096027, 'min_child_weight': 1, 'subsample': 0.8495428880749004, 'colsample_bytree': 0.7971008949191377, 'colsample_bylevel': 0.9723435710122029, 'colsample_bynode': 0.6970898684485121, 'reg_lambda': 0.9574810282596019, 'reg_alpha': 0.8706346660967391, 'scale_pos_weight': 1}. Best is trial 107 with value: 0.8743443484619956.\n",
      "[I 2023-06-07 16:26:05,410] Trial 124 finished with value: 0.8589861380449616 and parameters: {'n_estimators': 760, 'max_depth': 5, 'gamma': 0.185428659803127, 'min_child_weight': 1, 'subsample': 0.8831318162656039, 'colsample_bytree': 0.8076429314259598, 'colsample_bylevel': 0.9876561573045349, 'colsample_bynode': 0.7306471505683292, 'reg_lambda': 0.9977519471310328, 'reg_alpha': 0.7625172288164823, 'scale_pos_weight': 1}. Best is trial 107 with value: 0.8743443484619956.\n",
      "[I 2023-06-07 16:26:35,967] Trial 125 finished with value: 0.8380523003561329 and parameters: {'n_estimators': 620, 'max_depth': 5, 'gamma': 0.20225193304602218, 'min_child_weight': 3, 'subsample': 0.8246342172947909, 'colsample_bytree': 0.7833862421761911, 'colsample_bylevel': 0.9602035617251877, 'colsample_bynode': 0.7449024991833965, 'reg_lambda': 0.8943006364444616, 'reg_alpha': 0.8376235856217015, 'scale_pos_weight': 1}. Best is trial 107 with value: 0.8743443484619956.\n",
      "[I 2023-06-07 16:27:30,314] Trial 126 finished with value: 0.8537653938768489 and parameters: {'n_estimators': 720, 'max_depth': 5, 'gamma': 0.17429084596823052, 'min_child_weight': 1, 'subsample': 0.8671591759268793, 'colsample_bytree': 0.7562146080732933, 'colsample_bylevel': 0.9437581685349283, 'colsample_bynode': 0.7245331810608258, 'reg_lambda': 0.7896186996575641, 'reg_alpha': 0.8966237840825385, 'scale_pos_weight': 2}. Best is trial 107 with value: 0.8743443484619956.\n",
      "[I 2023-06-07 16:28:25,829] Trial 127 finished with value: 0.8640561818901675 and parameters: {'n_estimators': 640, 'max_depth': 5, 'gamma': 0.15784820209195555, 'min_child_weight': 1, 'subsample': 0.9131196169786177, 'colsample_bytree': 0.833464948224337, 'colsample_bylevel': 0.9800014360486826, 'colsample_bynode': 0.7075970062150702, 'reg_lambda': 0.9162012417094832, 'reg_alpha': 0.4853057013254354, 'scale_pos_weight': 3}. Best is trial 107 with value: 0.8743443484619956.\n",
      "[I 2023-06-07 16:29:06,187] Trial 128 finished with value: 0.8448587839176074 and parameters: {'n_estimators': 690, 'max_depth': 5, 'gamma': 0.14699054402344153, 'min_child_weight': 2, 'subsample': 0.7913335138986938, 'colsample_bytree': 0.8116984109877085, 'colsample_bylevel': 0.9995326415896973, 'colsample_bynode': 0.7618729659234201, 'reg_lambda': 0.946896483227772, 'reg_alpha': 0.8479244626798599, 'scale_pos_weight': 1}. Best is trial 107 with value: 0.8743443484619956.\n",
      "[I 2023-06-07 16:30:02,610] Trial 129 finished with value: 0.8568982624775247 and parameters: {'n_estimators': 850, 'max_depth': 4, 'gamma': 0.1285850543881334, 'min_child_weight': 1, 'subsample': 0.8169493652155473, 'colsample_bytree': 0.8234969428299982, 'colsample_bylevel': 0.9681775852138012, 'colsample_bynode': 0.689858546886158, 'reg_lambda': 0.9696896689321011, 'reg_alpha': 0.37245750587243026, 'scale_pos_weight': 2}. Best is trial 107 with value: 0.8743443484619956.\n",
      "[I 2023-06-07 16:30:58,380] Trial 130 finished with value: 0.8637558108977812 and parameters: {'n_estimators': 890, 'max_depth': 5, 'gamma': 0.13977860413099785, 'min_child_weight': 2, 'subsample': 0.889822307994943, 'colsample_bytree': 0.7960148556689371, 'colsample_bylevel': 0.9522812019500139, 'colsample_bynode': 0.7517931543345698, 'reg_lambda': 0.8597618428662697, 'reg_alpha': 0.7802413083102381, 'scale_pos_weight': 3}. Best is trial 107 with value: 0.8743443484619956.\n",
      "[I 2023-06-07 16:31:49,220] Trial 131 finished with value: 0.876586744335223 and parameters: {'n_estimators': 590, 'max_depth': 5, 'gamma': 0.1770785164627691, 'min_child_weight': 1, 'subsample': 0.8400052706465451, 'colsample_bytree': 0.8571743637852826, 'colsample_bylevel': 0.9300142098576124, 'colsample_bynode': 0.6832528109396477, 'reg_lambda': 0.8985009543876407, 'reg_alpha': 0.9126755432912066, 'scale_pos_weight': 2}. Best is trial 131 with value: 0.876586744335223.\n",
      "[I 2023-06-07 16:32:41,363] Trial 132 finished with value: 0.8629961631076183 and parameters: {'n_estimators': 650, 'max_depth': 5, 'gamma': 0.1652961605017074, 'min_child_weight': 1, 'subsample': 0.8411977417418108, 'colsample_bytree': 0.8448371006378579, 'colsample_bylevel': 0.9282525117012177, 'colsample_bynode': 0.681289066639646, 'reg_lambda': 0.9282073450569319, 'reg_alpha': 0.914384533027411, 'scale_pos_weight': 2}. Best is trial 131 with value: 0.876586744335223.\n",
      "[I 2023-06-07 16:33:38,491] Trial 133 finished with value: 0.8614231493553527 and parameters: {'n_estimators': 620, 'max_depth': 5, 'gamma': 0.177810625701379, 'min_child_weight': 1, 'subsample': 0.8545537338581392, 'colsample_bytree': 0.8626448842957338, 'colsample_bylevel': 0.9905490205563638, 'colsample_bynode': 0.702702784378248, 'reg_lambda': 0.8767759697933012, 'reg_alpha': 0.9332285435128124, 'scale_pos_weight': 2}. Best is trial 131 with value: 0.876586744335223.\n",
      "[I 2023-06-07 16:33:57,271] Trial 134 finished with value: 0.8640561818901675 and parameters: {'n_estimators': 170, 'max_depth': 5, 'gamma': 0.22535652632791317, 'min_child_weight': 1, 'subsample': 0.778623548641028, 'colsample_bytree': 0.8545965802986171, 'colsample_bylevel': 0.9737969502599017, 'colsample_bynode': 0.6686207225701658, 'reg_lambda': 0.8339692407622985, 'reg_alpha': 0.8857811374132074, 'scale_pos_weight': 2}. Best is trial 131 with value: 0.876586744335223.\n",
      "[I 2023-06-07 16:34:48,239] Trial 135 finished with value: 0.8528434404064656 and parameters: {'n_estimators': 740, 'max_depth': 5, 'gamma': 0.15187460358491878, 'min_child_weight': 1, 'subsample': 0.8275222798260532, 'colsample_bytree': 0.8176687817861146, 'colsample_bylevel': 0.940544328447193, 'colsample_bynode': 0.7130420876059594, 'reg_lambda': 0.9002151013723239, 'reg_alpha': 0.5498189739240549, 'scale_pos_weight': 1}. Best is trial 131 with value: 0.876586744335223.\n",
      "[I 2023-06-07 16:35:40,788] Trial 136 finished with value: 0.8653613822019809 and parameters: {'n_estimators': 770, 'max_depth': 5, 'gamma': 0.19001130658940532, 'min_child_weight': 2, 'subsample': 0.7636595093689387, 'colsample_bytree': 0.9762314512590253, 'colsample_bylevel': 0.9155484777900718, 'colsample_bynode': 0.7357223075934867, 'reg_lambda': 0.9387487884148734, 'reg_alpha': 0.9555198436691128, 'scale_pos_weight': 2}. Best is trial 131 with value: 0.876586744335223.\n",
      "[I 2023-06-07 16:36:41,224] Trial 137 finished with value: 0.8663144134846922 and parameters: {'n_estimators': 680, 'max_depth': 5, 'gamma': 0.24065100709643372, 'min_child_weight': 1, 'subsample': 0.8130425855173941, 'colsample_bytree': 0.7802338499398672, 'colsample_bylevel': 0.9608043505696717, 'colsample_bynode': 0.7759226213433654, 'reg_lambda': 0.9760306512322118, 'reg_alpha': 0.9115434635145199, 'scale_pos_weight': 2}. Best is trial 131 with value: 0.876586744335223.\n",
      "[I 2023-06-07 16:37:24,707] Trial 138 finished with value: 0.8537957728545964 and parameters: {'n_estimators': 910, 'max_depth': 5, 'gamma': 0.20584781799922977, 'min_child_weight': 2, 'subsample': 0.8767066065684328, 'colsample_bytree': 0.7683221588239209, 'colsample_bylevel': 0.9358783990390938, 'colsample_bynode': 0.6884002719519678, 'reg_lambda': 0.8491239656621781, 'reg_alpha': 0.523339447745878, 'scale_pos_weight': 1}. Best is trial 131 with value: 0.876586744335223.\n",
      "[I 2023-06-07 16:38:32,883] Trial 139 finished with value: 0.8445696614398057 and parameters: {'n_estimators': 720, 'max_depth': 5, 'gamma': 0.16158145871682814, 'min_child_weight': 1, 'subsample': 0.8653626704102301, 'colsample_bytree': 0.9601699570249932, 'colsample_bylevel': 0.9807590951519238, 'colsample_bynode': 0.7203577553603676, 'reg_lambda': 0.8231939318527178, 'reg_alpha': 0.8715012402056391, 'scale_pos_weight': 3}. Best is trial 131 with value: 0.876586744335223.\n",
      "[I 2023-06-07 16:39:42,390] Trial 140 finished with value: 0.8535995246583482 and parameters: {'n_estimators': 830, 'max_depth': 5, 'gamma': 0.2665322997189362, 'min_child_weight': 1, 'subsample': 0.9013714213882482, 'colsample_bytree': 0.8384272130756323, 'colsample_bylevel': 0.9513736915081825, 'colsample_bynode': 0.6958275809297262, 'reg_lambda': 0.9554936988591652, 'reg_alpha': 0.8147876891041963, 'scale_pos_weight': 1}. Best is trial 131 with value: 0.876586744335223.\n",
      "[I 2023-06-07 16:40:32,634] Trial 141 finished with value: 0.8762733764603035 and parameters: {'n_estimators': 580, 'max_depth': 5, 'gamma': 0.17607299238357083, 'min_child_weight': 1, 'subsample': 0.840310906052772, 'colsample_bytree': 0.8597666771004839, 'colsample_bylevel': 0.9213508200494673, 'colsample_bynode': 0.683649538510092, 'reg_lambda': 0.9035809720619591, 'reg_alpha': 0.9454920816993782, 'scale_pos_weight': 2}. Best is trial 131 with value: 0.876586744335223.\n",
      "[I 2023-06-07 16:41:11,505] Trial 142 finished with value: 0.8629961631076182 and parameters: {'n_estimators': 480, 'max_depth': 5, 'gamma': 0.17181658921983947, 'min_child_weight': 1, 'subsample': 0.8423004609747923, 'colsample_bytree': 0.8546367007393291, 'colsample_bylevel': 0.9039302496875469, 'colsample_bynode': 0.6653822219619622, 'reg_lambda': 0.9116191998640407, 'reg_alpha': 0.9506167029506651, 'scale_pos_weight': 2}. Best is trial 131 with value: 0.876586744335223.\n",
      "[I 2023-06-07 16:42:18,456] Trial 143 finished with value: 0.8543915043712204 and parameters: {'n_estimators': 800, 'max_depth': 5, 'gamma': 0.1816297859944974, 'min_child_weight': 1, 'subsample': 0.8013538705979663, 'colsample_bytree': 0.9379589914331258, 'colsample_bylevel': 0.9185926944062349, 'colsample_bynode': 0.6790264403111249, 'reg_lambda': 0.8814045902361498, 'reg_alpha': 0.9696362281862877, 'scale_pos_weight': 2}. Best is trial 131 with value: 0.876586744335223.\n",
      "[I 2023-06-07 16:43:05,803] Trial 144 finished with value: 0.8746784457372693 and parameters: {'n_estimators': 540, 'max_depth': 5, 'gamma': 0.15619767665892975, 'min_child_weight': 1, 'subsample': 0.8557571846537368, 'colsample_bytree': 0.8270497022307678, 'colsample_bylevel': 0.9672761693990993, 'colsample_bynode': 0.7056723141028876, 'reg_lambda': 0.921985431330858, 'reg_alpha': 0.9295884543206294, 'scale_pos_weight': 2}. Best is trial 131 with value: 0.876586744335223.\n",
      "[I 2023-06-07 16:43:54,486] Trial 145 finished with value: 0.8643881966505951 and parameters: {'n_estimators': 530, 'max_depth': 5, 'gamma': 0.14252213103020184, 'min_child_weight': 1, 'subsample': 0.8568603238186949, 'colsample_bytree': 0.8245883254911562, 'colsample_bylevel': 0.9271705040527382, 'colsample_bynode': 0.8081059081413349, 'reg_lambda': 0.8937864681934697, 'reg_alpha': 0.928399917547213, 'scale_pos_weight': 2}. Best is trial 131 with value: 0.876586744335223.\n",
      "[I 2023-06-07 16:44:45,824] Trial 146 finished with value: 0.8688745157572896 and parameters: {'n_estimators': 560, 'max_depth': 3, 'gamma': 0.15523804907831268, 'min_child_weight': 1, 'subsample': 0.8713516635178182, 'colsample_bytree': 0.9995975749283327, 'colsample_bylevel': 0.896202865232615, 'colsample_bynode': 0.7275227800697689, 'reg_lambda': 0.8581833783086342, 'reg_alpha': 0.9383516305030362, 'scale_pos_weight': 2}. Best is trial 131 with value: 0.876586744335223.\n",
      "[I 2023-06-07 16:45:35,079] Trial 147 finished with value: 0.8612021289506077 and parameters: {'n_estimators': 500, 'max_depth': 5, 'gamma': 0.19557419323884867, 'min_child_weight': 1, 'subsample': 0.8313534448147947, 'colsample_bytree': 0.8632443936633812, 'colsample_bylevel': 0.9687068682795474, 'colsample_bynode': 0.7431966117100174, 'reg_lambda': 0.9317564566703844, 'reg_alpha': 0.9664604474158299, 'scale_pos_weight': 2}. Best is trial 131 with value: 0.876586744335223.\n",
      "[I 2023-06-07 16:46:13,845] Trial 148 finished with value: 0.8643254961494465 and parameters: {'n_estimators': 550, 'max_depth': 5, 'gamma': 0.14948641309007668, 'min_child_weight': 2, 'subsample': 0.9227747904810395, 'colsample_bytree': 0.8393834281400119, 'colsample_bylevel': 0.9456370533188196, 'colsample_bynode': 0.6523865275535746, 'reg_lambda': 0.8071840084295231, 'reg_alpha': 0.9041137472078655, 'scale_pos_weight': 2}. Best is trial 131 with value: 0.876586744335223.\n",
      "[I 2023-06-07 16:47:00,661] Trial 149 finished with value: 0.8507117789644593 and parameters: {'n_estimators': 540, 'max_depth': 5, 'gamma': 0.16248203899332564, 'min_child_weight': 1, 'subsample': 0.8521105224261319, 'colsample_bytree': 0.8829755434967426, 'colsample_bylevel': 0.9571262998266629, 'colsample_bynode': 0.6908270771921914, 'reg_lambda': 0.9163565518951874, 'reg_alpha': 0.9964117699477324, 'scale_pos_weight': 2}. Best is trial 131 with value: 0.876586744335223.\n",
      "[I 2023-06-07 16:47:38,674] Trial 150 finished with value: 0.8685810687679956 and parameters: {'n_estimators': 580, 'max_depth': 5, 'gamma': 0.2140037403870016, 'min_child_weight': 2, 'subsample': 0.8875099486000515, 'colsample_bytree': 0.850286075970802, 'colsample_bylevel': 0.8808426535578204, 'colsample_bynode': 0.8198818577611796, 'reg_lambda': 0.7626594501473418, 'reg_alpha': 0.25560616124574287, 'scale_pos_weight': 2}. Best is trial 131 with value: 0.876586744335223.\n",
      "[I 2023-06-07 16:48:27,350] Trial 151 finished with value: 0.8664655605832076 and parameters: {'n_estimators': 600, 'max_depth': 5, 'gamma': 0.1328890387305037, 'min_child_weight': 1, 'subsample': 0.8194672309317542, 'colsample_bytree': 0.8066819671591913, 'colsample_bylevel': 0.9911754414911225, 'colsample_bynode': 0.7028558758949424, 'reg_lambda': 0.9455615456856622, 'reg_alpha': 0.8815761306493826, 'scale_pos_weight': 3}. Best is trial 131 with value: 0.876586744335223.\n",
      "[I 2023-06-07 16:49:09,116] Trial 152 finished with value: 0.8685485276150263 and parameters: {'n_estimators': 500, 'max_depth': 5, 'gamma': 0.15790544939303788, 'min_child_weight': 1, 'subsample': 0.8397655269632904, 'colsample_bytree': 0.7945768359352972, 'colsample_bylevel': 0.9763972069583238, 'colsample_bynode': 0.712859275748065, 'reg_lambda': 0.9706498764483564, 'reg_alpha': 0.5877786423780994, 'scale_pos_weight': 2}. Best is trial 131 with value: 0.876586744335223.\n",
      "[I 2023-06-07 16:50:12,504] Trial 153 finished with value: 0.8722126870199892 and parameters: {'n_estimators': 750, 'max_depth': 5, 'gamma': 0.16914483017763124, 'min_child_weight': 1, 'subsample': 0.8593417482420873, 'colsample_bytree': 0.8186328721657237, 'colsample_bylevel': 0.9863673554686305, 'colsample_bynode': 0.7027248206842881, 'reg_lambda': 0.9987001953141522, 'reg_alpha': 0.8560528613229361, 'scale_pos_weight': 2}. Best is trial 131 with value: 0.876586744335223.\n",
      "[I 2023-06-07 16:51:12,454] Trial 154 finished with value: 0.863978619247969 and parameters: {'n_estimators': 750, 'max_depth': 5, 'gamma': 0.14240315866915487, 'min_child_weight': 1, 'subsample': 0.8601800261278728, 'colsample_bytree': 0.827944363336332, 'colsample_bylevel': 0.9646700222129219, 'colsample_bynode': 0.6803926179328592, 'reg_lambda': 0.9935058431839382, 'reg_alpha': 0.8666984235582769, 'scale_pos_weight': 2}. Best is trial 131 with value: 0.876586744335223.\n",
      "[I 2023-06-07 16:52:17,477] Trial 155 finished with value: 0.8719192400306952 and parameters: {'n_estimators': 790, 'max_depth': 5, 'gamma': 0.1654399648409459, 'min_child_weight': 1, 'subsample': 0.8802634234401467, 'colsample_bytree': 0.9097043269491387, 'colsample_bylevel': 0.8548041415776549, 'colsample_bynode': 0.6925270873086177, 'reg_lambda': 0.8815445212513782, 'reg_alpha': 0.8228711289101531, 'scale_pos_weight': 2}. Best is trial 131 with value: 0.876586744335223.\n",
      "[I 2023-06-07 16:53:21,085] Trial 156 finished with value: 0.8567413997324266 and parameters: {'n_estimators': 790, 'max_depth': 5, 'gamma': 0.18542622866471134, 'min_child_weight': 1, 'subsample': 0.8781090750784812, 'colsample_bytree': 0.8887770064550378, 'colsample_bylevel': 0.9133099846801669, 'colsample_bynode': 0.6959371124636233, 'reg_lambda': 0.9476583764866352, 'reg_alpha': 0.6165537382312343, 'scale_pos_weight': 2}. Best is trial 131 with value: 0.876586744335223.\n",
      "[I 2023-06-07 16:54:02,928] Trial 157 finished with value: 0.843410463469708 and parameters: {'n_estimators': 450, 'max_depth': 5, 'gamma': 0.16740058234438154, 'min_child_weight': 1, 'subsample': 0.8949299578672515, 'colsample_bytree': 0.8671157841947856, 'colsample_bylevel': 0.9377696179896642, 'colsample_bynode': 0.6858602248125473, 'reg_lambda': 0.9216789228886169, 'reg_alpha': 0.7778691230739949, 'scale_pos_weight': 2}. Best is trial 131 with value: 0.876586744335223.\n",
      "[I 2023-06-07 16:55:15,090] Trial 158 finished with value: 0.8566772420727796 and parameters: {'n_estimators': 820, 'max_depth': 5, 'gamma': 0.23400229724449922, 'min_child_weight': 1, 'subsample': 0.8656390810580903, 'colsample_bytree': 0.9504608022442027, 'colsample_bylevel': 0.9252411569321726, 'colsample_bynode': 0.6723826884201729, 'reg_lambda': 0.6127080887885239, 'reg_alpha': 0.8040654934807363, 'scale_pos_weight': 2}. Best is trial 131 with value: 0.876586744335223.\n",
      "[I 2023-06-07 16:56:07,167] Trial 159 finished with value: 0.8762733764603035 and parameters: {'n_estimators': 770, 'max_depth': 4, 'gamma': 0.17971546059237975, 'min_child_weight': 2, 'subsample': 0.8801373708197414, 'colsample_bytree': 0.9085031330889894, 'colsample_bylevel': 0.8428632602321525, 'colsample_bynode': 0.7955430159401493, 'reg_lambda': 0.9996398599988316, 'reg_alpha': 0.8308066190556028, 'scale_pos_weight': 2}. Best is trial 131 with value: 0.876586744335223.\n",
      "[I 2023-06-07 16:57:19,370] Trial 160 finished with value: 0.8653613822019809 and parameters: {'n_estimators': 770, 'max_depth': 4, 'gamma': 0.17527833007016794, 'min_child_weight': 1, 'subsample': 0.8856103870621526, 'colsample_bytree': 0.911193007981704, 'colsample_bylevel': 0.8630312737306919, 'colsample_bynode': 0.8317163562974086, 'reg_lambda': 0.6683420989523228, 'reg_alpha': 0.8267959298572755, 'scale_pos_weight': 2}. Best is trial 131 with value: 0.876586744335223.\n",
      "[I 2023-06-07 16:58:04,674] Trial 161 finished with value: 0.8783703224879694 and parameters: {'n_estimators': 780, 'max_depth': 3, 'gamma': 0.1983113852376812, 'min_child_weight': 2, 'subsample': 0.8759249899451705, 'colsample_bytree': 0.9200170637008628, 'colsample_bylevel': 0.7558326535172298, 'colsample_bynode': 0.7993009456593461, 'reg_lambda': 0.9647768492150227, 'reg_alpha': 0.562805441402964, 'scale_pos_weight': 2}. Best is trial 161 with value: 0.8783703224879694.\n",
      "[I 2023-06-07 16:58:27,739] Trial 162 finished with value: 0.8762733764603032 and parameters: {'n_estimators': 310, 'max_depth': 3, 'gamma': 0.19442429899875066, 'min_child_weight': 2, 'subsample': 0.8751327414258906, 'colsample_bytree': 0.927822284817496, 'colsample_bylevel': 0.7990157795378439, 'colsample_bynode': 0.7982699499565694, 'reg_lambda': 0.9841091389578406, 'reg_alpha': 0.5742301953426556, 'scale_pos_weight': 2}. Best is trial 161 with value: 0.8783703224879694.\n",
      "[I 2023-06-07 16:58:41,765] Trial 163 finished with value: 0.867111770102797 and parameters: {'n_estimators': 130, 'max_depth': 3, 'gamma': 0.1918884534265873, 'min_child_weight': 2, 'subsample': 0.875611812476582, 'colsample_bytree': 0.9029281703509521, 'colsample_bylevel': 0.802639217223041, 'colsample_bynode': 0.8047716917527966, 'reg_lambda': 0.9941276761963155, 'reg_alpha': 0.8990931178103289, 'scale_pos_weight': 2}. Best is trial 161 with value: 0.8783703224879694.\n",
      "[I 2023-06-07 16:59:09,649] Trial 164 finished with value: 0.8728535019877972 and parameters: {'n_estimators': 360, 'max_depth': 3, 'gamma': 0.18228438631273503, 'min_child_weight': 2, 'subsample': 0.8528170297524483, 'colsample_bytree': 0.919174377919126, 'colsample_bylevel': 0.8491258204840921, 'colsample_bynode': 0.7878726860903864, 'reg_lambda': 0.9666479425342918, 'reg_alpha': 0.5624867629964116, 'scale_pos_weight': 2}. Best is trial 161 with value: 0.8783703224879694.\n",
      "[I 2023-06-07 16:59:39,388] Trial 165 finished with value: 0.8554451783660708 and parameters: {'n_estimators': 400, 'max_depth': 3, 'gamma': 0.17932924885626358, 'min_child_weight': 2, 'subsample': 0.8532160532871275, 'colsample_bytree': 0.9207344560566256, 'colsample_bylevel': 0.8256662818429887, 'colsample_bynode': 0.7979592701412735, 'reg_lambda': 0.9992937359156528, 'reg_alpha': 0.8012389970102451, 'scale_pos_weight': 2}. Best is trial 161 with value: 0.8783703224879694.\n",
      "[I 2023-06-07 17:00:26,559] Trial 166 finished with value: 0.8700340377825164 and parameters: {'n_estimators': 760, 'max_depth': 3, 'gamma': 0.19814417514154212, 'min_child_weight': 2, 'subsample': 0.8691849622221279, 'colsample_bytree': 0.9215545401778503, 'colsample_bylevel': 0.7926529435817814, 'colsample_bynode': 0.8199372380123999, 'reg_lambda': 0.9748692797431742, 'reg_alpha': 0.526633874806491, 'scale_pos_weight': 2}. Best is trial 161 with value: 0.8783703224879694.\n",
      "[I 2023-06-07 17:00:50,962] Trial 167 finished with value: 0.8623632319985031 and parameters: {'n_estimators': 280, 'max_depth': 3, 'gamma': 0.18736341051722757, 'min_child_weight': 2, 'subsample': 0.8593552135379044, 'colsample_bytree': 0.9298769839338105, 'colsample_bylevel': 0.8582228071960398, 'colsample_bynode': 0.7962739287568891, 'reg_lambda': 0.9704930169395491, 'reg_alpha': 0.8240251146071181, 'scale_pos_weight': 2}. Best is trial 161 with value: 0.8783703224879694.\n",
      "[I 2023-06-07 17:01:16,397] Trial 168 finished with value: 0.8718993191450695 and parameters: {'n_estimators': 310, 'max_depth': 3, 'gamma': 0.1781609168469417, 'min_child_weight': 2, 'subsample': 0.8289931486638833, 'colsample_bytree': 0.9367112032196006, 'colsample_bylevel': 0.8372082931171203, 'colsample_bynode': 0.7923383301161799, 'reg_lambda': 0.9592776818300887, 'reg_alpha': 0.8597007123590735, 'scale_pos_weight': 2}. Best is trial 161 with value: 0.8783703224879694.\n",
      "[I 2023-06-07 17:01:40,646] Trial 169 finished with value: 0.8603327556775773 and parameters: {'n_estimators': 320, 'max_depth': 3, 'gamma': 0.17920636956225305, 'min_child_weight': 2, 'subsample': 0.8316138159310136, 'colsample_bytree': 0.9249373208740077, 'colsample_bylevel': 0.8439928742022933, 'colsample_bynode': 0.7868248467152793, 'reg_lambda': 0.9635495737350851, 'reg_alpha': 0.5616284181070268, 'scale_pos_weight': 2}. Best is trial 161 with value: 0.8783703224879694.\n",
      "[I 2023-06-07 17:02:07,392] Trial 170 finished with value: 0.8623417300902088 and parameters: {'n_estimators': 310, 'max_depth': 3, 'gamma': 0.203402370465073, 'min_child_weight': 2, 'subsample': 0.8783757795647341, 'colsample_bytree': 0.9391451376362158, 'colsample_bylevel': 0.8376790220388928, 'colsample_bynode': 0.7919672661596943, 'reg_lambda': 0.9407360837240795, 'reg_alpha': 0.8812624680598632, 'scale_pos_weight': 2}. Best is trial 161 with value: 0.8783703224879694.\n",
      "[I 2023-06-07 17:02:35,030] Trial 171 finished with value: 0.8728535019877972 and parameters: {'n_estimators': 340, 'max_depth': 3, 'gamma': 0.1647427824372029, 'min_child_weight': 2, 'subsample': 0.8527663404305074, 'colsample_bytree': 0.9098730813517866, 'colsample_bylevel': 0.8539842221621226, 'colsample_bynode': 0.810669535183791, 'reg_lambda': 0.9598004640807264, 'reg_alpha': 0.8580513858010246, 'scale_pos_weight': 2}. Best is trial 161 with value: 0.8783703224879694.\n",
      "[I 2023-06-07 17:03:04,172] Trial 172 finished with value: 0.8644948934405093 and parameters: {'n_estimators': 370, 'max_depth': 3, 'gamma': 0.16641121745346493, 'min_child_weight': 2, 'subsample': 0.8396469194791558, 'colsample_bytree': 0.9151594663679331, 'colsample_bylevel': 0.8497295157344498, 'colsample_bynode': 0.8120417158132078, 'reg_lambda': 0.9840944371375866, 'reg_alpha': 0.8620725517421127, 'scale_pos_weight': 2}. Best is trial 161 with value: 0.8783703224879694.\n",
      "[I 2023-06-07 17:03:31,859] Trial 173 finished with value: 0.8719192400306952 and parameters: {'n_estimators': 330, 'max_depth': 3, 'gamma': 0.17245452551359317, 'min_child_weight': 2, 'subsample': 0.8266552300548827, 'colsample_bytree': 0.9364873623989077, 'colsample_bylevel': 0.8341577780032418, 'colsample_bynode': 0.8249409371834637, 'reg_lambda': 0.9497938759296666, 'reg_alpha': 0.9141720498776392, 'scale_pos_weight': 2}. Best is trial 161 with value: 0.8783703224879694.\n",
      "[I 2023-06-07 17:03:55,634] Trial 174 finished with value: 0.8570145053005034 and parameters: {'n_estimators': 280, 'max_depth': 3, 'gamma': 0.19195430752480783, 'min_child_weight': 2, 'subsample': 0.8190696198209588, 'colsample_bytree': 0.9077884497271321, 'colsample_bylevel': 0.8287196919907, 'colsample_bynode': 0.8428990989877843, 'reg_lambda': 0.999085373633197, 'reg_alpha': 0.9408410745285068, 'scale_pos_weight': 2}. Best is trial 161 with value: 0.8783703224879694.\n",
      "[I 2023-06-07 17:04:23,758] Trial 175 finished with value: 0.8623632319985031 and parameters: {'n_estimators': 340, 'max_depth': 3, 'gamma': 0.17336002229767453, 'min_child_weight': 2, 'subsample': 0.8109111398837621, 'colsample_bytree': 0.9348499002563687, 'colsample_bylevel': 0.8540542205582923, 'colsample_bynode': 0.8131990342991925, 'reg_lambda': 0.9302238701243994, 'reg_alpha': 0.9141483594008991, 'scale_pos_weight': 2}. Best is trial 161 with value: 0.8783703224879694.\n",
      "[I 2023-06-07 17:04:53,521] Trial 176 finished with value: 0.8741394511920827 and parameters: {'n_estimators': 360, 'max_depth': 3, 'gamma': 0.18236954389250853, 'min_child_weight': 2, 'subsample': 0.8286436111728928, 'colsample_bytree': 0.9384063582195526, 'colsample_bylevel': 0.8440113360392315, 'colsample_bynode': 0.8245177990450937, 'reg_lambda': 0.9506566324048037, 'reg_alpha': 0.8955169956897687, 'scale_pos_weight': 2}. Best is trial 161 with value: 0.8783703224879694.\n",
      "[I 2023-06-07 17:05:22,815] Trial 177 finished with value: 0.8676636674121461 and parameters: {'n_estimators': 350, 'max_depth': 3, 'gamma': 0.1785564945741211, 'min_child_weight': 2, 'subsample': 0.8295261461887166, 'colsample_bytree': 0.9439527234325309, 'colsample_bylevel': 0.8386453160136744, 'colsample_bynode': 0.8298212434647767, 'reg_lambda': 0.9145300368344333, 'reg_alpha': 0.9109314897119963, 'scale_pos_weight': 2}. Best is trial 161 with value: 0.8783703224879694.\n",
      "[I 2023-06-07 17:05:49,736] Trial 178 finished with value: 0.8671648812403528 and parameters: {'n_estimators': 330, 'max_depth': 3, 'gamma': 0.18505960624977333, 'min_child_weight': 2, 'subsample': 0.7959267905632277, 'colsample_bytree': 0.9572443206698684, 'colsample_bylevel': 0.8194768531699718, 'colsample_bynode': 0.8223261495120241, 'reg_lambda': 0.6896462451180259, 'reg_alpha': 0.8889833812281934, 'scale_pos_weight': 2}. Best is trial 161 with value: 0.8783703224879694.\n",
      "[I 2023-06-07 17:06:15,324] Trial 179 finished with value: 0.8548704428026461 and parameters: {'n_estimators': 290, 'max_depth': 3, 'gamma': 0.16722478838595758, 'min_child_weight': 2, 'subsample': 0.8231431961257588, 'colsample_bytree': 0.9450824416637781, 'colsample_bylevel': 0.8471118440008188, 'colsample_bynode': 0.8399944927970533, 'reg_lambda': 0.9499708943154701, 'reg_alpha': 0.9834955857293484, 'scale_pos_weight': 2}. Best is trial 161 with value: 0.8783703224879694.\n",
      "[I 2023-06-07 17:06:43,237] Trial 180 finished with value: 0.8692558326006541 and parameters: {'n_estimators': 370, 'max_depth': 3, 'gamma': 0.1604187576671093, 'min_child_weight': 2, 'subsample': 0.8485867750568368, 'colsample_bytree': 0.9041995512603943, 'colsample_bylevel': 0.8370348798349133, 'colsample_bynode': 0.807499808059951, 'reg_lambda': 0.5631249302322494, 'reg_alpha': 0.940681768343506, 'scale_pos_weight': 2}. Best is trial 161 with value: 0.8783703224879694.\n",
      "[I 2023-06-07 17:07:15,510] Trial 181 finished with value: 0.8653665334779885 and parameters: {'n_estimators': 400, 'max_depth': 3, 'gamma': 0.19958119675637118, 'min_child_weight': 2, 'subsample': 0.8361552801772176, 'colsample_bytree': 0.9316748683017559, 'colsample_bylevel': 0.8713820889910089, 'colsample_bynode': 0.798435436685887, 'reg_lambda': 0.9762447011374387, 'reg_alpha': 0.8395038951503189, 'scale_pos_weight': 2}. Best is trial 161 with value: 0.8783703224879694.\n",
      "[I 2023-06-07 17:07:44,637] Trial 182 finished with value: 0.8762733764603032 and parameters: {'n_estimators': 380, 'max_depth': 3, 'gamma': 0.1750155489668491, 'min_child_weight': 2, 'subsample': 0.8036204520777372, 'colsample_bytree': 0.9174447261428349, 'colsample_bylevel': 0.8586223377830323, 'colsample_bynode': 0.813351624859065, 'reg_lambda': 0.9525920653276805, 'reg_alpha': 0.8617743205113981, 'scale_pos_weight': 2}. Best is trial 161 with value: 0.8783703224879694.\n",
      "[I 2023-06-07 17:08:15,061] Trial 183 finished with value: 0.8697206699075968 and parameters: {'n_estimators': 380, 'max_depth': 3, 'gamma': 0.17045946121033315, 'min_child_weight': 2, 'subsample': 0.8063978543292482, 'colsample_bytree': 0.9134406545145412, 'colsample_bylevel': 0.8510676664977, 'colsample_bynode': 0.8286251599848606, 'reg_lambda': 0.9425304734422663, 'reg_alpha': 0.8684699115630229, 'scale_pos_weight': 2}. Best is trial 161 with value: 0.8783703224879694.\n",
      "[I 2023-06-07 17:08:40,460] Trial 184 finished with value: 0.8752743864841535 and parameters: {'n_estimators': 310, 'max_depth': 3, 'gamma': 0.18435394403966268, 'min_child_weight': 2, 'subsample': 0.8277971127669894, 'colsample_bytree': 0.9237272757152083, 'colsample_bylevel': 0.8656530172697736, 'colsample_bynode': 0.8152255211613951, 'reg_lambda': 0.9241407718785539, 'reg_alpha': 0.8988804961773458, 'scale_pos_weight': 2}. Best is trial 161 with value: 0.8783703224879694.\n",
      "[I 2023-06-07 17:09:10,403] Trial 185 finished with value: 0.8683044823799542 and parameters: {'n_estimators': 400, 'max_depth': 3, 'gamma': 0.18599458453345133, 'min_child_weight': 2, 'subsample': 0.7862650529343616, 'colsample_bytree': 0.8998391268064643, 'colsample_bylevel': 0.8783505838379503, 'colsample_bynode': 0.817971419693754, 'reg_lambda': 0.901860555960257, 'reg_alpha': 0.923764166067672, 'scale_pos_weight': 2}. Best is trial 161 with value: 0.8783703224879694.\n",
      "[I 2023-06-07 17:09:40,081] Trial 186 finished with value: 0.8637735988400974 and parameters: {'n_estimators': 350, 'max_depth': 3, 'gamma': 0.16058320344796215, 'min_child_weight': 2, 'subsample': 0.8562294222533822, 'colsample_bytree': 0.9149239131446877, 'colsample_bylevel': 0.8701360174614974, 'colsample_bynode': 0.8444310283016182, 'reg_lambda': 0.9226938743959993, 'reg_alpha': 0.9006222136205646, 'scale_pos_weight': 2}. Best is trial 161 with value: 0.8783703224879694.\n",
      "[I 2023-06-07 17:10:02,142] Trial 187 finished with value: 0.8631389072143788 and parameters: {'n_estimators': 260, 'max_depth': 3, 'gamma': 0.45050879293409773, 'min_child_weight': 2, 'subsample': 0.8442050460347263, 'colsample_bytree': 0.9208282840201203, 'colsample_bylevel': 0.8554682471469861, 'colsample_bynode': 0.8093579713986887, 'reg_lambda': 0.718816601481271, 'reg_alpha': 0.44674670744820033, 'scale_pos_weight': 2}. Best is trial 161 with value: 0.8783703224879694.\n",
      "[I 2023-06-07 17:10:28,432] Trial 188 finished with value: 0.8598091389434341 and parameters: {'n_estimators': 330, 'max_depth': 3, 'gamma': 0.19066185298550947, 'min_child_weight': 2, 'subsample': 0.8042533076322067, 'colsample_bytree': 0.8944583125821306, 'colsample_bylevel': 0.8641287877317518, 'colsample_bynode': 0.8255753861474706, 'reg_lambda': 0.8991048560274096, 'reg_alpha': 0.9622875725639544, 'scale_pos_weight': 2}. Best is trial 161 with value: 0.8783703224879694.\n",
      "[I 2023-06-07 17:11:04,257] Trial 189 finished with value: 0.8699104018098239 and parameters: {'n_estimators': 430, 'max_depth': 3, 'gamma': 0.17072166228550975, 'min_child_weight': 2, 'subsample': 0.8146181339961872, 'colsample_bytree': 0.9680968224675809, 'colsample_bylevel': 0.8620648949248966, 'colsample_bynode': 0.8526638606868843, 'reg_lambda': 0.4791979728435938, 'reg_alpha': 0.8916025515613123, 'scale_pos_weight': 2}. Best is trial 161 with value: 0.8783703224879694.\n",
      "[I 2023-06-07 17:11:32,734] Trial 190 finished with value: 0.8643254961494465 and parameters: {'n_estimators': 380, 'max_depth': 3, 'gamma': 0.207584358069319, 'min_child_weight': 2, 'subsample': 0.8245817241233101, 'colsample_bytree': 0.9264192687623227, 'colsample_bylevel': 0.8161043739309565, 'colsample_bynode': 0.8024085927245745, 'reg_lambda': 0.9798142920261876, 'reg_alpha': 0.9315356780092855, 'scale_pos_weight': 2}. Best is trial 161 with value: 0.8783703224879694.\n",
      "[I 2023-06-07 17:11:59,456] Trial 191 finished with value: 0.8722126870199892 and parameters: {'n_estimators': 310, 'max_depth': 3, 'gamma': 0.17745098003493892, 'min_child_weight': 2, 'subsample': 0.8333625834767449, 'colsample_bytree': 0.9363142195912979, 'colsample_bylevel': 0.8306408418640492, 'colsample_bynode': 0.8355035967129851, 'reg_lambda': 0.9425925331729835, 'reg_alpha': 0.857220787054868, 'scale_pos_weight': 2}. Best is trial 161 with value: 0.8783703224879694.\n",
      "[I 2023-06-07 17:12:26,398] Trial 192 finished with value: 0.867370220422852 and parameters: {'n_estimators': 310, 'max_depth': 3, 'gamma': 0.17970574660371502, 'min_child_weight': 2, 'subsample': 0.8417486509423439, 'colsample_bytree': 0.9517978274966293, 'colsample_bylevel': 0.8246113257653757, 'colsample_bynode': 0.8378320696585841, 'reg_lambda': 0.9384806674748296, 'reg_alpha': 0.853148329354795, 'scale_pos_weight': 2}. Best is trial 161 with value: 0.8783703224879694.\n",
      "[I 2023-06-07 17:12:51,022] Trial 193 finished with value: 0.858447143499775 and parameters: {'n_estimators': 290, 'max_depth': 3, 'gamma': 0.16620713495941009, 'min_child_weight': 2, 'subsample': 0.8522452726052137, 'colsample_bytree': 0.943599775987285, 'colsample_bylevel': 0.8445254729470297, 'colsample_bynode': 0.8200280422288259, 'reg_lambda': 0.926416084659025, 'reg_alpha': 0.49346803097260666, 'scale_pos_weight': 2}. Best is trial 161 with value: 0.8783703224879694.\n",
      "[I 2023-06-07 17:13:19,661] Trial 194 finished with value: 0.8615635249083464 and parameters: {'n_estimators': 350, 'max_depth': 3, 'gamma': 0.17375856456997488, 'min_child_weight': 2, 'subsample': 0.863184319905805, 'colsample_bytree': 0.9303729440658447, 'colsample_bylevel': 0.8303055362298943, 'colsample_bynode': 0.8266960907646249, 'reg_lambda': 0.9594983503641452, 'reg_alpha': 0.8780059716363016, 'scale_pos_weight': 2}. Best is trial 161 with value: 0.8783703224879694.\n",
      "[I 2023-06-07 17:13:44,788] Trial 195 finished with value: 0.8640320491601525 and parameters: {'n_estimators': 330, 'max_depth': 3, 'gamma': 0.18514518362790372, 'min_child_weight': 2, 'subsample': 0.8349376671778878, 'colsample_bytree': 0.9017439433218908, 'colsample_bylevel': 0.7446792609613827, 'colsample_bynode': 0.854540205152077, 'reg_lambda': 0.9084508014773947, 'reg_alpha': 0.6699773893224789, 'scale_pos_weight': 2}. Best is trial 161 with value: 0.8783703224879694.\n",
      "[I 2023-06-07 17:14:05,382] Trial 196 finished with value: 0.8683044823799542 and parameters: {'n_estimators': 230, 'max_depth': 3, 'gamma': 0.15655258826777127, 'min_child_weight': 2, 'subsample': 0.8166374838708511, 'colsample_bytree': 0.9126654544661101, 'colsample_bylevel': 0.8548868648870228, 'colsample_bynode': 0.8118570142890916, 'reg_lambda': 0.980523342931348, 'reg_alpha': 0.835329398696636, 'scale_pos_weight': 2}. Best is trial 161 with value: 0.8783703224879694.\n",
      "[I 2023-06-07 17:14:32,960] Trial 197 finished with value: 0.8626339977004964 and parameters: {'n_estimators': 360, 'max_depth': 3, 'gamma': 0.1944280126176262, 'min_child_weight': 3, 'subsample': 0.846761786909579, 'colsample_bytree': 0.9370020305966043, 'colsample_bylevel': 0.8848567195936812, 'colsample_bynode': 0.8290042854043121, 'reg_lambda': 0.9431803728522085, 'reg_alpha': 0.8152558358150636, 'scale_pos_weight': 2}. Best is trial 161 with value: 0.8783703224879694.\n",
      "[I 2023-06-07 17:14:55,756] Trial 198 finished with value: 0.8651182203875702 and parameters: {'n_estimators': 270, 'max_depth': 3, 'gamma': 0.16277534338154973, 'min_child_weight': 2, 'subsample': 0.8706647204596796, 'colsample_bytree': 0.8906200905017183, 'colsample_bylevel': 0.8107602173806551, 'colsample_bynode': 0.8380641703927855, 'reg_lambda': 0.8866893814148755, 'reg_alpha': 0.9111784325080072, 'scale_pos_weight': 2}. Best is trial 161 with value: 0.8783703224879694.\n",
      "[I 2023-06-07 17:15:18,541] Trial 199 finished with value: 0.8685810687679956 and parameters: {'n_estimators': 300, 'max_depth': 3, 'gamma': 0.17481252668682745, 'min_child_weight': 2, 'subsample': 0.7706367739842497, 'colsample_bytree': 0.9475921163843876, 'colsample_bylevel': 0.8415754883924893, 'colsample_bynode': 0.8071525835668579, 'reg_lambda': 0.9652653884304145, 'reg_alpha': 0.4032971698661163, 'scale_pos_weight': 2}. Best is trial 161 with value: 0.8783703224879694.\n",
      "[I 2023-06-07 17:15:46,571] Trial 200 finished with value: 0.8651716502997535 and parameters: {'n_estimators': 330, 'max_depth': 3, 'gamma': 0.15505238368864815, 'min_child_weight': 2, 'subsample': 0.7908885486471112, 'colsample_bytree': 0.9218298966421348, 'colsample_bylevel': 0.8600124000627195, 'colsample_bynode': 0.8687483708561514, 'reg_lambda': 0.9282442611996655, 'reg_alpha': 0.8760422830949692, 'scale_pos_weight': 2}. Best is trial 161 with value: 0.8783703224879694.\n",
      "[I 2023-06-07 17:16:11,910] Trial 201 finished with value: 0.8623417300902088 and parameters: {'n_estimators': 310, 'max_depth': 3, 'gamma': 0.18034447462546305, 'min_child_weight': 2, 'subsample': 0.827390081371055, 'colsample_bytree': 0.9323962950169957, 'colsample_bylevel': 0.8361184081699238, 'colsample_bynode': 0.791358707205992, 'reg_lambda': 0.9546241319713493, 'reg_alpha': 0.8550592532918999, 'scale_pos_weight': 2}. Best is trial 161 with value: 0.8783703224879694.\n",
      "[I 2023-06-07 17:16:36,172] Trial 202 finished with value: 0.8615635249083464 and parameters: {'n_estimators': 300, 'max_depth': 3, 'gamma': 0.16837791550682965, 'min_child_weight': 2, 'subsample': 0.807290769562468, 'colsample_bytree': 0.9620752683129274, 'colsample_bylevel': 0.8467603728951804, 'colsample_bynode': 0.7987897206232515, 'reg_lambda': 0.9591193098788201, 'reg_alpha': 0.8432821871591537, 'scale_pos_weight': 2}. Best is trial 161 with value: 0.8783703224879694.\n",
      "[I 2023-06-07 17:17:01,204] Trial 203 finished with value: 0.8679092149680386 and parameters: {'n_estimators': 320, 'max_depth': 3, 'gamma': 0.18195879783032645, 'min_child_weight': 2, 'subsample': 0.8327229524062659, 'colsample_bytree': 0.939605882030278, 'colsample_bylevel': 0.8306073312291862, 'colsample_bynode': 0.78114314052554, 'reg_lambda': 0.6488760735017998, 'reg_alpha': 0.5445031742833152, 'scale_pos_weight': 2}. Best is trial 161 with value: 0.8783703224879694.\n",
      "[I 2023-06-07 17:17:29,343] Trial 204 finished with value: 0.8576244804884328 and parameters: {'n_estimators': 340, 'max_depth': 3, 'gamma': 0.19549582891209727, 'min_child_weight': 2, 'subsample': 0.8268606994626053, 'colsample_bytree': 0.9535807483183275, 'colsample_bylevel': 0.8701824199885744, 'colsample_bynode': 0.795488238195211, 'reg_lambda': 0.9828799393649211, 'reg_alpha': 0.7936009928531712, 'scale_pos_weight': 2}. Best is trial 161 with value: 0.8783703224879694.\n",
      "[I 2023-06-07 17:18:01,885] Trial 205 finished with value: 0.8583704915266338 and parameters: {'n_estimators': 420, 'max_depth': 3, 'gamma': 0.1746275278351122, 'min_child_weight': 2, 'subsample': 0.8582092787953632, 'colsample_bytree': 0.9072731560922358, 'colsample_bylevel': 0.8206996788894432, 'colsample_bynode': 0.8140161046047171, 'reg_lambda': 0.9120215110756138, 'reg_alpha': 0.8623528379523657, 'scale_pos_weight': 2}. Best is trial 161 with value: 0.8783703224879694.\n",
      "[I 2023-06-07 17:18:26,985] Trial 206 finished with value: 0.8624391145222614 and parameters: {'n_estimators': 300, 'max_depth': 3, 'gamma': 0.18779951927213326, 'min_child_weight': 2, 'subsample': 0.83891898070235, 'colsample_bytree': 0.9264225280806089, 'colsample_bylevel': 0.8426598376155645, 'colsample_bynode': 0.8343494793929306, 'reg_lambda': 0.9997870264285603, 'reg_alpha': 0.8909005480772765, 'scale_pos_weight': 2}. Best is trial 161 with value: 0.8783703224879694.\n",
      "[I 2023-06-07 17:18:57,259] Trial 207 finished with value: 0.8615981116479621 and parameters: {'n_estimators': 370, 'max_depth': 3, 'gamma': 0.1632829886391207, 'min_child_weight': 2, 'subsample': 0.8794535918483306, 'colsample_bytree': 0.8850811705267718, 'colsample_bylevel': 0.8904791539746574, 'colsample_bynode': 0.8194381901778779, 'reg_lambda': 0.9352355814246208, 'reg_alpha': 0.594263019119489, 'scale_pos_weight': 2}. Best is trial 161 with value: 0.8783703224879694.\n",
      "[I 2023-06-07 17:19:23,632] Trial 208 finished with value: 0.8655562653802157 and parameters: {'n_estimators': 350, 'max_depth': 3, 'gamma': 0.20655059598981163, 'min_child_weight': 2, 'subsample': 0.8522659150270663, 'colsample_bytree': 0.9126742181968557, 'colsample_bylevel': 0.8329766860000299, 'colsample_bynode': 0.7878402472230287, 'reg_lambda': 0.9610598297437901, 'reg_alpha': 0.637833679678069, 'scale_pos_weight': 2}. Best is trial 161 with value: 0.8783703224879694.\n",
      "[I 2023-06-07 17:19:47,988] Trial 209 finished with value: 0.8762733764603032 and parameters: {'n_estimators': 320, 'max_depth': 3, 'gamma': 0.17918428954530788, 'min_child_weight': 2, 'subsample': 0.8008847816252005, 'colsample_bytree': 0.9355782055220396, 'colsample_bylevel': 0.8097137259599271, 'colsample_bynode': 0.7737035237366909, 'reg_lambda': 0.9463829182845976, 'reg_alpha': 0.8295782221372385, 'scale_pos_weight': 2}. Best is trial 161 with value: 0.8783703224879694.\n",
      "[I 2023-06-07 17:20:07,629] Trial 210 finished with value: 0.8645203793276816 and parameters: {'n_estimators': 250, 'max_depth': 3, 'gamma': 0.15398562144358416, 'min_child_weight': 2, 'subsample': 0.7970435510809334, 'colsample_bytree': 0.875409719274352, 'colsample_bylevel': 0.8090366549219454, 'colsample_bynode': 0.7719505661881461, 'reg_lambda': 0.8653479523373359, 'reg_alpha': 0.8114976596414125, 'scale_pos_weight': 2}. Best is trial 161 with value: 0.8783703224879694.\n",
      "[I 2023-06-07 17:20:33,912] Trial 211 finished with value: 0.8688745157572896 and parameters: {'n_estimators': 330, 'max_depth': 3, 'gamma': 0.17848381783320727, 'min_child_weight': 2, 'subsample': 0.8186142072107655, 'colsample_bytree': 0.9353455327736252, 'colsample_bylevel': 0.8249237008535262, 'colsample_bynode': 0.803591575117384, 'reg_lambda': 0.9463270274133405, 'reg_alpha': 0.8339393288914851, 'scale_pos_weight': 2}. Best is trial 161 with value: 0.8783703224879694.\n",
      "[I 2023-06-07 17:21:00,548] Trial 212 finished with value: 0.8609487400830353 and parameters: {'n_estimators': 320, 'max_depth': 4, 'gamma': 0.3910398731401981, 'min_child_weight': 2, 'subsample': 0.8940249995682701, 'colsample_bytree': 0.9187719640375375, 'colsample_bylevel': 0.7944471980478727, 'colsample_bynode': 0.7751382244141917, 'reg_lambda': 0.6992331764250451, 'reg_alpha': 0.8566340906419004, 'scale_pos_weight': 2}. Best is trial 161 with value: 0.8783703224879694.\n",
      "[I 2023-06-07 17:21:22,819] Trial 213 finished with value: 0.8580090955688948 and parameters: {'n_estimators': 310, 'max_depth': 3, 'gamma': 0.17003032171403046, 'min_child_weight': 2, 'subsample': 0.7808296086064901, 'colsample_bytree': 0.9441095815976891, 'colsample_bylevel': 0.8508685672901076, 'colsample_bynode': 0.6879225307909765, 'reg_lambda': 0.9749106368231742, 'reg_alpha': 0.7791094293060815, 'scale_pos_weight': 2}. Best is trial 161 with value: 0.8783703224879694.\n",
      "[I 2023-06-07 17:21:43,443] Trial 214 finished with value: 0.8697206699075968 and parameters: {'n_estimators': 280, 'max_depth': 3, 'gamma': 0.18956968217766057, 'min_child_weight': 2, 'subsample': 0.8086285961551378, 'colsample_bytree': 0.9239597910645162, 'colsample_bylevel': 0.7738256955680479, 'colsample_bynode': 0.7875077792095219, 'reg_lambda': 0.9179234399598115, 'reg_alpha': 0.5140260363306162, 'scale_pos_weight': 2}. Best is trial 161 with value: 0.8783703224879694.\n",
      "[I 2023-06-07 17:22:08,667] Trial 215 finished with value: 0.8762733764603032 and parameters: {'n_estimators': 350, 'max_depth': 3, 'gamma': 0.17628277316559632, 'min_child_weight': 2, 'subsample': 0.8243077648545761, 'colsample_bytree': 0.9718712142680619, 'colsample_bylevel': 0.8130206452187283, 'colsample_bynode': 0.6991186532870094, 'reg_lambda': 0.7308742695143158, 'reg_alpha': 0.8219097408987516, 'scale_pos_weight': 2}. Best is trial 161 with value: 0.8783703224879694.\n",
      "[I 2023-06-07 17:22:39,822] Trial 216 finished with value: 0.8643454170350722 and parameters: {'n_estimators': 390, 'max_depth': 3, 'gamma': 0.3468607314201608, 'min_child_weight': 2, 'subsample': 0.970831878911097, 'colsample_bytree': 0.9694602869560099, 'colsample_bylevel': 0.8029323455784245, 'colsample_bynode': 0.6987478421011771, 'reg_lambda': 0.8966521244473356, 'reg_alpha': 0.8218481277626817, 'scale_pos_weight': 2}. Best is trial 161 with value: 0.8783703224879694.\n",
      "[I 2023-06-07 17:23:03,490] Trial 217 finished with value: 0.869690192611085 and parameters: {'n_estimators': 350, 'max_depth': 3, 'gamma': 0.16172785024130032, 'min_child_weight': 2, 'subsample': 0.7973915978955198, 'colsample_bytree': 0.960733980172034, 'colsample_bylevel': 0.8085282054450111, 'colsample_bynode': 0.6804075209077921, 'reg_lambda': 0.7482108988855144, 'reg_alpha': 0.9481733523953005, 'scale_pos_weight': 2}. Best is trial 161 with value: 0.8783703224879694.\n",
      "[I 2023-06-07 17:23:34,617] Trial 218 finished with value: 0.8722126870199892 and parameters: {'n_estimators': 360, 'max_depth': 3, 'gamma': 0.1953381205175488, 'min_child_weight': 1, 'subsample': 0.8649602625094163, 'colsample_bytree': 0.9800113571310843, 'colsample_bylevel': 0.8204500655327482, 'colsample_bynode': 0.702890849723122, 'reg_lambda': 0.9988912448512514, 'reg_alpha': 0.8012093609055901, 'scale_pos_weight': 2}. Best is trial 161 with value: 0.8783703224879694.\n",
      "[I 2023-06-07 17:24:04,796] Trial 219 finished with value: 0.87503215122527 and parameters: {'n_estimators': 370, 'max_depth': 3, 'gamma': 0.1961195654244971, 'min_child_weight': 1, 'subsample': 0.8676063606512971, 'colsample_bytree': 0.8975203733487431, 'colsample_bylevel': 0.8231956083584444, 'colsample_bynode': 0.6955794010764964, 'reg_lambda': 0.9989119898351057, 'reg_alpha': 0.8013805915402079, 'scale_pos_weight': 2}. Best is trial 161 with value: 0.8783703224879694.\n",
      "[I 2023-06-07 17:24:37,583] Trial 220 finished with value: 0.8445055405810123 and parameters: {'n_estimators': 370, 'max_depth': 4, 'gamma': 0.20015883304596993, 'min_child_weight': 1, 'subsample': 0.8650103543411881, 'colsample_bytree': 0.8958693883258906, 'colsample_bylevel': 0.8123274849042178, 'colsample_bynode': 0.7010869382553329, 'reg_lambda': 0.98848262300599, 'reg_alpha': 0.7919268222858314, 'scale_pos_weight': 2}. Best is trial 161 with value: 0.8783703224879694.\n",
      "[I 2023-06-07 17:25:08,841] Trial 221 finished with value: 0.8719192400306952 and parameters: {'n_estimators': 360, 'max_depth': 3, 'gamma': 0.19178259950944895, 'min_child_weight': 1, 'subsample': 0.8712402168367379, 'colsample_bytree': 0.9903796008575251, 'colsample_bylevel': 0.8168734102986529, 'colsample_bynode': 0.707414006065641, 'reg_lambda': 0.9989012132192828, 'reg_alpha': 0.7656745594775296, 'scale_pos_weight': 2}. Best is trial 161 with value: 0.8783703224879694.\n",
      "[I 2023-06-07 17:25:45,069] Trial 222 finished with value: 0.86084377954347 and parameters: {'n_estimators': 420, 'max_depth': 3, 'gamma': 0.21255598808284054, 'min_child_weight': 1, 'subsample': 0.8832059738671906, 'colsample_bytree': 0.9870909360726252, 'colsample_bylevel': 0.8300426196989664, 'colsample_bynode': 0.6901446659822469, 'reg_lambda': 0.9724706778426775, 'reg_alpha': 0.8062247761436675, 'scale_pos_weight': 2}. Best is trial 161 with value: 0.8783703224879694.\n",
      "[I 2023-06-07 17:26:15,432] Trial 223 finished with value: 0.8718993191450695 and parameters: {'n_estimators': 380, 'max_depth': 3, 'gamma': 0.1832798128851719, 'min_child_weight': 1, 'subsample': 0.8470450218426165, 'colsample_bytree': 0.9031238661460586, 'colsample_bylevel': 0.8214543865143559, 'colsample_bynode': 0.6979338320378681, 'reg_lambda': 0.9824566920464336, 'reg_alpha': 0.8261216011251267, 'scale_pos_weight': 2}. Best is trial 161 with value: 0.8783703224879694.\n",
      "[I 2023-06-07 17:26:45,600] Trial 224 finished with value: 0.8684920336201369 and parameters: {'n_estimators': 350, 'max_depth': 3, 'gamma': 0.19880065350105947, 'min_child_weight': 1, 'subsample': 0.8593571129453701, 'colsample_bytree': 0.9725126542808675, 'colsample_bylevel': 0.8442927644355771, 'colsample_bynode': 0.6636419661983491, 'reg_lambda': 0.9448992917988694, 'reg_alpha': 0.7470562402890619, 'scale_pos_weight': 2}. Best is trial 161 with value: 0.8783703224879694.\n",
      "[I 2023-06-07 17:27:11,568] Trial 225 finished with value: 0.8648982259570495 and parameters: {'n_estimators': 340, 'max_depth': 3, 'gamma': 0.17258325908957367, 'min_child_weight': 1, 'subsample': 0.7488870007827795, 'colsample_bytree': 0.9817824239779754, 'colsample_bylevel': 0.7933577749163612, 'colsample_bynode': 0.6737487625866192, 'reg_lambda': 0.7904767242181638, 'reg_alpha': 0.7978551853191582, 'scale_pos_weight': 2}. Best is trial 161 with value: 0.8783703224879694.\n",
      "[I 2023-06-07 17:27:45,078] Trial 226 finished with value: 0.8722633513976467 and parameters: {'n_estimators': 400, 'max_depth': 3, 'gamma': 0.1805096885094121, 'min_child_weight': 1, 'subsample': 0.8436178185456598, 'colsample_bytree': 0.9083474824039109, 'colsample_bylevel': 0.862715441899099, 'colsample_bynode': 0.6921237092851722, 'reg_lambda': 0.964344272456716, 'reg_alpha': 0.8366750571810264, 'scale_pos_weight': 2}. Best is trial 161 with value: 0.8783703224879694.\n",
      "[I 2023-06-07 17:28:19,376] Trial 227 finished with value: 0.866695866519817 and parameters: {'n_estimators': 410, 'max_depth': 3, 'gamma': 0.18659162479571664, 'min_child_weight': 1, 'subsample': 0.8620273617920209, 'colsample_bytree': 0.9070955265339624, 'colsample_bylevel': 0.8645847689855665, 'colsample_bynode': 0.6872245778552529, 'reg_lambda': 0.735644042565555, 'reg_alpha': 0.8269774279894258, 'scale_pos_weight': 2}. Best is trial 161 with value: 0.8783703224879694.\n",
      "[I 2023-06-07 17:28:57,012] Trial 228 finished with value: 0.8717243568524602 and parameters: {'n_estimators': 460, 'max_depth': 3, 'gamma': 0.19637046004943481, 'min_child_weight': 1, 'subsample': 0.838692987271409, 'colsample_bytree': 0.9125172278184345, 'colsample_bylevel': 0.8711361654058083, 'colsample_bynode': 0.7096285496397321, 'reg_lambda': 0.9979797255676135, 'reg_alpha': 0.8394142877839682, 'scale_pos_weight': 2}. Best is trial 161 with value: 0.8783703224879694.\n",
      "[I 2023-06-07 17:29:28,136] Trial 229 finished with value: 0.8694716045381032 and parameters: {'n_estimators': 380, 'max_depth': 3, 'gamma': 0.17919549662505022, 'min_child_weight': 1, 'subsample': 0.8752056017400651, 'colsample_bytree': 0.8922682673300772, 'colsample_bylevel': 0.8544018464205198, 'colsample_bynode': 0.6949196692091918, 'reg_lambda': 0.9667380104069311, 'reg_alpha': 0.7783112457509108, 'scale_pos_weight': 2}. Best is trial 161 with value: 0.8783703224879694.\n",
      "[I 2023-06-07 17:30:26,366] Trial 230 finished with value: 0.8708396178984413 and parameters: {'n_estimators': 790, 'max_depth': 4, 'gamma': 0.2067483593743588, 'min_child_weight': 1, 'subsample': 0.8512722957476385, 'colsample_bytree': 0.8146547700612292, 'colsample_bylevel': 0.8788555848995556, 'colsample_bynode': 0.6801892392358977, 'reg_lambda': 0.9301111953250352, 'reg_alpha': 0.8086212133091717, 'scale_pos_weight': 2}. Best is trial 161 with value: 0.8783703224879694.\n",
      "[I 2023-06-07 17:30:56,103] Trial 231 finished with value: 0.8688745157572896 and parameters: {'n_estimators': 370, 'max_depth': 3, 'gamma': 0.1688684520803601, 'min_child_weight': 1, 'subsample': 0.8385642356406888, 'colsample_bytree': 0.9240232433982771, 'colsample_bylevel': 0.825167338026533, 'colsample_bynode': 0.7027395986331538, 'reg_lambda': 0.9571939583187778, 'reg_alpha': 0.8769257630821924, 'scale_pos_weight': 2}. Best is trial 161 with value: 0.8783703224879694.\n",
      "[I 2023-06-07 17:31:25,015] Trial 232 finished with value: 0.8595071622823243 and parameters: {'n_estimators': 390, 'max_depth': 3, 'gamma': 0.17804496660737446, 'min_child_weight': 1, 'subsample': 0.8234016960954544, 'colsample_bytree': 0.8817264058012606, 'colsample_bylevel': 0.8377505056666146, 'colsample_bynode': 0.69068006126898, 'reg_lambda': 0.9765129200956546, 'reg_alpha': 0.8379604466462682, 'scale_pos_weight': 2}. Best is trial 161 with value: 0.8783703224879694.\n",
      "[I 2023-06-07 17:31:54,444] Trial 233 finished with value: 0.8762733764603032 and parameters: {'n_estimators': 340, 'max_depth': 3, 'gamma': 0.1652748492658756, 'min_child_weight': 1, 'subsample': 0.8497658462121346, 'colsample_bytree': 0.9164139490771466, 'colsample_bylevel': 0.8579514966363039, 'colsample_bynode': 0.7176578872059308, 'reg_lambda': 0.9423252471521302, 'reg_alpha': 0.9071212088032359, 'scale_pos_weight': 2}. Best is trial 161 with value: 0.8783703224879694.\n",
      "[I 2023-06-07 17:32:50,755] Trial 234 finished with value: 0.8796115477230029 and parameters: {'n_estimators': 750, 'max_depth': 3, 'gamma': 0.15918835909262208, 'min_child_weight': 1, 'subsample': 0.8503266160295813, 'colsample_bytree': 0.9010030580732362, 'colsample_bylevel': 0.8604215312551097, 'colsample_bynode': 0.7158348337174428, 'reg_lambda': 0.9270705957217589, 'reg_alpha': 0.8526855426727561, 'scale_pos_weight': 2}. Best is trial 234 with value: 0.8796115477230029.\n",
      "[I 2023-06-07 17:33:45,584] Trial 235 finished with value: 0.8655761862658414 and parameters: {'n_estimators': 740, 'max_depth': 3, 'gamma': 0.15761869886315757, 'min_child_weight': 1, 'subsample': 0.8481535909496624, 'colsample_bytree': 0.8962157359890083, 'colsample_bylevel': 0.8957214008477881, 'colsample_bynode': 0.7164563415994588, 'reg_lambda': 0.9302835951689621, 'reg_alpha': 0.6981704516312266, 'scale_pos_weight': 2}. Best is trial 234 with value: 0.8796115477230029.\n",
      "[I 2023-06-07 17:34:43,670] Trial 236 finished with value: 0.8718993191450695 and parameters: {'n_estimators': 750, 'max_depth': 3, 'gamma': 0.18919036580376714, 'min_child_weight': 1, 'subsample': 0.8555774790925432, 'colsample_bytree': 0.9044811742523674, 'colsample_bylevel': 0.8645214647100071, 'colsample_bynode': 0.7095294240847195, 'reg_lambda': 0.910548910175109, 'reg_alpha': 0.8587678808540335, 'scale_pos_weight': 2}. Best is trial 234 with value: 0.8796115477230029.\n",
      "[I 2023-06-07 17:35:14,685] Trial 237 finished with value: 0.8722633513976467 and parameters: {'n_estimators': 360, 'max_depth': 3, 'gamma': 0.14780483243144482, 'min_child_weight': 1, 'subsample': 0.8629496111758499, 'colsample_bytree': 0.9177601886111164, 'colsample_bylevel': 0.8730180010489855, 'colsample_bynode': 0.7173882600595387, 'reg_lambda': 0.9449202508916537, 'reg_alpha': 0.8924836510588109, 'scale_pos_weight': 2}. Best is trial 234 with value: 0.8796115477230029.\n",
      "[I 2023-06-07 17:35:43,970] Trial 238 finished with value: 0.8722633513976467 and parameters: {'n_estimators': 340, 'max_depth': 3, 'gamma': 0.14606487911558905, 'min_child_weight': 1, 'subsample': 0.8465386075319022, 'colsample_bytree': 0.919517340002357, 'colsample_bylevel': 0.8630468553906251, 'colsample_bynode': 0.7199838717962973, 'reg_lambda': 0.9453621097462004, 'reg_alpha': 0.9028999605154641, 'scale_pos_weight': 2}. Best is trial 234 with value: 0.8796115477230029.\n",
      "[I 2023-06-07 17:36:13,389] Trial 239 finished with value: 0.8794062085405038 and parameters: {'n_estimators': 340, 'max_depth': 3, 'gamma': 0.14837711161539613, 'min_child_weight': 1, 'subsample': 0.8447376917056715, 'colsample_bytree': 0.9179413252573534, 'colsample_bylevel': 0.8780045053129355, 'colsample_bynode': 0.7204195423143774, 'reg_lambda': 0.9238723003936886, 'reg_alpha': 0.8961487643519293, 'scale_pos_weight': 2}. Best is trial 234 with value: 0.8796115477230029.\n",
      "[I 2023-06-07 17:36:44,183] Trial 240 finished with value: 0.8794062085405038 and parameters: {'n_estimators': 350, 'max_depth': 3, 'gamma': 0.1447229924631487, 'min_child_weight': 1, 'subsample': 0.842682090715767, 'colsample_bytree': 0.917560389147628, 'colsample_bylevel': 0.8802797408997336, 'colsample_bynode': 0.7210951396635309, 'reg_lambda': 0.920209770443436, 'reg_alpha': 0.9003815710893166, 'scale_pos_weight': 2}. Best is trial 234 with value: 0.8796115477230029.\n",
      "[I 2023-06-07 17:37:13,114] Trial 241 finished with value: 0.8794062085405038 and parameters: {'n_estimators': 340, 'max_depth': 3, 'gamma': 0.14713783343896764, 'min_child_weight': 1, 'subsample': 0.8438653438137981, 'colsample_bytree': 0.9176688919961801, 'colsample_bylevel': 0.875257790411939, 'colsample_bynode': 0.72092677093648, 'reg_lambda': 0.922947734558467, 'reg_alpha': 0.9007738441333536, 'scale_pos_weight': 2}. Best is trial 234 with value: 0.8796115477230029.\n",
      "[I 2023-06-07 17:37:43,352] Trial 242 finished with value: 0.8718993191450695 and parameters: {'n_estimators': 360, 'max_depth': 3, 'gamma': 0.14891613813048044, 'min_child_weight': 1, 'subsample': 0.8439218808241733, 'colsample_bytree': 0.9135886061926947, 'colsample_bylevel': 0.8838296603734066, 'colsample_bynode': 0.720915966178237, 'reg_lambda': 0.9038414822102208, 'reg_alpha': 0.9402969116839002, 'scale_pos_weight': 2}. Best is trial 234 with value: 0.8796115477230029.\n",
      "[I 2023-06-07 17:38:12,145] Trial 243 finished with value: 0.8762733764603032 and parameters: {'n_estimators': 340, 'max_depth': 3, 'gamma': 0.1405621988461701, 'min_child_weight': 1, 'subsample': 0.8371767696877229, 'colsample_bytree': 0.9196367965253031, 'colsample_bylevel': 0.8803386095042601, 'colsample_bynode': 0.7156163935704712, 'reg_lambda': 0.9243996913685012, 'reg_alpha': 0.9202572618329515, 'scale_pos_weight': 2}. Best is trial 234 with value: 0.8796115477230029.\n",
      "[I 2023-06-07 17:38:41,491] Trial 244 finished with value: 0.8706884707999258 and parameters: {'n_estimators': 330, 'max_depth': 3, 'gamma': 0.1438401344647325, 'min_child_weight': 1, 'subsample': 0.8320313185925385, 'colsample_bytree': 0.9014635523200394, 'colsample_bylevel': 0.8887108239218554, 'colsample_bynode': 0.725172493546488, 'reg_lambda': 0.9226538659904201, 'reg_alpha': 0.9112725192662935, 'scale_pos_weight': 2}. Best is trial 234 with value: 0.8796115477230029.\n",
      "[I 2023-06-07 17:39:09,302] Trial 245 finished with value: 0.8717243568524602 and parameters: {'n_estimators': 340, 'max_depth': 3, 'gamma': 0.13753192136511075, 'min_child_weight': 1, 'subsample': 0.8416130621949256, 'colsample_bytree': 0.9250130401143218, 'colsample_bylevel': 0.8775422530287804, 'colsample_bynode': 0.7177283084753184, 'reg_lambda': 0.39283041577199657, 'reg_alpha': 0.9283794749183106, 'scale_pos_weight': 2}. Best is trial 234 with value: 0.8796115477230029.\n",
      "[I 2023-06-07 17:39:43,573] Trial 246 finished with value: 0.8729352051976038 and parameters: {'n_estimators': 390, 'max_depth': 3, 'gamma': 0.1522619420433798, 'min_child_weight': 1, 'subsample': 0.8499982308568113, 'colsample_bytree': 0.9096983989818626, 'colsample_bylevel': 0.8792457742715623, 'colsample_bynode': 0.7375503735843553, 'reg_lambda': 0.8951308984994664, 'reg_alpha': 0.9632033459945937, 'scale_pos_weight': 2}. Best is trial 234 with value: 0.8796115477230029.\n",
      "[I 2023-06-07 17:40:13,100] Trial 247 finished with value: 0.8634223401119951 and parameters: {'n_estimators': 320, 'max_depth': 3, 'gamma': 0.15135632179625563, 'min_child_weight': 1, 'subsample': 0.8510826059049043, 'colsample_bytree': 0.9288513932641149, 'colsample_bylevel': 0.8861657816875584, 'colsample_bynode': 0.7355615722945179, 'reg_lambda': 0.8909219523866629, 'reg_alpha': 0.9621666771504976, 'scale_pos_weight': 2}. Best is trial 234 with value: 0.8796115477230029.\n",
      "[I 2023-06-07 17:40:56,431] Trial 248 finished with value: 0.8647161815863258 and parameters: {'n_estimators': 580, 'max_depth': 3, 'gamma': 0.13553249269374565, 'min_child_weight': 1, 'subsample': 0.832816862532331, 'colsample_bytree': 0.8906685376874797, 'colsample_bylevel': 0.9030607224712106, 'colsample_bynode': 0.7110892207078843, 'reg_lambda': 0.9099800697798849, 'reg_alpha': 0.9315954898994426, 'scale_pos_weight': 2}. Best is trial 234 with value: 0.8796115477230029.\n",
      "[I 2023-06-07 17:41:25,763] Trial 249 finished with value: 0.87503215122527 and parameters: {'n_estimators': 350, 'max_depth': 3, 'gamma': 0.15489589949499447, 'min_child_weight': 1, 'subsample': 0.8207130617333793, 'colsample_bytree': 0.9169760262742174, 'colsample_bylevel': 0.8792447624508112, 'colsample_bynode': 0.7256801137638837, 'reg_lambda': 0.8774482612365242, 'reg_alpha': 0.9677542174008634, 'scale_pos_weight': 2}. Best is trial 234 with value: 0.8796115477230029.\n",
      "[I 2023-06-07 17:41:57,574] Trial 250 finished with value: 0.8629961631076182 and parameters: {'n_estimators': 390, 'max_depth': 3, 'gamma': 0.14161743583494846, 'min_child_weight': 1, 'subsample': 0.8249940236335972, 'colsample_bytree': 0.9208740937082025, 'colsample_bylevel': 0.8773846270675951, 'colsample_bynode': 0.7244766466923406, 'reg_lambda': 0.8724230240120355, 'reg_alpha': 0.9744415940909378, 'scale_pos_weight': 2}. Best is trial 234 with value: 0.8796115477230029.\n",
      "[I 2023-06-07 17:42:29,528] Trial 251 finished with value: 0.8599713597198384 and parameters: {'n_estimators': 370, 'max_depth': 3, 'gamma': 0.15114145754135414, 'min_child_weight': 1, 'subsample': 0.8121166334035622, 'colsample_bytree': 0.8695909772520877, 'colsample_bylevel': 0.8844662952415382, 'colsample_bynode': 0.740554259941943, 'reg_lambda': 0.8850091754808893, 'reg_alpha': 0.9886293869806875, 'scale_pos_weight': 2}. Best is trial 234 with value: 0.8796115477230029.\n",
      "[I 2023-06-07 17:43:00,178] Trial 252 finished with value: 0.867370220422852 and parameters: {'n_estimators': 350, 'max_depth': 3, 'gamma': 0.15321181574304307, 'min_child_weight': 1, 'subsample': 0.8214737074701156, 'colsample_bytree': 0.8979861720386628, 'colsample_bylevel': 0.8975669820845057, 'colsample_bynode': 0.7279537446750662, 'reg_lambda': 0.8383286676814983, 'reg_alpha': 0.9544710036530923, 'scale_pos_weight': 2}. Best is trial 234 with value: 0.8796115477230029.\n",
      "[I 2023-06-07 17:43:27,703] Trial 253 finished with value: 0.8618887586701127 and parameters: {'n_estimators': 320, 'max_depth': 3, 'gamma': 0.14282340602702223, 'min_child_weight': 1, 'subsample': 0.7009869311593644, 'colsample_bytree': 0.928064619566351, 'colsample_bylevel': 0.8755523076084955, 'colsample_bynode': 0.7316555004513584, 'reg_lambda': 0.9061232131627999, 'reg_alpha': 0.9258463043670692, 'scale_pos_weight': 2}. Best is trial 234 with value: 0.8796115477230029.\n",
      "[I 2023-06-07 17:43:56,445] Trial 254 finished with value: 0.8645066813472798 and parameters: {'n_estimators': 290, 'max_depth': 3, 'gamma': 0.15615423437289258, 'min_child_weight': 1, 'subsample': 0.991217637061452, 'colsample_bytree': 0.9177200972953365, 'colsample_bylevel': 0.8763142393337638, 'colsample_bynode': 0.7109127559713887, 'reg_lambda': 0.9212412449835921, 'reg_alpha': 0.9585329367276565, 'scale_pos_weight': 2}. Best is trial 234 with value: 0.8796115477230029.\n",
      "[I 2023-06-07 17:44:25,224] Trial 255 finished with value: 0.8531882412474857 and parameters: {'n_estimators': 340, 'max_depth': 3, 'gamma': 0.13351533111634412, 'min_child_weight': 1, 'subsample': 0.8372035386625816, 'colsample_bytree': 0.8827294677662373, 'colsample_bylevel': 0.8873826752467734, 'colsample_bynode': 0.7562429553296542, 'reg_lambda': 0.8627138828123879, 'reg_alpha': 0.5639845870854557, 'scale_pos_weight': 2}. Best is trial 234 with value: 0.8796115477230029.\n",
      "[I 2023-06-07 17:44:57,943] Trial 256 finished with value: 0.8661289951878187 and parameters: {'n_estimators': 380, 'max_depth': 3, 'gamma': 0.15853342478850463, 'min_child_weight': 1, 'subsample': 0.8156762090156495, 'colsample_bytree': 0.9062401066037649, 'colsample_bylevel': 0.9104650466678763, 'colsample_bynode': 0.7222428975387655, 'reg_lambda': 0.8852012301102228, 'reg_alpha': 0.9024758895793433, 'scale_pos_weight': 2}. Best is trial 234 with value: 0.8796115477230029.\n",
      "[I 2023-06-07 17:45:31,329] Trial 257 finished with value: 0.8580849780926532 and parameters: {'n_estimators': 360, 'max_depth': 3, 'gamma': 0.14625621772621183, 'min_child_weight': 1, 'subsample': 0.8355553988234077, 'colsample_bytree': 0.9333561267750079, 'colsample_bylevel': 0.8657034361835292, 'colsample_bynode': 0.7393064200002131, 'reg_lambda': 0.9025072894676185, 'reg_alpha': 0.97793969958655, 'scale_pos_weight': 2}. Best is trial 234 with value: 0.8796115477230029.\n",
      "[I 2023-06-07 17:45:55,592] Trial 258 finished with value: 0.8661394511920827 and parameters: {'n_estimators': 320, 'max_depth': 3, 'gamma': 0.15923871118287, 'min_child_weight': 1, 'subsample': 0.6245738788059172, 'colsample_bytree': 0.9163691040111666, 'colsample_bylevel': 0.8712589814103464, 'colsample_bynode': 0.7105507107163987, 'reg_lambda': 0.9266203647776667, 'reg_alpha': 0.9443032639827146, 'scale_pos_weight': 2}. Best is trial 234 with value: 0.8796115477230029.\n",
      "[I 2023-06-07 17:46:56,330] Trial 259 finished with value: 0.8642269323383875 and parameters: {'n_estimators': 720, 'max_depth': 3, 'gamma': 0.14046458996312478, 'min_child_weight': 1, 'subsample': 0.8520862745056552, 'colsample_bytree': 0.9534256412243441, 'colsample_bylevel': 0.8963292389066359, 'colsample_bynode': 0.7474610904974097, 'reg_lambda': 0.8539892375412353, 'reg_alpha': 0.888286561389334, 'scale_pos_weight': 2}. Best is trial 234 with value: 0.8796115477230029.\n",
      "[I 2023-06-07 17:47:57,185] Trial 260 finished with value: 0.8685810687679956 and parameters: {'n_estimators': 780, 'max_depth': 3, 'gamma': 0.15195187219175277, 'min_child_weight': 1, 'subsample': 0.8719158687161936, 'colsample_bytree': 0.9280960589295923, 'colsample_bylevel': 0.8528964755727139, 'colsample_bynode': 0.7293568710894096, 'reg_lambda': 0.8782210467954585, 'reg_alpha': 0.9177089756582374, 'scale_pos_weight': 2}. Best is trial 234 with value: 0.8796115477230029.\n",
      "[I 2023-06-07 17:48:22,878] Trial 261 finished with value: 0.8610338989566747 and parameters: {'n_estimators': 350, 'max_depth': 3, 'gamma': 0.16308129220199577, 'min_child_weight': 1, 'subsample': 0.8866384432714234, 'colsample_bytree': 0.8295878892018826, 'colsample_bylevel': 0.7428075350690456, 'colsample_bynode': 0.7143817115439507, 'reg_lambda': 0.8179697170021091, 'reg_alpha': 0.9981805927143492, 'scale_pos_weight': 2}. Best is trial 234 with value: 0.8796115477230029.\n",
      "[I 2023-06-07 17:49:30,205] Trial 262 finished with value: 0.8439426098756668 and parameters: {'n_estimators': 810, 'max_depth': 4, 'gamma': 0.12665042305282487, 'min_child_weight': 1, 'subsample': 0.9304922088511737, 'colsample_bytree': 0.8449880638987614, 'colsample_bylevel': 0.8932422183699148, 'colsample_bynode': 0.765488125626268, 'reg_lambda': 0.9245498885764136, 'reg_alpha': 0.5409666347065417, 'scale_pos_weight': 2}. Best is trial 234 with value: 0.8796115477230029.\n",
      "[I 2023-06-07 17:49:58,286] Trial 263 finished with value: 0.8680198149025887 and parameters: {'n_estimators': 300, 'max_depth': 3, 'gamma': 0.11827578943545397, 'min_child_weight': 1, 'subsample': 0.9597726249846457, 'colsample_bytree': 0.8979477319659706, 'colsample_bylevel': 0.8597426835137038, 'colsample_bynode': 0.6993569057254628, 'reg_lambda': 0.8947026175493283, 'reg_alpha': 0.9215138129007815, 'scale_pos_weight': 2}. Best is trial 234 with value: 0.8796115477230029.\n",
      "[I 2023-06-07 17:50:59,331] Trial 264 finished with value: 0.8626339977004962 and parameters: {'n_estimators': 770, 'max_depth': 3, 'gamma': 0.21876539114702462, 'min_child_weight': 1, 'subsample': 0.9027709104342693, 'colsample_bytree': 0.9419014757006895, 'colsample_bylevel': 0.7805769684533461, 'colsample_bynode': 0.7203188889603145, 'reg_lambda': 0.9302080699723974, 'reg_alpha': 0.7152458946154101, 'scale_pos_weight': 2}. Best is trial 234 with value: 0.8796115477230029.\n",
      "[I 2023-06-07 17:51:39,402] Trial 265 finished with value: 0.852598123099099 and parameters: {'n_estimators': 600, 'max_depth': 3, 'gamma': 0.13118768600994293, 'min_child_weight': 1, 'subsample': 0.8228122054712209, 'colsample_bytree': 0.8779548460859048, 'colsample_bylevel': 0.9045505665892223, 'colsample_bynode': 0.6054337594568755, 'reg_lambda': 0.9125398776350739, 'reg_alpha': 0.6042235329260661, 'scale_pos_weight': 5}. Best is trial 234 with value: 0.8796115477230029.\n",
      "[I 2023-06-07 17:52:04,286] Trial 266 finished with value: 0.8828571889326607 and parameters: {'n_estimators': 390, 'max_depth': 3, 'gamma': 0.13750853362003815, 'min_child_weight': 3, 'subsample': 0.8590465333986226, 'colsample_bytree': 0.9115209979837758, 'colsample_bylevel': 0.8689408714339835, 'colsample_bynode': 0.7060413028369135, 'reg_lambda': 0.8386194702033805, 'reg_alpha': 0.8821699376331796, 'scale_pos_weight': 2}. Best is trial 266 with value: 0.8828571889326607.\n",
      "[I 2023-06-07 17:52:29,224] Trial 267 finished with value: 0.8579762898002402 and parameters: {'n_estimators': 390, 'max_depth': 3, 'gamma': 0.13727814376322403, 'min_child_weight': 3, 'subsample': 0.8615138015007476, 'colsample_bytree': 0.8868286315392275, 'colsample_bylevel': 0.8837477126462415, 'colsample_bynode': 0.7068403899333913, 'reg_lambda': 0.856812312213291, 'reg_alpha': 0.8878466398982191, 'scale_pos_weight': 2}. Best is trial 266 with value: 0.8828571889326607.\n",
      "[I 2023-06-07 17:52:53,237] Trial 268 finished with value: 0.842665298951297 and parameters: {'n_estimators': 420, 'max_depth': 3, 'gamma': 0.12777240141090082, 'min_child_weight': 3, 'subsample': 0.8017586233315265, 'colsample_bytree': 0.8085006706185999, 'colsample_bylevel': 0.8696671133676516, 'colsample_bynode': 0.7008984819434684, 'reg_lambda': 0.877233197206655, 'reg_alpha': 0.8773988648060655, 'scale_pos_weight': 2}. Best is trial 266 with value: 0.8828571889326607.\n",
      "[I 2023-06-07 17:53:20,888] Trial 269 finished with value: 0.8499233455456153 and parameters: {'n_estimators': 440, 'max_depth': 3, 'gamma': 0.14585804747173717, 'min_child_weight': 3, 'subsample': 0.8408941968645726, 'colsample_bytree': 0.9070092492952775, 'colsample_bylevel': 0.7188156379055769, 'colsample_bynode': 0.9264141005598991, 'reg_lambda': 0.8052297878536219, 'reg_alpha': 0.9471528113141575, 'scale_pos_weight': 2}. Best is trial 266 with value: 0.8828571889326607.\n",
      "[I 2023-06-07 17:53:47,618] Trial 270 finished with value: 0.875506804667048 and parameters: {'n_estimators': 480, 'max_depth': 3, 'gamma': 0.15730278004937942, 'min_child_weight': 1, 'subsample': 0.8697637027774844, 'colsample_bytree': 0.9144569736971498, 'colsample_bylevel': 0.5191238532646849, 'colsample_bynode': 0.733882954438406, 'reg_lambda': 0.8269315517213219, 'reg_alpha': 0.9046610394099595, 'scale_pos_weight': 2}. Best is trial 266 with value: 0.8828571889326607.\n",
      "[I 2023-06-07 17:54:09,098] Trial 271 finished with value: 0.871713900848196 and parameters: {'n_estimators': 330, 'max_depth': 3, 'gamma': 0.15844757831168413, 'min_child_weight': 1, 'subsample': 0.8720750362513364, 'colsample_bytree': 0.8631753200708192, 'colsample_bylevel': 0.6054565627823207, 'colsample_bynode': 0.715624883741858, 'reg_lambda': 0.8313444879786739, 'reg_alpha': 0.9043949112401877, 'scale_pos_weight': 2}. Best is trial 266 with value: 0.8828571889326607.\n",
      "[I 2023-06-07 17:54:57,601] Trial 272 finished with value: 0.8516254172493003 and parameters: {'n_estimators': 560, 'max_depth': 3, 'gamma': 0.5814339573174994, 'min_child_weight': 1, 'subsample': 0.9425914958889415, 'colsample_bytree': 0.9279047120784305, 'colsample_bylevel': 0.7858603102215448, 'colsample_bynode': 0.7281518252910422, 'reg_lambda': 0.7674097637225031, 'reg_alpha': 0.875953167578966, 'scale_pos_weight': 2}. Best is trial 266 with value: 0.8828571889326607.\n",
      "[I 2023-06-07 17:55:30,711] Trial 273 finished with value: 0.8566772420727796 and parameters: {'n_estimators': 490, 'max_depth': 3, 'gamma': 0.14149183494101275, 'min_child_weight': 1, 'subsample': 0.8876992651099286, 'colsample_bytree': 0.8485470533722512, 'colsample_bylevel': 0.7612771695291423, 'colsample_bynode': 0.6824716772342171, 'reg_lambda': 0.8371428260983361, 'reg_alpha': 0.9051886815065654, 'scale_pos_weight': 2}. Best is trial 266 with value: 0.8828571889326607.\n",
      "[I 2023-06-07 17:55:59,629] Trial 274 finished with value: 0.8613273459459687 and parameters: {'n_estimators': 530, 'max_depth': 3, 'gamma': 0.1646379654313567, 'min_child_weight': 1, 'subsample': 0.9828338094988104, 'colsample_bytree': 0.8171828743994367, 'colsample_bylevel': 0.5221692740576838, 'colsample_bynode': 0.7044846417217803, 'reg_lambda': 0.8516129136024155, 'reg_alpha': 0.6781523085473986, 'scale_pos_weight': 2}. Best is trial 266 with value: 0.8828571889326607.\n",
      "[I 2023-06-07 17:56:37,520] Trial 275 finished with value: 0.8647413997324266 and parameters: {'n_estimators': 570, 'max_depth': 3, 'gamma': 0.13382882935472012, 'min_child_weight': 1, 'subsample': 0.9091618424737651, 'colsample_bytree': 0.8939658904758192, 'colsample_bylevel': 0.730022886041777, 'colsample_bynode': 0.720847522189725, 'reg_lambda': 0.7839787119653152, 'reg_alpha': 0.6582188240724101, 'scale_pos_weight': 2}. Best is trial 266 with value: 0.8828571889326607.\n",
      "[I 2023-06-07 17:57:13,968] Trial 276 finished with value: 0.8663520213483856 and parameters: {'n_estimators': 510, 'max_depth': 3, 'gamma': 0.14642292520064182, 'min_child_weight': 1, 'subsample': 0.8702230842543478, 'colsample_bytree': 0.9158299760837589, 'colsample_bylevel': 0.7984185221958018, 'colsample_bynode': 0.6931886127834774, 'reg_lambda': 0.8226339056310962, 'reg_alpha': 0.9273985796293183, 'scale_pos_weight': 2}. Best is trial 266 with value: 0.8828571889326607.\n",
      "[I 2023-06-07 17:57:46,186] Trial 277 finished with value: 0.8506981047199517 and parameters: {'n_estimators': 480, 'max_depth': 3, 'gamma': 0.15587161137020017, 'min_child_weight': 1, 'subsample': 0.8318725359774906, 'colsample_bytree': 0.9468201209081337, 'colsample_bylevel': 0.684710249827321, 'colsample_bynode': 0.7491870168232294, 'reg_lambda': 0.7999601294821319, 'reg_alpha': 0.48727876625250444, 'scale_pos_weight': 2}. Best is trial 266 with value: 0.8828571889326607.\n",
      "[I 2023-06-07 17:58:36,101] Trial 278 finished with value: 0.8732485730725233 and parameters: {'n_estimators': 760, 'max_depth': 3, 'gamma': 0.16663687644670144, 'min_child_weight': 1, 'subsample': 0.8139703124393937, 'colsample_bytree': 0.8321005864171854, 'colsample_bylevel': 0.8060979868364859, 'colsample_bynode': 0.7092772585992696, 'reg_lambda': 0.9319717037081056, 'reg_alpha': 0.8858762264549288, 'scale_pos_weight': 2}. Best is trial 266 with value: 0.8828571889326607.\n",
      "[I 2023-06-07 17:59:00,731] Trial 279 finished with value: 0.8604768503713179 and parameters: {'n_estimators': 340, 'max_depth': 4, 'gamma': 0.17061521657308804, 'min_child_weight': 3, 'subsample': 0.8604105317276252, 'colsample_bytree': 0.9350965777376945, 'colsample_bylevel': 0.9165365759938259, 'colsample_bynode': 0.673778245846223, 'reg_lambda': 0.8607992803064866, 'reg_alpha': 0.7307771784199815, 'scale_pos_weight': 2}. Best is trial 266 with value: 0.8828571889326607.\n",
      "[I 2023-06-07 17:59:45,167] Trial 280 finished with value: 0.8762733764603032 and parameters: {'n_estimators': 620, 'max_depth': 3, 'gamma': 0.12503817775293813, 'min_child_weight': 1, 'subsample': 0.8939399914126067, 'colsample_bytree': 0.8991210444071627, 'colsample_bylevel': 0.7728586802758536, 'colsample_bynode': 0.7342436851794296, 'reg_lambda': 0.9417281654823223, 'reg_alpha': 0.8909832611299132, 'scale_pos_weight': 2}. Best is trial 266 with value: 0.8828571889326607.\n",
      "[I 2023-06-07 18:00:13,746] Trial 281 finished with value: 0.8732485730725233 and parameters: {'n_estimators': 370, 'max_depth': 3, 'gamma': 0.11066226564072441, 'min_child_weight': 1, 'subsample': 0.8810320621493318, 'colsample_bytree': 0.8997467403100473, 'colsample_bylevel': 0.7899991345252075, 'colsample_bynode': 0.736884969278362, 'reg_lambda': 0.6799065942114543, 'reg_alpha': 0.9074402185654369, 'scale_pos_weight': 2}. Best is trial 266 with value: 0.8828571889326607.\n",
      "[I 2023-06-07 18:00:54,612] Trial 282 finished with value: 0.8457563874034462 and parameters: {'n_estimators': 620, 'max_depth': 3, 'gamma': 0.1292112826876133, 'min_child_weight': 1, 'subsample': 0.8896115042667293, 'colsample_bytree': 0.8700724490130863, 'colsample_bylevel': 0.796087627500151, 'colsample_bynode': 0.7278884345691228, 'reg_lambda': 0.9076424502205644, 'reg_alpha': 0.8739073755805313, 'scale_pos_weight': 1}. Best is trial 266 with value: 0.8828571889326607.\n",
      "[I 2023-06-07 18:01:36,220] Trial 283 finished with value: 0.8615635249083464 and parameters: {'n_estimators': 590, 'max_depth': 3, 'gamma': 0.12222422572722826, 'min_child_weight': 1, 'subsample': 0.8773968305673512, 'colsample_bytree': 0.8886781665709051, 'colsample_bylevel': 0.7600825534992685, 'colsample_bynode': 0.753928077735183, 'reg_lambda': 0.9431031917310891, 'reg_alpha': 0.8962842455841035, 'scale_pos_weight': 2}. Best is trial 266 with value: 0.8828571889326607.\n",
      "[I 2023-06-07 18:02:15,884] Trial 284 finished with value: 0.8719192400306952 and parameters: {'n_estimators': 550, 'max_depth': 3, 'gamma': 0.11431876584545433, 'min_child_weight': 1, 'subsample': 0.8676202346778227, 'colsample_bytree': 0.9173717734184204, 'colsample_bylevel': 0.7770690348692496, 'colsample_bynode': 0.7424244793606299, 'reg_lambda': 0.8735965782603211, 'reg_alpha': 0.9150903870615471, 'scale_pos_weight': 2}. Best is trial 266 with value: 0.8828571889326607.\n",
      "[I 2023-06-07 18:02:54,858] Trial 285 finished with value: 0.8700754605764365 and parameters: {'n_estimators': 590, 'max_depth': 3, 'gamma': 0.14303379848496608, 'min_child_weight': 1, 'subsample': 0.8976087993016022, 'colsample_bytree': 0.9070233289105837, 'colsample_bylevel': 0.7576720172394913, 'colsample_bynode': 0.6586210090070388, 'reg_lambda': 0.841426134890361, 'reg_alpha': 0.9315943835461544, 'scale_pos_weight': 2}. Best is trial 266 with value: 0.8828571889326607.\n",
      "[I 2023-06-07 18:03:18,445] Trial 286 finished with value: 0.8679092149680386 and parameters: {'n_estimators': 310, 'max_depth': 3, 'gamma': 0.12497491949580217, 'min_child_weight': 1, 'subsample': 0.920454791096752, 'colsample_bytree': 0.9237914761815467, 'colsample_bylevel': 0.7680073543574302, 'colsample_bynode': 0.6383164634604797, 'reg_lambda': 0.9382644257765761, 'reg_alpha': 0.8655645020812286, 'scale_pos_weight': 2}. Best is trial 266 with value: 0.8828571889326607.\n",
      "[I 2023-06-07 18:04:04,850] Trial 287 finished with value: 0.8722633513976467 and parameters: {'n_estimators': 630, 'max_depth': 3, 'gamma': 0.13793046641439025, 'min_child_weight': 1, 'subsample': 0.8988197344006191, 'colsample_bytree': 0.9010341989520061, 'colsample_bylevel': 0.8123859234382355, 'colsample_bynode': 0.7182576653282766, 'reg_lambda': 0.7109190144395121, 'reg_alpha': 0.8859993396589404, 'scale_pos_weight': 2}. Best is trial 266 with value: 0.8828571889326607.\n",
      "[I 2023-06-07 18:04:45,127] Trial 288 finished with value: 0.8708396178984413 and parameters: {'n_estimators': 570, 'max_depth': 3, 'gamma': 0.10492260092948773, 'min_child_weight': 1, 'subsample': 0.8587426431397431, 'colsample_bytree': 0.9101023931653617, 'colsample_bylevel': 0.7831456924496327, 'colsample_bynode': 0.7322353389134252, 'reg_lambda': 0.915055677664715, 'reg_alpha': 0.6286671102502099, 'scale_pos_weight': 2}. Best is trial 266 with value: 0.8828571889326607.\n",
      "[I 2023-06-07 18:05:27,576] Trial 289 finished with value: 0.8612021289506077 and parameters: {'n_estimators': 520, 'max_depth': 3, 'gamma': 0.15264285959193163, 'min_child_weight': 1, 'subsample': 0.8772393923412964, 'colsample_bytree': 0.7293077747876157, 'colsample_bylevel': 0.8600955466100502, 'colsample_bynode': 0.8481465165197314, 'reg_lambda': 0.8895128254871723, 'reg_alpha': 0.9388879260244382, 'scale_pos_weight': 2}. Best is trial 266 with value: 0.8828571889326607.\n",
      "[I 2023-06-07 18:05:52,779] Trial 290 finished with value: 0.8461979458450047 and parameters: {'n_estimators': 290, 'max_depth': 3, 'gamma': 0.29916291904034986, 'min_child_weight': 1, 'subsample': 0.8421057008177878, 'colsample_bytree': 0.8780799140146546, 'colsample_bylevel': 0.9232062741584007, 'colsample_bynode': 0.6852092150441068, 'reg_lambda': 0.9534490017692072, 'reg_alpha': 0.8977763087049893, 'scale_pos_weight': 1}. Best is trial 266 with value: 0.8828571889326607.\n",
      "[I 2023-06-07 18:06:18,441] Trial 291 finished with value: 0.8686669959127462 and parameters: {'n_estimators': 330, 'max_depth': 3, 'gamma': 0.13449388381918506, 'min_child_weight': 1, 'subsample': 0.7920542345072625, 'colsample_bytree': 0.9296373763680341, 'colsample_bylevel': 0.8454864611374481, 'colsample_bynode': 0.6986848332401715, 'reg_lambda': 0.9250648190389106, 'reg_alpha': 0.8685294899378294, 'scale_pos_weight': 2}. Best is trial 266 with value: 0.8828571889326607.\n",
      "[I 2023-06-07 18:07:03,905] Trial 292 finished with value: 0.8568982624775247 and parameters: {'n_estimators': 600, 'max_depth': 3, 'gamma': 0.16038399866418612, 'min_child_weight': 1, 'subsample': 0.8683718452931991, 'colsample_bytree': 0.9415342002309364, 'colsample_bylevel': 0.8687253642205357, 'colsample_bynode': 0.8039574285411376, 'reg_lambda': 0.8158183135762449, 'reg_alpha': 0.17450209061743066, 'scale_pos_weight': 2}. Best is trial 266 with value: 0.8828571889326607.\n",
      "[I 2023-06-07 18:07:21,436] Trial 293 finished with value: 0.8629961631076183 and parameters: {'n_estimators': 350, 'max_depth': 3, 'gamma': 0.14982121109448102, 'min_child_weight': 1, 'subsample': 0.8567186854693227, 'colsample_bytree': 0.5813112576966202, 'colsample_bylevel': 0.9048816256214397, 'colsample_bynode': 0.5074978701713786, 'reg_lambda': 0.7787517161622649, 'reg_alpha': 0.8483765650816877, 'scale_pos_weight': 2}. Best is trial 266 with value: 0.8828571889326607.\n",
      "[I 2023-06-07 18:07:40,490] Trial 294 finished with value: 0.8670939821604808 and parameters: {'n_estimators': 370, 'max_depth': 3, 'gamma': 0.1632245516918321, 'min_child_weight': 3, 'subsample': 0.8863047786984523, 'colsample_bytree': 0.856689047695653, 'colsample_bylevel': 0.8056322647145794, 'colsample_bynode': 0.5609376235568995, 'reg_lambda': 0.9752022604953396, 'reg_alpha': 0.9195128387950476, 'scale_pos_weight': 2}. Best is trial 266 with value: 0.8828571889326607.\n",
      "[I 2023-06-07 18:08:01,496] Trial 295 finished with value: 0.8666784457372693 and parameters: {'n_estimators': 460, 'max_depth': 3, 'gamma': 0.22216761941636712, 'min_child_weight': 1, 'subsample': 0.8225796724743998, 'colsample_bytree': 0.7390045495952442, 'colsample_bylevel': 0.5045991499376098, 'colsample_bynode': 0.7601965622494757, 'reg_lambda': 0.7416461252131473, 'reg_alpha': 0.43076638241978527, 'scale_pos_weight': 2}. Best is trial 266 with value: 0.8828571889326607.\n",
      "[I 2023-06-07 18:08:30,791] Trial 296 finished with value: 0.8582798612708882 and parameters: {'n_estimators': 320, 'max_depth': 3, 'gamma': 0.13906851507796314, 'min_child_weight': 1, 'subsample': 0.9134677379814286, 'colsample_bytree': 0.8377433174385913, 'colsample_bylevel': 0.774657513707571, 'colsample_bynode': 0.9891468172944751, 'reg_lambda': 0.8927723820418649, 'reg_alpha': 0.3301119379702005, 'scale_pos_weight': 2}. Best is trial 266 with value: 0.8828571889326607.\n",
      "[I 2023-06-07 18:09:06,071] Trial 297 finished with value: 0.8636971677559913 and parameters: {'n_estimators': 360, 'max_depth': 3, 'gamma': 0.14753322663767293, 'min_child_weight': 1, 'subsample': 0.8451047118546516, 'colsample_bytree': 0.9180322044337085, 'colsample_bylevel': 0.9397477405039243, 'colsample_bynode': 0.814800540708411, 'reg_lambda': 0.9437409379669545, 'reg_alpha': 0.7586614682302864, 'scale_pos_weight': 1}. Best is trial 266 with value: 0.8828571889326607.\n",
      "[I 2023-06-07 18:09:44,217] Trial 298 finished with value: 0.8525242051622909 and parameters: {'n_estimators': 410, 'max_depth': 3, 'gamma': 0.17245024222571387, 'min_child_weight': 1, 'subsample': 0.937449867908537, 'colsample_bytree': 0.8914046690906184, 'colsample_bylevel': 0.8867891108156872, 'colsample_bynode': 0.7771367539239906, 'reg_lambda': 0.6215337825155866, 'reg_alpha': 0.8929583283450817, 'scale_pos_weight': 2}. Best is trial 266 with value: 0.8828571889326607.\n",
      "[I 2023-06-07 18:10:25,731] Trial 299 finished with value: 0.8537549743930601 and parameters: {'n_estimators': 540, 'max_depth': 3, 'gamma': 0.12026116948665544, 'min_child_weight': 1, 'subsample': 0.951999823644059, 'colsample_bytree': 0.9666525664337342, 'colsample_bylevel': 0.7520933983624025, 'colsample_bynode': 0.7221926447581414, 'reg_lambda': 0.8723253584443594, 'reg_alpha': 0.9481354003800005, 'scale_pos_weight': 2}. Best is trial 266 with value: 0.8828571889326607.\n"
     ]
    }
   ],
   "source": [
    "optim = optuna.create_study(direction='maximize', pruner=optuna.pruners.MedianPruner(n_warmup_steps=5))\n",
    "optim.optimize(optimization, n_trials=300)"
   ]
  },
  {
   "cell_type": "code",
   "execution_count": 14,
   "metadata": {},
   "outputs": [
    {
     "data": {
      "application/vnd.plotly.v1+json": {
       "config": {
        "plotlyServerURL": "https://plot.ly"
       },
       "data": [
        {
         "mode": "markers",
         "name": "Objective Value",
         "type": "scatter",
         "x": [
          0,
          1,
          2,
          3,
          4,
          5,
          6,
          7,
          8,
          9,
          10,
          11,
          12,
          13,
          14,
          15,
          16,
          17,
          18,
          19,
          20,
          21,
          22,
          23,
          24,
          25,
          26,
          27,
          28,
          29,
          30,
          31,
          32,
          33,
          34,
          35,
          36,
          37,
          38,
          39,
          40,
          41,
          42,
          43,
          44,
          45,
          46,
          47,
          48,
          49,
          50,
          51,
          52,
          53,
          54,
          55,
          56,
          57,
          58,
          59,
          60,
          61,
          62,
          63,
          64,
          65,
          66,
          67,
          68,
          69,
          70,
          71,
          72,
          73,
          74,
          75,
          76,
          77,
          78,
          79,
          80,
          81,
          82,
          83,
          84,
          85,
          86,
          87,
          88,
          89,
          90,
          91,
          92,
          93,
          94,
          95,
          96,
          97,
          98,
          99,
          100,
          101,
          102,
          103,
          104,
          105,
          106,
          107,
          108,
          109,
          110,
          111,
          112,
          113,
          114,
          115,
          116,
          117,
          118,
          119,
          120,
          121,
          122,
          123,
          124,
          125,
          126,
          127,
          128,
          129,
          130,
          131,
          132,
          133,
          134,
          135,
          136,
          137,
          138,
          139,
          140,
          141,
          142,
          143,
          144,
          145,
          146,
          147,
          148,
          149,
          150,
          151,
          152,
          153,
          154,
          155,
          156,
          157,
          158,
          159,
          160,
          161,
          162,
          163,
          164,
          165,
          166,
          167,
          168,
          169,
          170,
          171,
          172,
          173,
          174,
          175,
          176,
          177,
          178,
          179,
          180,
          181,
          182,
          183,
          184,
          185,
          186,
          187,
          188,
          189,
          190,
          191,
          192,
          193,
          194,
          195,
          196,
          197,
          198,
          199,
          200,
          201,
          202,
          203,
          204,
          205,
          206,
          207,
          208,
          209,
          210,
          211,
          212,
          213,
          214,
          215,
          216,
          217,
          218,
          219,
          220,
          221,
          222,
          223,
          224,
          225,
          226,
          227,
          228,
          229,
          230,
          231,
          232,
          233,
          234,
          235,
          236,
          237,
          238,
          239,
          240,
          241,
          242,
          243,
          244,
          245,
          246,
          247,
          248,
          249,
          250,
          251,
          252,
          253,
          254,
          255,
          256,
          257,
          258,
          259,
          260,
          261,
          262,
          263,
          264,
          265,
          266,
          267,
          268,
          269,
          270,
          271,
          272,
          273,
          274,
          275,
          276,
          277,
          278,
          279,
          280,
          281,
          282,
          283,
          284,
          285,
          286,
          287,
          288,
          289,
          290,
          291,
          292,
          293,
          294,
          295,
          296,
          297,
          298,
          299
         ],
         "y": [
          0.849456877003675,
          0.8363295130373855,
          0.8512397614757001,
          0.8489415925521403,
          0.8384270109235352,
          0.8718993191450695,
          0.8417985473778096,
          0.8579153899908617,
          0.8630337709713117,
          0.8576066925461164,
          0.8546190936945652,
          0.8548945755326613,
          0.8610072457723726,
          0.8552842520656061,
          0.8683327556775773,
          0.8621468469119739,
          0.8539616858237549,
          0.8703263053928041,
          0.8675213675213677,
          0.8596054829503045,
          0.8621082621082621,
          0.8641771870411393,
          0.8663144134846922,
          0.867111770102797,
          0.8692461873638344,
          0.8578656898656899,
          0.8512662696029837,
          0.8547932659275611,
          0.8591309087661798,
          0.8582301159736401,
          0.8396700861885563,
          0.8627377127875633,
          0.8455821556794744,
          0.8511113008338314,
          0.8736024567367519,
          0.8622992693580928,
          0.8429451140794093,
          0.8426340391341938,
          0.8459484134067929,
          0.8603321090858478,
          0.854599677100653,
          0.8493169491408995,
          0.8582798612708882,
          0.8659341120095837,
          0.8354844897855255,
          0.8539162387052679,
          0.8401684621599003,
          0.8572230252307003,
          0.838479296227775,
          0.856083424091099,
          0.8473183940242764,
          0.8610072457723726,
          0.8613273459459687,
          0.8703263053928041,
          0.8627791355814832,
          0.8608175138701455,
          0.8625268847545413,
          0.8544808048929907,
          0.8634635432874938,
          0.8582462424048609,
          0.8505549778997995,
          0.8549558245910956,
          0.8566161055617215,
          0.8569180887420391,
          0.8516221033868092,
          0.8715190176699611,
          0.8611523836533597,
          0.8486551069546285,
          0.8451838331160365,
          0.8537591975993752,
          0.8624831681379022,
          0.8566360264473472,
          0.867153192896717,
          0.8446719586633968,
          0.8610072457723726,
          0.866695866519817,
          0.8531516561426831,
          0.8495379695456446,
          0.8407427518015753,
          0.8564716553287981,
          0.8651716502997535,
          0.8710699238350508,
          0.8651716502997535,
          0.8589323116219669,
          0.8654850181746733,
          0.8627031260479476,
          0.8542144091353017,
          0.8408439465874707,
          0.8678892940824129,
          0.8651716502997535,
          0.8732485730725233,
          0.8581634750336192,
          0.847999712705595,
          0.8599713597198383,
          0.866695866519817,
          0.8712274653451123,
          0.8736383442265796,
          0.8572897603485838,
          0.849187562744396,
          0.8688722519310753,
          0.84571935944189,
          0.8612283994215181,
          0.8621619650191079,
          0.8539755930344166,
          0.8712274653451123,
          0.8701294261294261,
          0.8701692642869112,
          0.8743443484619956,
          0.857973581973582,
          0.8655781342840166,
          0.859954276824421,
          0.8616414087002322,
          0.8610291146761735,
          0.86821994654812,
          0.8602169072757307,
          0.8497553688141922,
          0.8699104018098239,
          0.866740590489069,
          0.8484716553287981,
          0.8654054358176216,
          0.8519540310883263,
          0.8657553688141923,
          0.8545226015814251,
          0.857973581973582,
          0.8589861380449616,
          0.8380523003561329,
          0.8537653938768489,
          0.8640561818901675,
          0.8448587839176074,
          0.8568982624775247,
          0.8637558108977812,
          0.876586744335223,
          0.8629961631076183,
          0.8614231493553527,
          0.8640561818901675,
          0.8528434404064656,
          0.8653613822019809,
          0.8663144134846922,
          0.8537957728545964,
          0.8445696614398057,
          0.8535995246583482,
          0.8762733764603035,
          0.8629961631076182,
          0.8543915043712204,
          0.8746784457372693,
          0.8643881966505951,
          0.8688745157572896,
          0.8612021289506077,
          0.8643254961494465,
          0.8507117789644593,
          0.8685810687679956,
          0.8664655605832076,
          0.8685485276150263,
          0.8722126870199892,
          0.863978619247969,
          0.8719192400306952,
          0.8567413997324266,
          0.843410463469708,
          0.8566772420727796,
          0.8762733764603035,
          0.8653613822019809,
          0.8783703224879694,
          0.8762733764603032,
          0.867111770102797,
          0.8728535019877972,
          0.8554451783660708,
          0.8700340377825164,
          0.8623632319985031,
          0.8718993191450695,
          0.8603327556775773,
          0.8623417300902088,
          0.8728535019877972,
          0.8644948934405093,
          0.8719192400306952,
          0.8570145053005034,
          0.8623632319985031,
          0.8741394511920827,
          0.8676636674121461,
          0.8671648812403528,
          0.8548704428026461,
          0.8692558326006541,
          0.8653665334779885,
          0.8762733764603032,
          0.8697206699075968,
          0.8752743864841535,
          0.8683044823799542,
          0.8637735988400974,
          0.8631389072143788,
          0.8598091389434341,
          0.8699104018098239,
          0.8643254961494465,
          0.8722126870199892,
          0.867370220422852,
          0.858447143499775,
          0.8615635249083464,
          0.8640320491601525,
          0.8683044823799542,
          0.8626339977004964,
          0.8651182203875702,
          0.8685810687679956,
          0.8651716502997535,
          0.8623417300902088,
          0.8615635249083464,
          0.8679092149680386,
          0.8576244804884328,
          0.8583704915266338,
          0.8624391145222614,
          0.8615981116479621,
          0.8655562653802157,
          0.8762733764603032,
          0.8645203793276816,
          0.8688745157572896,
          0.8609487400830353,
          0.8580090955688948,
          0.8697206699075968,
          0.8762733764603032,
          0.8643454170350722,
          0.869690192611085,
          0.8722126870199892,
          0.87503215122527,
          0.8445055405810123,
          0.8719192400306952,
          0.86084377954347,
          0.8718993191450695,
          0.8684920336201369,
          0.8648982259570495,
          0.8722633513976467,
          0.866695866519817,
          0.8717243568524602,
          0.8694716045381032,
          0.8708396178984413,
          0.8688745157572896,
          0.8595071622823243,
          0.8762733764603032,
          0.8796115477230029,
          0.8655761862658414,
          0.8718993191450695,
          0.8722633513976467,
          0.8722633513976467,
          0.8794062085405038,
          0.8794062085405038,
          0.8794062085405038,
          0.8718993191450695,
          0.8762733764603032,
          0.8706884707999258,
          0.8717243568524602,
          0.8729352051976038,
          0.8634223401119951,
          0.8647161815863258,
          0.87503215122527,
          0.8629961631076182,
          0.8599713597198384,
          0.867370220422852,
          0.8618887586701127,
          0.8645066813472798,
          0.8531882412474857,
          0.8661289951878187,
          0.8580849780926532,
          0.8661394511920827,
          0.8642269323383875,
          0.8685810687679956,
          0.8610338989566747,
          0.8439426098756668,
          0.8680198149025887,
          0.8626339977004962,
          0.852598123099099,
          0.8828571889326607,
          0.8579762898002402,
          0.842665298951297,
          0.8499233455456153,
          0.875506804667048,
          0.871713900848196,
          0.8516254172493003,
          0.8566772420727796,
          0.8613273459459687,
          0.8647413997324266,
          0.8663520213483856,
          0.8506981047199517,
          0.8732485730725233,
          0.8604768503713179,
          0.8762733764603032,
          0.8732485730725233,
          0.8457563874034462,
          0.8615635249083464,
          0.8719192400306952,
          0.8700754605764365,
          0.8679092149680386,
          0.8722633513976467,
          0.8708396178984413,
          0.8612021289506077,
          0.8461979458450047,
          0.8686669959127462,
          0.8568982624775247,
          0.8629961631076183,
          0.8670939821604808,
          0.8666784457372693,
          0.8582798612708882,
          0.8636971677559913,
          0.8525242051622909,
          0.8537549743930601
         ]
        },
        {
         "name": "Best Value",
         "type": "scatter",
         "x": [
          0,
          1,
          2,
          3,
          4,
          5,
          6,
          7,
          8,
          9,
          10,
          11,
          12,
          13,
          14,
          15,
          16,
          17,
          18,
          19,
          20,
          21,
          22,
          23,
          24,
          25,
          26,
          27,
          28,
          29,
          30,
          31,
          32,
          33,
          34,
          35,
          36,
          37,
          38,
          39,
          40,
          41,
          42,
          43,
          44,
          45,
          46,
          47,
          48,
          49,
          50,
          51,
          52,
          53,
          54,
          55,
          56,
          57,
          58,
          59,
          60,
          61,
          62,
          63,
          64,
          65,
          66,
          67,
          68,
          69,
          70,
          71,
          72,
          73,
          74,
          75,
          76,
          77,
          78,
          79,
          80,
          81,
          82,
          83,
          84,
          85,
          86,
          87,
          88,
          89,
          90,
          91,
          92,
          93,
          94,
          95,
          96,
          97,
          98,
          99,
          100,
          101,
          102,
          103,
          104,
          105,
          106,
          107,
          108,
          109,
          110,
          111,
          112,
          113,
          114,
          115,
          116,
          117,
          118,
          119,
          120,
          121,
          122,
          123,
          124,
          125,
          126,
          127,
          128,
          129,
          130,
          131,
          132,
          133,
          134,
          135,
          136,
          137,
          138,
          139,
          140,
          141,
          142,
          143,
          144,
          145,
          146,
          147,
          148,
          149,
          150,
          151,
          152,
          153,
          154,
          155,
          156,
          157,
          158,
          159,
          160,
          161,
          162,
          163,
          164,
          165,
          166,
          167,
          168,
          169,
          170,
          171,
          172,
          173,
          174,
          175,
          176,
          177,
          178,
          179,
          180,
          181,
          182,
          183,
          184,
          185,
          186,
          187,
          188,
          189,
          190,
          191,
          192,
          193,
          194,
          195,
          196,
          197,
          198,
          199,
          200,
          201,
          202,
          203,
          204,
          205,
          206,
          207,
          208,
          209,
          210,
          211,
          212,
          213,
          214,
          215,
          216,
          217,
          218,
          219,
          220,
          221,
          222,
          223,
          224,
          225,
          226,
          227,
          228,
          229,
          230,
          231,
          232,
          233,
          234,
          235,
          236,
          237,
          238,
          239,
          240,
          241,
          242,
          243,
          244,
          245,
          246,
          247,
          248,
          249,
          250,
          251,
          252,
          253,
          254,
          255,
          256,
          257,
          258,
          259,
          260,
          261,
          262,
          263,
          264,
          265,
          266,
          267,
          268,
          269,
          270,
          271,
          272,
          273,
          274,
          275,
          276,
          277,
          278,
          279,
          280,
          281,
          282,
          283,
          284,
          285,
          286,
          287,
          288,
          289,
          290,
          291,
          292,
          293,
          294,
          295,
          296,
          297,
          298,
          299
         ],
         "y": [
          0.849456877003675,
          0.849456877003675,
          0.8512397614757001,
          0.8512397614757001,
          0.8512397614757001,
          0.8718993191450695,
          0.8718993191450695,
          0.8718993191450695,
          0.8718993191450695,
          0.8718993191450695,
          0.8718993191450695,
          0.8718993191450695,
          0.8718993191450695,
          0.8718993191450695,
          0.8718993191450695,
          0.8718993191450695,
          0.8718993191450695,
          0.8718993191450695,
          0.8718993191450695,
          0.8718993191450695,
          0.8718993191450695,
          0.8718993191450695,
          0.8718993191450695,
          0.8718993191450695,
          0.8718993191450695,
          0.8718993191450695,
          0.8718993191450695,
          0.8718993191450695,
          0.8718993191450695,
          0.8718993191450695,
          0.8718993191450695,
          0.8718993191450695,
          0.8718993191450695,
          0.8718993191450695,
          0.8736024567367519,
          0.8736024567367519,
          0.8736024567367519,
          0.8736024567367519,
          0.8736024567367519,
          0.8736024567367519,
          0.8736024567367519,
          0.8736024567367519,
          0.8736024567367519,
          0.8736024567367519,
          0.8736024567367519,
          0.8736024567367519,
          0.8736024567367519,
          0.8736024567367519,
          0.8736024567367519,
          0.8736024567367519,
          0.8736024567367519,
          0.8736024567367519,
          0.8736024567367519,
          0.8736024567367519,
          0.8736024567367519,
          0.8736024567367519,
          0.8736024567367519,
          0.8736024567367519,
          0.8736024567367519,
          0.8736024567367519,
          0.8736024567367519,
          0.8736024567367519,
          0.8736024567367519,
          0.8736024567367519,
          0.8736024567367519,
          0.8736024567367519,
          0.8736024567367519,
          0.8736024567367519,
          0.8736024567367519,
          0.8736024567367519,
          0.8736024567367519,
          0.8736024567367519,
          0.8736024567367519,
          0.8736024567367519,
          0.8736024567367519,
          0.8736024567367519,
          0.8736024567367519,
          0.8736024567367519,
          0.8736024567367519,
          0.8736024567367519,
          0.8736024567367519,
          0.8736024567367519,
          0.8736024567367519,
          0.8736024567367519,
          0.8736024567367519,
          0.8736024567367519,
          0.8736024567367519,
          0.8736024567367519,
          0.8736024567367519,
          0.8736024567367519,
          0.8736024567367519,
          0.8736024567367519,
          0.8736024567367519,
          0.8736024567367519,
          0.8736024567367519,
          0.8736024567367519,
          0.8736383442265796,
          0.8736383442265796,
          0.8736383442265796,
          0.8736383442265796,
          0.8736383442265796,
          0.8736383442265796,
          0.8736383442265796,
          0.8736383442265796,
          0.8736383442265796,
          0.8736383442265796,
          0.8736383442265796,
          0.8743443484619956,
          0.8743443484619956,
          0.8743443484619956,
          0.8743443484619956,
          0.8743443484619956,
          0.8743443484619956,
          0.8743443484619956,
          0.8743443484619956,
          0.8743443484619956,
          0.8743443484619956,
          0.8743443484619956,
          0.8743443484619956,
          0.8743443484619956,
          0.8743443484619956,
          0.8743443484619956,
          0.8743443484619956,
          0.8743443484619956,
          0.8743443484619956,
          0.8743443484619956,
          0.8743443484619956,
          0.8743443484619956,
          0.8743443484619956,
          0.8743443484619956,
          0.8743443484619956,
          0.876586744335223,
          0.876586744335223,
          0.876586744335223,
          0.876586744335223,
          0.876586744335223,
          0.876586744335223,
          0.876586744335223,
          0.876586744335223,
          0.876586744335223,
          0.876586744335223,
          0.876586744335223,
          0.876586744335223,
          0.876586744335223,
          0.876586744335223,
          0.876586744335223,
          0.876586744335223,
          0.876586744335223,
          0.876586744335223,
          0.876586744335223,
          0.876586744335223,
          0.876586744335223,
          0.876586744335223,
          0.876586744335223,
          0.876586744335223,
          0.876586744335223,
          0.876586744335223,
          0.876586744335223,
          0.876586744335223,
          0.876586744335223,
          0.876586744335223,
          0.8783703224879694,
          0.8783703224879694,
          0.8783703224879694,
          0.8783703224879694,
          0.8783703224879694,
          0.8783703224879694,
          0.8783703224879694,
          0.8783703224879694,
          0.8783703224879694,
          0.8783703224879694,
          0.8783703224879694,
          0.8783703224879694,
          0.8783703224879694,
          0.8783703224879694,
          0.8783703224879694,
          0.8783703224879694,
          0.8783703224879694,
          0.8783703224879694,
          0.8783703224879694,
          0.8783703224879694,
          0.8783703224879694,
          0.8783703224879694,
          0.8783703224879694,
          0.8783703224879694,
          0.8783703224879694,
          0.8783703224879694,
          0.8783703224879694,
          0.8783703224879694,
          0.8783703224879694,
          0.8783703224879694,
          0.8783703224879694,
          0.8783703224879694,
          0.8783703224879694,
          0.8783703224879694,
          0.8783703224879694,
          0.8783703224879694,
          0.8783703224879694,
          0.8783703224879694,
          0.8783703224879694,
          0.8783703224879694,
          0.8783703224879694,
          0.8783703224879694,
          0.8783703224879694,
          0.8783703224879694,
          0.8783703224879694,
          0.8783703224879694,
          0.8783703224879694,
          0.8783703224879694,
          0.8783703224879694,
          0.8783703224879694,
          0.8783703224879694,
          0.8783703224879694,
          0.8783703224879694,
          0.8783703224879694,
          0.8783703224879694,
          0.8783703224879694,
          0.8783703224879694,
          0.8783703224879694,
          0.8783703224879694,
          0.8783703224879694,
          0.8783703224879694,
          0.8783703224879694,
          0.8783703224879694,
          0.8783703224879694,
          0.8783703224879694,
          0.8783703224879694,
          0.8783703224879694,
          0.8783703224879694,
          0.8783703224879694,
          0.8783703224879694,
          0.8783703224879694,
          0.8783703224879694,
          0.8783703224879694,
          0.8796115477230029,
          0.8796115477230029,
          0.8796115477230029,
          0.8796115477230029,
          0.8796115477230029,
          0.8796115477230029,
          0.8796115477230029,
          0.8796115477230029,
          0.8796115477230029,
          0.8796115477230029,
          0.8796115477230029,
          0.8796115477230029,
          0.8796115477230029,
          0.8796115477230029,
          0.8796115477230029,
          0.8796115477230029,
          0.8796115477230029,
          0.8796115477230029,
          0.8796115477230029,
          0.8796115477230029,
          0.8796115477230029,
          0.8796115477230029,
          0.8796115477230029,
          0.8796115477230029,
          0.8796115477230029,
          0.8796115477230029,
          0.8796115477230029,
          0.8796115477230029,
          0.8796115477230029,
          0.8796115477230029,
          0.8796115477230029,
          0.8796115477230029,
          0.8828571889326607,
          0.8828571889326607,
          0.8828571889326607,
          0.8828571889326607,
          0.8828571889326607,
          0.8828571889326607,
          0.8828571889326607,
          0.8828571889326607,
          0.8828571889326607,
          0.8828571889326607,
          0.8828571889326607,
          0.8828571889326607,
          0.8828571889326607,
          0.8828571889326607,
          0.8828571889326607,
          0.8828571889326607,
          0.8828571889326607,
          0.8828571889326607,
          0.8828571889326607,
          0.8828571889326607,
          0.8828571889326607,
          0.8828571889326607,
          0.8828571889326607,
          0.8828571889326607,
          0.8828571889326607,
          0.8828571889326607,
          0.8828571889326607,
          0.8828571889326607,
          0.8828571889326607,
          0.8828571889326607,
          0.8828571889326607,
          0.8828571889326607,
          0.8828571889326607,
          0.8828571889326607
         ]
        }
       ],
       "layout": {
        "template": {
         "data": {
          "bar": [
           {
            "error_x": {
             "color": "#2a3f5f"
            },
            "error_y": {
             "color": "#2a3f5f"
            },
            "marker": {
             "line": {
              "color": "#E5ECF6",
              "width": 0.5
             },
             "pattern": {
              "fillmode": "overlay",
              "size": 10,
              "solidity": 0.2
             }
            },
            "type": "bar"
           }
          ],
          "barpolar": [
           {
            "marker": {
             "line": {
              "color": "#E5ECF6",
              "width": 0.5
             },
             "pattern": {
              "fillmode": "overlay",
              "size": 10,
              "solidity": 0.2
             }
            },
            "type": "barpolar"
           }
          ],
          "carpet": [
           {
            "aaxis": {
             "endlinecolor": "#2a3f5f",
             "gridcolor": "white",
             "linecolor": "white",
             "minorgridcolor": "white",
             "startlinecolor": "#2a3f5f"
            },
            "baxis": {
             "endlinecolor": "#2a3f5f",
             "gridcolor": "white",
             "linecolor": "white",
             "minorgridcolor": "white",
             "startlinecolor": "#2a3f5f"
            },
            "type": "carpet"
           }
          ],
          "choropleth": [
           {
            "colorbar": {
             "outlinewidth": 0,
             "ticks": ""
            },
            "type": "choropleth"
           }
          ],
          "contour": [
           {
            "colorbar": {
             "outlinewidth": 0,
             "ticks": ""
            },
            "colorscale": [
             [
              0,
              "#0d0887"
             ],
             [
              0.1111111111111111,
              "#46039f"
             ],
             [
              0.2222222222222222,
              "#7201a8"
             ],
             [
              0.3333333333333333,
              "#9c179e"
             ],
             [
              0.4444444444444444,
              "#bd3786"
             ],
             [
              0.5555555555555556,
              "#d8576b"
             ],
             [
              0.6666666666666666,
              "#ed7953"
             ],
             [
              0.7777777777777778,
              "#fb9f3a"
             ],
             [
              0.8888888888888888,
              "#fdca26"
             ],
             [
              1,
              "#f0f921"
             ]
            ],
            "type": "contour"
           }
          ],
          "contourcarpet": [
           {
            "colorbar": {
             "outlinewidth": 0,
             "ticks": ""
            },
            "type": "contourcarpet"
           }
          ],
          "heatmap": [
           {
            "colorbar": {
             "outlinewidth": 0,
             "ticks": ""
            },
            "colorscale": [
             [
              0,
              "#0d0887"
             ],
             [
              0.1111111111111111,
              "#46039f"
             ],
             [
              0.2222222222222222,
              "#7201a8"
             ],
             [
              0.3333333333333333,
              "#9c179e"
             ],
             [
              0.4444444444444444,
              "#bd3786"
             ],
             [
              0.5555555555555556,
              "#d8576b"
             ],
             [
              0.6666666666666666,
              "#ed7953"
             ],
             [
              0.7777777777777778,
              "#fb9f3a"
             ],
             [
              0.8888888888888888,
              "#fdca26"
             ],
             [
              1,
              "#f0f921"
             ]
            ],
            "type": "heatmap"
           }
          ],
          "heatmapgl": [
           {
            "colorbar": {
             "outlinewidth": 0,
             "ticks": ""
            },
            "colorscale": [
             [
              0,
              "#0d0887"
             ],
             [
              0.1111111111111111,
              "#46039f"
             ],
             [
              0.2222222222222222,
              "#7201a8"
             ],
             [
              0.3333333333333333,
              "#9c179e"
             ],
             [
              0.4444444444444444,
              "#bd3786"
             ],
             [
              0.5555555555555556,
              "#d8576b"
             ],
             [
              0.6666666666666666,
              "#ed7953"
             ],
             [
              0.7777777777777778,
              "#fb9f3a"
             ],
             [
              0.8888888888888888,
              "#fdca26"
             ],
             [
              1,
              "#f0f921"
             ]
            ],
            "type": "heatmapgl"
           }
          ],
          "histogram": [
           {
            "marker": {
             "pattern": {
              "fillmode": "overlay",
              "size": 10,
              "solidity": 0.2
             }
            },
            "type": "histogram"
           }
          ],
          "histogram2d": [
           {
            "colorbar": {
             "outlinewidth": 0,
             "ticks": ""
            },
            "colorscale": [
             [
              0,
              "#0d0887"
             ],
             [
              0.1111111111111111,
              "#46039f"
             ],
             [
              0.2222222222222222,
              "#7201a8"
             ],
             [
              0.3333333333333333,
              "#9c179e"
             ],
             [
              0.4444444444444444,
              "#bd3786"
             ],
             [
              0.5555555555555556,
              "#d8576b"
             ],
             [
              0.6666666666666666,
              "#ed7953"
             ],
             [
              0.7777777777777778,
              "#fb9f3a"
             ],
             [
              0.8888888888888888,
              "#fdca26"
             ],
             [
              1,
              "#f0f921"
             ]
            ],
            "type": "histogram2d"
           }
          ],
          "histogram2dcontour": [
           {
            "colorbar": {
             "outlinewidth": 0,
             "ticks": ""
            },
            "colorscale": [
             [
              0,
              "#0d0887"
             ],
             [
              0.1111111111111111,
              "#46039f"
             ],
             [
              0.2222222222222222,
              "#7201a8"
             ],
             [
              0.3333333333333333,
              "#9c179e"
             ],
             [
              0.4444444444444444,
              "#bd3786"
             ],
             [
              0.5555555555555556,
              "#d8576b"
             ],
             [
              0.6666666666666666,
              "#ed7953"
             ],
             [
              0.7777777777777778,
              "#fb9f3a"
             ],
             [
              0.8888888888888888,
              "#fdca26"
             ],
             [
              1,
              "#f0f921"
             ]
            ],
            "type": "histogram2dcontour"
           }
          ],
          "mesh3d": [
           {
            "colorbar": {
             "outlinewidth": 0,
             "ticks": ""
            },
            "type": "mesh3d"
           }
          ],
          "parcoords": [
           {
            "line": {
             "colorbar": {
              "outlinewidth": 0,
              "ticks": ""
             }
            },
            "type": "parcoords"
           }
          ],
          "pie": [
           {
            "automargin": true,
            "type": "pie"
           }
          ],
          "scatter": [
           {
            "fillpattern": {
             "fillmode": "overlay",
             "size": 10,
             "solidity": 0.2
            },
            "type": "scatter"
           }
          ],
          "scatter3d": [
           {
            "line": {
             "colorbar": {
              "outlinewidth": 0,
              "ticks": ""
             }
            },
            "marker": {
             "colorbar": {
              "outlinewidth": 0,
              "ticks": ""
             }
            },
            "type": "scatter3d"
           }
          ],
          "scattercarpet": [
           {
            "marker": {
             "colorbar": {
              "outlinewidth": 0,
              "ticks": ""
             }
            },
            "type": "scattercarpet"
           }
          ],
          "scattergeo": [
           {
            "marker": {
             "colorbar": {
              "outlinewidth": 0,
              "ticks": ""
             }
            },
            "type": "scattergeo"
           }
          ],
          "scattergl": [
           {
            "marker": {
             "colorbar": {
              "outlinewidth": 0,
              "ticks": ""
             }
            },
            "type": "scattergl"
           }
          ],
          "scattermapbox": [
           {
            "marker": {
             "colorbar": {
              "outlinewidth": 0,
              "ticks": ""
             }
            },
            "type": "scattermapbox"
           }
          ],
          "scatterpolar": [
           {
            "marker": {
             "colorbar": {
              "outlinewidth": 0,
              "ticks": ""
             }
            },
            "type": "scatterpolar"
           }
          ],
          "scatterpolargl": [
           {
            "marker": {
             "colorbar": {
              "outlinewidth": 0,
              "ticks": ""
             }
            },
            "type": "scatterpolargl"
           }
          ],
          "scatterternary": [
           {
            "marker": {
             "colorbar": {
              "outlinewidth": 0,
              "ticks": ""
             }
            },
            "type": "scatterternary"
           }
          ],
          "surface": [
           {
            "colorbar": {
             "outlinewidth": 0,
             "ticks": ""
            },
            "colorscale": [
             [
              0,
              "#0d0887"
             ],
             [
              0.1111111111111111,
              "#46039f"
             ],
             [
              0.2222222222222222,
              "#7201a8"
             ],
             [
              0.3333333333333333,
              "#9c179e"
             ],
             [
              0.4444444444444444,
              "#bd3786"
             ],
             [
              0.5555555555555556,
              "#d8576b"
             ],
             [
              0.6666666666666666,
              "#ed7953"
             ],
             [
              0.7777777777777778,
              "#fb9f3a"
             ],
             [
              0.8888888888888888,
              "#fdca26"
             ],
             [
              1,
              "#f0f921"
             ]
            ],
            "type": "surface"
           }
          ],
          "table": [
           {
            "cells": {
             "fill": {
              "color": "#EBF0F8"
             },
             "line": {
              "color": "white"
             }
            },
            "header": {
             "fill": {
              "color": "#C8D4E3"
             },
             "line": {
              "color": "white"
             }
            },
            "type": "table"
           }
          ]
         },
         "layout": {
          "annotationdefaults": {
           "arrowcolor": "#2a3f5f",
           "arrowhead": 0,
           "arrowwidth": 1
          },
          "autotypenumbers": "strict",
          "coloraxis": {
           "colorbar": {
            "outlinewidth": 0,
            "ticks": ""
           }
          },
          "colorscale": {
           "diverging": [
            [
             0,
             "#8e0152"
            ],
            [
             0.1,
             "#c51b7d"
            ],
            [
             0.2,
             "#de77ae"
            ],
            [
             0.3,
             "#f1b6da"
            ],
            [
             0.4,
             "#fde0ef"
            ],
            [
             0.5,
             "#f7f7f7"
            ],
            [
             0.6,
             "#e6f5d0"
            ],
            [
             0.7,
             "#b8e186"
            ],
            [
             0.8,
             "#7fbc41"
            ],
            [
             0.9,
             "#4d9221"
            ],
            [
             1,
             "#276419"
            ]
           ],
           "sequential": [
            [
             0,
             "#0d0887"
            ],
            [
             0.1111111111111111,
             "#46039f"
            ],
            [
             0.2222222222222222,
             "#7201a8"
            ],
            [
             0.3333333333333333,
             "#9c179e"
            ],
            [
             0.4444444444444444,
             "#bd3786"
            ],
            [
             0.5555555555555556,
             "#d8576b"
            ],
            [
             0.6666666666666666,
             "#ed7953"
            ],
            [
             0.7777777777777778,
             "#fb9f3a"
            ],
            [
             0.8888888888888888,
             "#fdca26"
            ],
            [
             1,
             "#f0f921"
            ]
           ],
           "sequentialminus": [
            [
             0,
             "#0d0887"
            ],
            [
             0.1111111111111111,
             "#46039f"
            ],
            [
             0.2222222222222222,
             "#7201a8"
            ],
            [
             0.3333333333333333,
             "#9c179e"
            ],
            [
             0.4444444444444444,
             "#bd3786"
            ],
            [
             0.5555555555555556,
             "#d8576b"
            ],
            [
             0.6666666666666666,
             "#ed7953"
            ],
            [
             0.7777777777777778,
             "#fb9f3a"
            ],
            [
             0.8888888888888888,
             "#fdca26"
            ],
            [
             1,
             "#f0f921"
            ]
           ]
          },
          "colorway": [
           "#636efa",
           "#EF553B",
           "#00cc96",
           "#ab63fa",
           "#FFA15A",
           "#19d3f3",
           "#FF6692",
           "#B6E880",
           "#FF97FF",
           "#FECB52"
          ],
          "font": {
           "color": "#2a3f5f"
          },
          "geo": {
           "bgcolor": "white",
           "lakecolor": "white",
           "landcolor": "#E5ECF6",
           "showlakes": true,
           "showland": true,
           "subunitcolor": "white"
          },
          "hoverlabel": {
           "align": "left"
          },
          "hovermode": "closest",
          "mapbox": {
           "style": "light"
          },
          "paper_bgcolor": "white",
          "plot_bgcolor": "#E5ECF6",
          "polar": {
           "angularaxis": {
            "gridcolor": "white",
            "linecolor": "white",
            "ticks": ""
           },
           "bgcolor": "#E5ECF6",
           "radialaxis": {
            "gridcolor": "white",
            "linecolor": "white",
            "ticks": ""
           }
          },
          "scene": {
           "xaxis": {
            "backgroundcolor": "#E5ECF6",
            "gridcolor": "white",
            "gridwidth": 2,
            "linecolor": "white",
            "showbackground": true,
            "ticks": "",
            "zerolinecolor": "white"
           },
           "yaxis": {
            "backgroundcolor": "#E5ECF6",
            "gridcolor": "white",
            "gridwidth": 2,
            "linecolor": "white",
            "showbackground": true,
            "ticks": "",
            "zerolinecolor": "white"
           },
           "zaxis": {
            "backgroundcolor": "#E5ECF6",
            "gridcolor": "white",
            "gridwidth": 2,
            "linecolor": "white",
            "showbackground": true,
            "ticks": "",
            "zerolinecolor": "white"
           }
          },
          "shapedefaults": {
           "line": {
            "color": "#2a3f5f"
           }
          },
          "ternary": {
           "aaxis": {
            "gridcolor": "white",
            "linecolor": "white",
            "ticks": ""
           },
           "baxis": {
            "gridcolor": "white",
            "linecolor": "white",
            "ticks": ""
           },
           "bgcolor": "#E5ECF6",
           "caxis": {
            "gridcolor": "white",
            "linecolor": "white",
            "ticks": ""
           }
          },
          "title": {
           "x": 0.05
          },
          "xaxis": {
           "automargin": true,
           "gridcolor": "white",
           "linecolor": "white",
           "ticks": "",
           "title": {
            "standoff": 15
           },
           "zerolinecolor": "white",
           "zerolinewidth": 2
          },
          "yaxis": {
           "automargin": true,
           "gridcolor": "white",
           "linecolor": "white",
           "ticks": "",
           "title": {
            "standoff": 15
           },
           "zerolinecolor": "white",
           "zerolinewidth": 2
          }
         }
        },
        "title": {
         "text": "Optimization History Plot"
        },
        "xaxis": {
         "title": {
          "text": "Trial"
         }
        },
        "yaxis": {
         "title": {
          "text": "Objective Value"
         }
        }
       }
      }
     },
     "metadata": {},
     "output_type": "display_data"
    }
   ],
   "source": [
    "optuna.visualization.plot_optimization_history(optim)"
   ]
  },
  {
   "cell_type": "code",
   "execution_count": 15,
   "metadata": {},
   "outputs": [
    {
     "name": "stdout",
     "output_type": "stream",
     "text": [
      "{'n_estimators': 390, 'max_depth': 3, 'gamma': 0.13750853362003815, 'min_child_weight': 3, 'subsample': 0.8590465333986226, 'colsample_bytree': 0.9115209979837758, 'colsample_bylevel': 0.8689408714339835, 'colsample_bynode': 0.7060413028369135, 'reg_lambda': 0.8386194702033805, 'reg_alpha': 0.8821699376331796, 'scale_pos_weight': 2}\n"
     ]
    }
   ],
   "source": [
    "print(optim.best_params)"
   ]
  },
  {
   "cell_type": "code",
   "execution_count": 16,
   "metadata": {},
   "outputs": [
    {
     "data": {
      "text/html": [
       "<style>#sk-container-id-2 {color: black;background-color: white;}#sk-container-id-2 pre{padding: 0;}#sk-container-id-2 div.sk-toggleable {background-color: white;}#sk-container-id-2 label.sk-toggleable__label {cursor: pointer;display: block;width: 100%;margin-bottom: 0;padding: 0.3em;box-sizing: border-box;text-align: center;}#sk-container-id-2 label.sk-toggleable__label-arrow:before {content: \"▸\";float: left;margin-right: 0.25em;color: #696969;}#sk-container-id-2 label.sk-toggleable__label-arrow:hover:before {color: black;}#sk-container-id-2 div.sk-estimator:hover label.sk-toggleable__label-arrow:before {color: black;}#sk-container-id-2 div.sk-toggleable__content {max-height: 0;max-width: 0;overflow: hidden;text-align: left;background-color: #f0f8ff;}#sk-container-id-2 div.sk-toggleable__content pre {margin: 0.2em;color: black;border-radius: 0.25em;background-color: #f0f8ff;}#sk-container-id-2 input.sk-toggleable__control:checked~div.sk-toggleable__content {max-height: 200px;max-width: 100%;overflow: auto;}#sk-container-id-2 input.sk-toggleable__control:checked~label.sk-toggleable__label-arrow:before {content: \"▾\";}#sk-container-id-2 div.sk-estimator input.sk-toggleable__control:checked~label.sk-toggleable__label {background-color: #d4ebff;}#sk-container-id-2 div.sk-label input.sk-toggleable__control:checked~label.sk-toggleable__label {background-color: #d4ebff;}#sk-container-id-2 input.sk-hidden--visually {border: 0;clip: rect(1px 1px 1px 1px);clip: rect(1px, 1px, 1px, 1px);height: 1px;margin: -1px;overflow: hidden;padding: 0;position: absolute;width: 1px;}#sk-container-id-2 div.sk-estimator {font-family: monospace;background-color: #f0f8ff;border: 1px dotted black;border-radius: 0.25em;box-sizing: border-box;margin-bottom: 0.5em;}#sk-container-id-2 div.sk-estimator:hover {background-color: #d4ebff;}#sk-container-id-2 div.sk-parallel-item::after {content: \"\";width: 100%;border-bottom: 1px solid gray;flex-grow: 1;}#sk-container-id-2 div.sk-label:hover label.sk-toggleable__label {background-color: #d4ebff;}#sk-container-id-2 div.sk-serial::before {content: \"\";position: absolute;border-left: 1px solid gray;box-sizing: border-box;top: 0;bottom: 0;left: 50%;z-index: 0;}#sk-container-id-2 div.sk-serial {display: flex;flex-direction: column;align-items: center;background-color: white;padding-right: 0.2em;padding-left: 0.2em;position: relative;}#sk-container-id-2 div.sk-item {position: relative;z-index: 1;}#sk-container-id-2 div.sk-parallel {display: flex;align-items: stretch;justify-content: center;background-color: white;position: relative;}#sk-container-id-2 div.sk-item::before, #sk-container-id-2 div.sk-parallel-item::before {content: \"\";position: absolute;border-left: 1px solid gray;box-sizing: border-box;top: 0;bottom: 0;left: 50%;z-index: -1;}#sk-container-id-2 div.sk-parallel-item {display: flex;flex-direction: column;z-index: 1;position: relative;background-color: white;}#sk-container-id-2 div.sk-parallel-item:first-child::after {align-self: flex-end;width: 50%;}#sk-container-id-2 div.sk-parallel-item:last-child::after {align-self: flex-start;width: 50%;}#sk-container-id-2 div.sk-parallel-item:only-child::after {width: 0;}#sk-container-id-2 div.sk-dashed-wrapped {border: 1px dashed gray;margin: 0 0.4em 0.5em 0.4em;box-sizing: border-box;padding-bottom: 0.4em;background-color: white;}#sk-container-id-2 div.sk-label label {font-family: monospace;font-weight: bold;display: inline-block;line-height: 1.2em;}#sk-container-id-2 div.sk-label-container {text-align: center;}#sk-container-id-2 div.sk-container {/* jupyter's `normalize.less` sets `[hidden] { display: none; }` but bootstrap.min.css set `[hidden] { display: none !important; }` so we also need the `!important` here to be able to override the default hidden behavior on the sphinx rendered scikit-learn.org. See: https://github.com/scikit-learn/scikit-learn/issues/21755 */display: inline-block !important;position: relative;}#sk-container-id-2 div.sk-text-repr-fallback {display: none;}</style><div id=\"sk-container-id-2\" class=\"sk-top-container\"><div class=\"sk-text-repr-fallback\"><pre>XGBClassifier(base_score=None, booster=&#x27;gbtree&#x27;, callbacks=None,\n",
       "              colsample_bylevel=0.8689408714339835,\n",
       "              colsample_bynode=0.7060413028369135,\n",
       "              colsample_bytree=0.9115209979837758, early_stopping_rounds=None,\n",
       "              enable_categorical=False, eval_metric=&#x27;auc&#x27;, feature_types=None,\n",
       "              gamma=0.13750853362003815, gpu_id=None, grow_policy=None,\n",
       "              importance_type=None, interaction_constraints=None,\n",
       "              learning_rate=None, max_bin=None, max_cat_threshold=None,\n",
       "              max_cat_to_onehot=None, max_delta_step=None, max_depth=3,\n",
       "              max_leaves=None, min_child_weight=3, missing=nan,\n",
       "              monotone_constraints=None, n_estimators=390, n_jobs=None,\n",
       "              num_parallel_tree=None, predictor=None, random_state=302, ...)</pre><b>In a Jupyter environment, please rerun this cell to show the HTML representation or trust the notebook. <br />On GitHub, the HTML representation is unable to render, please try loading this page with nbviewer.org.</b></div><div class=\"sk-container\" hidden><div class=\"sk-item\"><div class=\"sk-estimator sk-toggleable\"><input class=\"sk-toggleable__control sk-hidden--visually\" id=\"sk-estimator-id-2\" type=\"checkbox\" checked><label for=\"sk-estimator-id-2\" class=\"sk-toggleable__label sk-toggleable__label-arrow\">XGBClassifier</label><div class=\"sk-toggleable__content\"><pre>XGBClassifier(base_score=None, booster=&#x27;gbtree&#x27;, callbacks=None,\n",
       "              colsample_bylevel=0.8689408714339835,\n",
       "              colsample_bynode=0.7060413028369135,\n",
       "              colsample_bytree=0.9115209979837758, early_stopping_rounds=None,\n",
       "              enable_categorical=False, eval_metric=&#x27;auc&#x27;, feature_types=None,\n",
       "              gamma=0.13750853362003815, gpu_id=None, grow_policy=None,\n",
       "              importance_type=None, interaction_constraints=None,\n",
       "              learning_rate=None, max_bin=None, max_cat_threshold=None,\n",
       "              max_cat_to_onehot=None, max_delta_step=None, max_depth=3,\n",
       "              max_leaves=None, min_child_weight=3, missing=nan,\n",
       "              monotone_constraints=None, n_estimators=390, n_jobs=None,\n",
       "              num_parallel_tree=None, predictor=None, random_state=302, ...)</pre></div></div></div></div></div>"
      ],
      "text/plain": [
       "XGBClassifier(base_score=None, booster='gbtree', callbacks=None,\n",
       "              colsample_bylevel=0.8689408714339835,\n",
       "              colsample_bynode=0.7060413028369135,\n",
       "              colsample_bytree=0.9115209979837758, early_stopping_rounds=None,\n",
       "              enable_categorical=False, eval_metric='auc', feature_types=None,\n",
       "              gamma=0.13750853362003815, gpu_id=None, grow_policy=None,\n",
       "              importance_type=None, interaction_constraints=None,\n",
       "              learning_rate=None, max_bin=None, max_cat_threshold=None,\n",
       "              max_cat_to_onehot=None, max_delta_step=None, max_depth=3,\n",
       "              max_leaves=None, min_child_weight=3, missing=nan,\n",
       "              monotone_constraints=None, n_estimators=390, n_jobs=None,\n",
       "              num_parallel_tree=None, predictor=None, random_state=302, ...)"
      ]
     },
     "execution_count": 16,
     "metadata": {},
     "output_type": "execute_result"
    }
   ],
   "source": [
    "params = optim.best_params\n",
    "model = xgboost.XGBClassifier(**params, objective='binary:logistic', eval_metric='auc', \n",
    "                              booster='gbtree', random_state=302)\n",
    "model.fit(X, Y)"
   ]
  },
  {
   "cell_type": "code",
   "execution_count": 17,
   "metadata": {},
   "outputs": [],
   "source": [
    "val_pred = model.predict(val_df)"
   ]
  },
  {
   "cell_type": "code",
   "execution_count": 18,
   "metadata": {},
   "outputs": [
    {
     "data": {
      "text/plain": [
       "<sklearn.metrics._plot.confusion_matrix.ConfusionMatrixDisplay at 0x15811a8f910>"
      ]
     },
     "execution_count": 18,
     "metadata": {},
     "output_type": "execute_result"
    },
    {
     "data": {
      "image/png": "[encoded data removed]",
      "text/plain": [
       "<Figure size 640x480 with 2 Axes>"
      ]
     },
     "metadata": {},
     "output_type": "display_data"
    }
   ],
   "source": [
    "cm = confusion_matrix(val['Class'], val_pred)\n",
    "disp = ConfusionMatrixDisplay(cm, display_labels=['Nomral', 'Fraud'])\n",
    "disp.plot()"
   ]
  },
  {
   "cell_type": "code",
   "execution_count": 19,
   "metadata": {},
   "outputs": [],
   "source": [
    "SCALER = MaxAbsScaler()\n",
    "SCALER.fit(train[USE_FEATURES])\n",
    "train[USE_FEATURES] = SCALER.transform(train[USE_FEATURES])\n",
    "val[USE_FEATURES] = SCALER.transform(val[USE_FEATURES])\n",
    "\n",
    "test[USE_FEATURES] = SCALER.transform(test[USE_FEATURES])\n",
    "test_df = test[USE_FEATURES]"
   ]
  },
  {
   "cell_type": "code",
   "execution_count": 20,
   "metadata": {},
   "outputs": [],
   "source": [
    "xgb_pred = model.predict(test_df)"
   ]
  },
  {
   "cell_type": "code",
   "execution_count": 21,
   "metadata": {},
   "outputs": [
    {
     "name": "stdout",
     "output_type": "stream",
     "text": [
      "Test Dataset Contamination Count: 7958\n",
      "Test Dataset Contamination Rate: 5.58%\n"
     ]
    }
   ],
   "source": [
    "print(f'Test Dataset Contamination Count: {xgb_pred[xgb_pred==1].sum()}')\n",
    "print(f'Test Dataset Contamination Rate: {np.round(xgb_pred[xgb_pred==1].sum()/len(xgb_pred)*100, 2)}%')"
   ]
  },
  {
   "cell_type": "code",
   "execution_count": 23,
   "metadata": {},
   "outputs": [],
   "source": [
    "submit = pd.read_csv('data/sample_submission.csv')\n",
    "submit['Class'] = xgb_pred\n",
    "submit.to_csv('submit/submit_Ensemble_KNN_XGboost.csv', index=False)"
   ]
  },
  {
   "cell_type": "code",
   "execution_count": 24,
   "metadata": {},
   "outputs": [
    {
     "data": {
      "text/plain": [
       "0    134545\n",
       "1      7958\n",
       "Name: Class, dtype: int64"
      ]
     },
     "execution_count": 24,
     "metadata": {},
     "output_type": "execute_result"
    }
   ],
   "source": [
    "submit['Class'].value_counts()"
   ]
  }
 ],
 "metadata": {
  "kernelspec": {
   "display_name": "myenv",
   "language": "python",
   "name": "python3"
  },
  "language_info": {
   "codemirror_mode": {
    "name": "ipython",
    "version": 3
   },
   "file_extension": ".py",
   "mimetype": "text/x-python",
   "name": "python",
   "nbconvert_exporter": "python",
   "pygments_lexer": "ipython3",
   "version": "3.9.16"
  },
  "orig_nbformat": 4
 },
 "nbformat": 4,
 "nbformat_minor": 2
}
